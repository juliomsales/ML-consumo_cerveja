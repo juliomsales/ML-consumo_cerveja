{
 "cells": [
  {
   "cell_type": "markdown",
   "metadata": {},
   "source": [
    "<h1 style='color: green; font-size: 36px; font-weight: bold;'>Data Science - Regressão</h1>"
   ]
  },
  {
   "cell_type": "markdown",
   "metadata": {},
   "source": [
    "# <font color='red' style='font-size: 30px;'>Conhecendo o Dataset</font>\n",
    "<hr style='border: 2px solid red;'>"
   ]
  },
  {
   "cell_type": "markdown",
   "metadata": {},
   "source": [
    "## Importando bibliotecas"
   ]
  },
  {
   "cell_type": "code",
   "execution_count": 1,
   "metadata": {
    "ExecuteTime": {
     "end_time": "2020-11-03T00:15:15.905448Z",
     "start_time": "2020-11-03T00:15:14.865417Z"
    }
   },
   "outputs": [],
   "source": [
    "import seaborn as sns\n",
    "import matplotlib.pyplot as plt\n",
    "%matplotlib inline\n",
    "sns.set_palette('Accent')\n",
    "sns.set_style('white')\n",
    "\n",
    "import pandas as pd\n",
    "import numpy as np\n",
    "import warnings\n",
    "\n",
    "from sklearn.linear_model import LinearRegression, Ridge, Lasso, ElasticNet\n",
    "from sklearn.tree import DecisionTreeRegressor\n",
    "from sklearn.ensemble import AdaBoostRegressor, ExtraTreesRegressor, GradientBoostingRegressor, RandomForestRegressor\n",
    "\n",
    "from sklearn.model_selection import GridSearchCV, train_test_split\n",
    "from sklearn.preprocessing import StandardScaler\n",
    "from sklearn import metrics\n",
    "\n",
    "warnings.filterwarnings(action='once')"
   ]
  },
  {
   "cell_type": "markdown",
   "metadata": {},
   "source": [
    "## O Dataset e o Projeto"
   ]
  },
  {
   "cell_type": "markdown",
   "metadata": {},
   "source": [
    "<hr>\n",
    "\n",
    "### Fonte: https://www.kaggle.com/dongeorge/beer-consumption-sao-paulo\n",
    "\n",
    "### Descrição:\n",
    "<p style='font-size: 18px; line-height: 2; margin: 10px 50px; text-align: justify;'>A cerveja é uma das bebidas mais democráticas e consumidas no mundo. Não sem razão, é perfeito para quase todas as situações, desde o happy hour até grandes festas de casamento.</p>\n",
    "\n",
    "<p style='font-size: 18px; line-height: 2; margin: 10px 50px; text-align: justify;'>O objetivo deste treinamento será estimar modelos de <b>Machine Learning</b> companhando diversas técnicas. No final do projeto teremos um modelo de previsão para o consumo médio de cerveja segundo os inputs de um conjunto de variáveis.</p>\n",
    "\n",
    "<p style='font-size: 18px; line-height: 2; margin: 10px 50px; text-align: justify;'>Os dados (amostra) foram coletados em São Paulo - Brasil, em uma área universitária, onde existem algumas festas com grupos de alunos de 18 a 28 anos de idade (média).</p>\n",
    "\n",
    "<p style='font-size: 18px; line-height: 2; margin: 10px 50px; text-align: justify;'>Esse projeto foi construído com base em um curso da Alura e utiliza um notebook parcialmente feito pela instituição.</p>\n",
    "\n",
    "### Dados:\n",
    "<ul style='font-size: 18px; line-height: 2; text-align: justify;'>\n",
    "    <li><b>data</b> - Data</li>\n",
    "    <li><b>temp_media</b> - Temperatura Média (°C)</li>\n",
    "    <li><b>temp_min</b> - Temperatura Mínima (°C)</li>\n",
    "    <li><b>temp_max</b> - Temperatura Máxima (°C)</li>\n",
    "    <li><b>chuva</b> - Precipitação (mm)</li>\n",
    "    <li><b>fds</b> - Final de Semana (1 = Sim; 0 = Não)</li>\n",
    "    <li><b>consumo</b> - Consumo de Cerveja (litros)</li>\n",
    "</ul>"
   ]
  },
  {
   "cell_type": "markdown",
   "metadata": {},
   "source": [
    "## Leitura e entendimento dos dados"
   ]
  },
  {
   "cell_type": "code",
   "execution_count": 2,
   "metadata": {
    "ExecuteTime": {
     "end_time": "2020-11-03T00:15:15.936386Z",
     "start_time": "2020-11-03T00:15:15.906443Z"
    }
   },
   "outputs": [
    {
     "data": {
      "text/html": [
       "<div>\n",
       "<style scoped>\n",
       "    .dataframe tbody tr th:only-of-type {\n",
       "        vertical-align: middle;\n",
       "    }\n",
       "\n",
       "    .dataframe tbody tr th {\n",
       "        vertical-align: top;\n",
       "    }\n",
       "\n",
       "    .dataframe thead th {\n",
       "        text-align: right;\n",
       "    }\n",
       "</style>\n",
       "<table border=\"1\" class=\"dataframe\">\n",
       "  <thead>\n",
       "    <tr style=\"text-align: right;\">\n",
       "      <th></th>\n",
       "      <th>data</th>\n",
       "      <th>temp_media</th>\n",
       "      <th>temp_min</th>\n",
       "      <th>temp_max</th>\n",
       "      <th>chuva</th>\n",
       "      <th>fds</th>\n",
       "      <th>consumo</th>\n",
       "    </tr>\n",
       "  </thead>\n",
       "  <tbody>\n",
       "    <tr>\n",
       "      <th>0</th>\n",
       "      <td>01/01/2015</td>\n",
       "      <td>27.30</td>\n",
       "      <td>23.9</td>\n",
       "      <td>32.5</td>\n",
       "      <td>0.0</td>\n",
       "      <td>0</td>\n",
       "      <td>25461</td>\n",
       "    </tr>\n",
       "    <tr>\n",
       "      <th>1</th>\n",
       "      <td>02/01/2015</td>\n",
       "      <td>27.02</td>\n",
       "      <td>24.5</td>\n",
       "      <td>33.5</td>\n",
       "      <td>0.0</td>\n",
       "      <td>0</td>\n",
       "      <td>28972</td>\n",
       "    </tr>\n",
       "    <tr>\n",
       "      <th>2</th>\n",
       "      <td>03/01/2015</td>\n",
       "      <td>24.82</td>\n",
       "      <td>22.4</td>\n",
       "      <td>29.9</td>\n",
       "      <td>0.0</td>\n",
       "      <td>1</td>\n",
       "      <td>30814</td>\n",
       "    </tr>\n",
       "    <tr>\n",
       "      <th>3</th>\n",
       "      <td>04/01/2015</td>\n",
       "      <td>23.98</td>\n",
       "      <td>21.5</td>\n",
       "      <td>28.6</td>\n",
       "      <td>1.2</td>\n",
       "      <td>1</td>\n",
       "      <td>29799</td>\n",
       "    </tr>\n",
       "    <tr>\n",
       "      <th>4</th>\n",
       "      <td>05/01/2015</td>\n",
       "      <td>23.82</td>\n",
       "      <td>21.0</td>\n",
       "      <td>28.3</td>\n",
       "      <td>0.0</td>\n",
       "      <td>0</td>\n",
       "      <td>28900</td>\n",
       "    </tr>\n",
       "    <tr>\n",
       "      <th>...</th>\n",
       "      <td>...</td>\n",
       "      <td>...</td>\n",
       "      <td>...</td>\n",
       "      <td>...</td>\n",
       "      <td>...</td>\n",
       "      <td>...</td>\n",
       "      <td>...</td>\n",
       "    </tr>\n",
       "    <tr>\n",
       "      <th>360</th>\n",
       "      <td>27/12/2015</td>\n",
       "      <td>24.00</td>\n",
       "      <td>21.1</td>\n",
       "      <td>28.2</td>\n",
       "      <td>13.6</td>\n",
       "      <td>1</td>\n",
       "      <td>32307</td>\n",
       "    </tr>\n",
       "    <tr>\n",
       "      <th>361</th>\n",
       "      <td>28/12/2015</td>\n",
       "      <td>22.64</td>\n",
       "      <td>21.1</td>\n",
       "      <td>26.7</td>\n",
       "      <td>0.0</td>\n",
       "      <td>0</td>\n",
       "      <td>26095</td>\n",
       "    </tr>\n",
       "    <tr>\n",
       "      <th>362</th>\n",
       "      <td>29/12/2015</td>\n",
       "      <td>21.68</td>\n",
       "      <td>20.3</td>\n",
       "      <td>24.1</td>\n",
       "      <td>10.3</td>\n",
       "      <td>0</td>\n",
       "      <td>22309</td>\n",
       "    </tr>\n",
       "    <tr>\n",
       "      <th>363</th>\n",
       "      <td>30/12/2015</td>\n",
       "      <td>21.38</td>\n",
       "      <td>19.3</td>\n",
       "      <td>22.4</td>\n",
       "      <td>6.3</td>\n",
       "      <td>0</td>\n",
       "      <td>20467</td>\n",
       "    </tr>\n",
       "    <tr>\n",
       "      <th>364</th>\n",
       "      <td>31/12/2015</td>\n",
       "      <td>24.76</td>\n",
       "      <td>20.2</td>\n",
       "      <td>29.0</td>\n",
       "      <td>0.0</td>\n",
       "      <td>0</td>\n",
       "      <td>22446</td>\n",
       "    </tr>\n",
       "  </tbody>\n",
       "</table>\n",
       "<p>365 rows × 7 columns</p>\n",
       "</div>"
      ],
      "text/plain": [
       "           data  temp_media  temp_min  temp_max  chuva  fds  consumo\n",
       "0    01/01/2015       27.30      23.9      32.5    0.0    0    25461\n",
       "1    02/01/2015       27.02      24.5      33.5    0.0    0    28972\n",
       "2    03/01/2015       24.82      22.4      29.9    0.0    1    30814\n",
       "3    04/01/2015       23.98      21.5      28.6    1.2    1    29799\n",
       "4    05/01/2015       23.82      21.0      28.3    0.0    0    28900\n",
       "..          ...         ...       ...       ...    ...  ...      ...\n",
       "360  27/12/2015       24.00      21.1      28.2   13.6    1    32307\n",
       "361  28/12/2015       22.64      21.1      26.7    0.0    0    26095\n",
       "362  29/12/2015       21.68      20.3      24.1   10.3    0    22309\n",
       "363  30/12/2015       21.38      19.3      22.4    6.3    0    20467\n",
       "364  31/12/2015       24.76      20.2      29.0    0.0    0    22446\n",
       "\n",
       "[365 rows x 7 columns]"
      ]
     },
     "execution_count": 2,
     "metadata": {},
     "output_type": "execute_result"
    }
   ],
   "source": [
    "dados = pd.read_csv('../Dados/Consumo_cerveja.csv', sep=';')\n",
    "dados"
   ]
  },
  {
   "cell_type": "code",
   "execution_count": 3,
   "metadata": {
    "ExecuteTime": {
     "end_time": "2020-11-03T00:15:15.952447Z",
     "start_time": "2020-11-03T00:15:15.938378Z"
    }
   },
   "outputs": [
    {
     "data": {
      "text/plain": [
       "(365, 7)"
      ]
     },
     "execution_count": 3,
     "metadata": {},
     "output_type": "execute_result"
    }
   ],
   "source": [
    "# Verificando as dimensões do dataset\n",
    "dados.shape"
   ]
  },
  {
   "cell_type": "code",
   "execution_count": 4,
   "metadata": {
    "ExecuteTime": {
     "end_time": "2020-11-03T00:15:15.967429Z",
     "start_time": "2020-11-03T00:15:15.953443Z"
    }
   },
   "outputs": [
    {
     "data": {
      "text/plain": [
       "data           object\n",
       "temp_media    float64\n",
       "temp_min      float64\n",
       "temp_max      float64\n",
       "chuva         float64\n",
       "fds             int64\n",
       "consumo         int64\n",
       "dtype: object"
      ]
     },
     "execution_count": 4,
     "metadata": {},
     "output_type": "execute_result"
    }
   ],
   "source": [
    "# Verificando os tipos das variáveis\n",
    "dados.dtypes"
   ]
  },
  {
   "cell_type": "code",
   "execution_count": 5,
   "metadata": {
    "ExecuteTime": {
     "end_time": "2020-11-03T00:15:15.982386Z",
     "start_time": "2020-11-03T00:15:15.968424Z"
    }
   },
   "outputs": [
    {
     "data": {
      "text/plain": [
       "data          0.0\n",
       "temp_media    0.0\n",
       "temp_min      0.0\n",
       "temp_max      0.0\n",
       "chuva         0.0\n",
       "fds           0.0\n",
       "consumo       0.0\n",
       "dtype: float64"
      ]
     },
     "execution_count": 5,
     "metadata": {},
     "output_type": "execute_result"
    }
   ],
   "source": [
    "# Verificando porcentagem de valores missing\n",
    "(dados.isnull().sum() / len(dados)) * 100"
   ]
  },
  {
   "cell_type": "markdown",
   "metadata": {},
   "source": [
    "# <font color='red' style='font-size: 30px;'>Análises Preliminares</font>\n",
    "<hr style='border: 2px solid red;'>"
   ]
  },
  {
   "cell_type": "markdown",
   "metadata": {},
   "source": [
    "## Estatísticas descritivas"
   ]
  },
  {
   "cell_type": "code",
   "execution_count": 6,
   "metadata": {
    "ExecuteTime": {
     "end_time": "2020-11-03T00:15:16.013307Z",
     "start_time": "2020-11-03T00:15:15.983384Z"
    }
   },
   "outputs": [
    {
     "data": {
      "text/html": [
       "<div>\n",
       "<style scoped>\n",
       "    .dataframe tbody tr th:only-of-type {\n",
       "        vertical-align: middle;\n",
       "    }\n",
       "\n",
       "    .dataframe tbody tr th {\n",
       "        vertical-align: top;\n",
       "    }\n",
       "\n",
       "    .dataframe thead th {\n",
       "        text-align: right;\n",
       "    }\n",
       "</style>\n",
       "<table border=\"1\" class=\"dataframe\">\n",
       "  <thead>\n",
       "    <tr style=\"text-align: right;\">\n",
       "      <th></th>\n",
       "      <th>temp_media</th>\n",
       "      <th>temp_min</th>\n",
       "      <th>temp_max</th>\n",
       "      <th>chuva</th>\n",
       "      <th>fds</th>\n",
       "      <th>consumo</th>\n",
       "    </tr>\n",
       "  </thead>\n",
       "  <tbody>\n",
       "    <tr>\n",
       "      <th>count</th>\n",
       "      <td>365.00</td>\n",
       "      <td>365.00</td>\n",
       "      <td>365.00</td>\n",
       "      <td>365.00</td>\n",
       "      <td>365.00</td>\n",
       "      <td>365.00</td>\n",
       "    </tr>\n",
       "    <tr>\n",
       "      <th>mean</th>\n",
       "      <td>21.23</td>\n",
       "      <td>17.46</td>\n",
       "      <td>26.61</td>\n",
       "      <td>5.20</td>\n",
       "      <td>0.28</td>\n",
       "      <td>25401.37</td>\n",
       "    </tr>\n",
       "    <tr>\n",
       "      <th>std</th>\n",
       "      <td>3.18</td>\n",
       "      <td>2.83</td>\n",
       "      <td>4.32</td>\n",
       "      <td>12.42</td>\n",
       "      <td>0.45</td>\n",
       "      <td>4399.14</td>\n",
       "    </tr>\n",
       "    <tr>\n",
       "      <th>min</th>\n",
       "      <td>12.90</td>\n",
       "      <td>10.60</td>\n",
       "      <td>14.50</td>\n",
       "      <td>0.00</td>\n",
       "      <td>0.00</td>\n",
       "      <td>14343.00</td>\n",
       "    </tr>\n",
       "    <tr>\n",
       "      <th>25%</th>\n",
       "      <td>19.02</td>\n",
       "      <td>15.30</td>\n",
       "      <td>23.80</td>\n",
       "      <td>0.00</td>\n",
       "      <td>0.00</td>\n",
       "      <td>22008.00</td>\n",
       "    </tr>\n",
       "    <tr>\n",
       "      <th>50%</th>\n",
       "      <td>21.38</td>\n",
       "      <td>17.90</td>\n",
       "      <td>26.90</td>\n",
       "      <td>0.00</td>\n",
       "      <td>0.00</td>\n",
       "      <td>24867.00</td>\n",
       "    </tr>\n",
       "    <tr>\n",
       "      <th>75%</th>\n",
       "      <td>23.28</td>\n",
       "      <td>19.60</td>\n",
       "      <td>29.40</td>\n",
       "      <td>3.20</td>\n",
       "      <td>1.00</td>\n",
       "      <td>28631.00</td>\n",
       "    </tr>\n",
       "    <tr>\n",
       "      <th>max</th>\n",
       "      <td>28.86</td>\n",
       "      <td>24.50</td>\n",
       "      <td>36.50</td>\n",
       "      <td>94.80</td>\n",
       "      <td>1.00</td>\n",
       "      <td>37937.00</td>\n",
       "    </tr>\n",
       "  </tbody>\n",
       "</table>\n",
       "</div>"
      ],
      "text/plain": [
       "       temp_media  temp_min  temp_max   chuva     fds   consumo\n",
       "count      365.00    365.00    365.00  365.00  365.00    365.00\n",
       "mean        21.23     17.46     26.61    5.20    0.28  25401.37\n",
       "std          3.18      2.83      4.32   12.42    0.45   4399.14\n",
       "min         12.90     10.60     14.50    0.00    0.00  14343.00\n",
       "25%         19.02     15.30     23.80    0.00    0.00  22008.00\n",
       "50%         21.38     17.90     26.90    0.00    0.00  24867.00\n",
       "75%         23.28     19.60     29.40    3.20    1.00  28631.00\n",
       "max         28.86     24.50     36.50   94.80    1.00  37937.00"
      ]
     },
     "execution_count": 6,
     "metadata": {},
     "output_type": "execute_result"
    }
   ],
   "source": [
    "dados.describe().round(2)"
   ]
  },
  {
   "cell_type": "markdown",
   "metadata": {},
   "source": [
    "## Matriz de correlação"
   ]
  },
  {
   "cell_type": "code",
   "execution_count": 7,
   "metadata": {
    "ExecuteTime": {
     "end_time": "2020-11-03T00:15:16.028263Z",
     "start_time": "2020-11-03T00:15:16.014301Z"
    }
   },
   "outputs": [
    {
     "data": {
      "text/html": [
       "<div>\n",
       "<style scoped>\n",
       "    .dataframe tbody tr th:only-of-type {\n",
       "        vertical-align: middle;\n",
       "    }\n",
       "\n",
       "    .dataframe tbody tr th {\n",
       "        vertical-align: top;\n",
       "    }\n",
       "\n",
       "    .dataframe thead th {\n",
       "        text-align: right;\n",
       "    }\n",
       "</style>\n",
       "<table border=\"1\" class=\"dataframe\">\n",
       "  <thead>\n",
       "    <tr style=\"text-align: right;\">\n",
       "      <th></th>\n",
       "      <th>temp_media</th>\n",
       "      <th>temp_min</th>\n",
       "      <th>temp_max</th>\n",
       "      <th>chuva</th>\n",
       "      <th>fds</th>\n",
       "      <th>consumo</th>\n",
       "    </tr>\n",
       "  </thead>\n",
       "  <tbody>\n",
       "    <tr>\n",
       "      <th>temp_media</th>\n",
       "      <td>1.0000</td>\n",
       "      <td>0.8628</td>\n",
       "      <td>0.9225</td>\n",
       "      <td>0.0244</td>\n",
       "      <td>-0.0508</td>\n",
       "      <td>0.5746</td>\n",
       "    </tr>\n",
       "    <tr>\n",
       "      <th>temp_min</th>\n",
       "      <td>0.8628</td>\n",
       "      <td>1.0000</td>\n",
       "      <td>0.6729</td>\n",
       "      <td>0.0986</td>\n",
       "      <td>-0.0595</td>\n",
       "      <td>0.3925</td>\n",
       "    </tr>\n",
       "    <tr>\n",
       "      <th>temp_max</th>\n",
       "      <td>0.9225</td>\n",
       "      <td>0.6729</td>\n",
       "      <td>1.0000</td>\n",
       "      <td>-0.0493</td>\n",
       "      <td>-0.0403</td>\n",
       "      <td>0.6427</td>\n",
       "    </tr>\n",
       "    <tr>\n",
       "      <th>chuva</th>\n",
       "      <td>0.0244</td>\n",
       "      <td>0.0986</td>\n",
       "      <td>-0.0493</td>\n",
       "      <td>1.0000</td>\n",
       "      <td>0.0016</td>\n",
       "      <td>-0.1938</td>\n",
       "    </tr>\n",
       "    <tr>\n",
       "      <th>fds</th>\n",
       "      <td>-0.0508</td>\n",
       "      <td>-0.0595</td>\n",
       "      <td>-0.0403</td>\n",
       "      <td>0.0016</td>\n",
       "      <td>1.0000</td>\n",
       "      <td>0.5060</td>\n",
       "    </tr>\n",
       "    <tr>\n",
       "      <th>consumo</th>\n",
       "      <td>0.5746</td>\n",
       "      <td>0.3925</td>\n",
       "      <td>0.6427</td>\n",
       "      <td>-0.1938</td>\n",
       "      <td>0.5060</td>\n",
       "      <td>1.0000</td>\n",
       "    </tr>\n",
       "  </tbody>\n",
       "</table>\n",
       "</div>"
      ],
      "text/plain": [
       "            temp_media  temp_min  temp_max   chuva     fds  consumo\n",
       "temp_media      1.0000    0.8628    0.9225  0.0244 -0.0508   0.5746\n",
       "temp_min        0.8628    1.0000    0.6729  0.0986 -0.0595   0.3925\n",
       "temp_max        0.9225    0.6729    1.0000 -0.0493 -0.0403   0.6427\n",
       "chuva           0.0244    0.0986   -0.0493  1.0000  0.0016  -0.1938\n",
       "fds            -0.0508   -0.0595   -0.0403  0.0016  1.0000   0.5060\n",
       "consumo         0.5746    0.3925    0.6427 -0.1938  0.5060   1.0000"
      ]
     },
     "execution_count": 7,
     "metadata": {},
     "output_type": "execute_result"
    }
   ],
   "source": [
    "dados.corr().round(4)"
   ]
  },
  {
   "cell_type": "code",
   "execution_count": 8,
   "metadata": {
    "ExecuteTime": {
     "end_time": "2020-11-03T00:15:16.310509Z",
     "start_time": "2020-11-03T00:15:16.030259Z"
    }
   },
   "outputs": [
    {
     "data": {
      "text/plain": [
       "<matplotlib.axes._subplots.AxesSubplot at 0x1a96b6cb760>"
      ]
     },
     "execution_count": 8,
     "metadata": {},
     "output_type": "execute_result"
    },
    {
     "data": {
      "image/png": "[encoded data removed]",
      "text/plain": [
       "<Figure size 432x288 with 2 Axes>"
      ]
     },
     "metadata": {},
     "output_type": "display_data"
    }
   ],
   "source": [
    "sns.heatmap(dados.corr(), annot=True)"
   ]
  },
  {
   "cell_type": "markdown",
   "metadata": {},
   "source": [
    "<p style='font-size: 18px; line-height: 2; margin: 10px 50px; text-align: justify;'> Observa-se correlações como esperado entre o consumo e as features. </p>"
   ]
  },
  {
   "cell_type": "markdown",
   "metadata": {
    "heading_collapsed": true
   },
   "source": [
    "# <font color='red' style='font-size: 30px;'>Comportamento do target (consumo)</font>\n",
    "<hr style='border: 2px solid red;'>"
   ]
  },
  {
   "cell_type": "markdown",
   "metadata": {
    "hidden": true
   },
   "source": [
    "## Análises gráficas gerais"
   ]
  },
  {
   "cell_type": "code",
   "execution_count": 9,
   "metadata": {
    "ExecuteTime": {
     "end_time": "2020-11-03T00:15:16.562834Z",
     "start_time": "2020-11-03T00:15:16.311506Z"
    },
    "hidden": true
   },
   "outputs": [
    {
     "data": {
      "image/png": "[encoded data removed]",
      "text/plain": [
       "<Figure size 1440x432 with 1 Axes>"
      ]
     },
     "metadata": {},
     "output_type": "display_data"
    }
   ],
   "source": [
    "fig, ax = plt.subplots(figsize=(20, 6))\n",
    "\n",
    "ax.set_title('Consumo de cerveja', fontsize=20)\n",
    "ax.set_ylabel('Litros', fontsize=16)\n",
    "ax.set_xlabel('Dias', fontsize=16)\n",
    "ax = dados['consumo'].plot(fontsize=14)"
   ]
  },
  {
   "cell_type": "code",
   "execution_count": 10,
   "metadata": {
    "ExecuteTime": {
     "end_time": "2020-11-03T00:15:16.672447Z",
     "start_time": "2020-11-03T00:15:16.563832Z"
    },
    "hidden": true
   },
   "outputs": [
    {
     "data": {
      "text/plain": [
       "<matplotlib.axes._subplots.AxesSubplot at 0x1a96bf5fbb0>"
      ]
     },
     "execution_count": 10,
     "metadata": {},
     "output_type": "execute_result"
    },
    {
     "data": {
      "image/png": "[encoded data removed]",
      "text/plain": [
       "<Figure size 864x432 with 1 Axes>"
      ]
     },
     "metadata": {},
     "output_type": "display_data"
    }
   ],
   "source": [
    "ax = sns.boxplot(data=dados['consumo'], orient='v', width=0.2)\n",
    "ax.figure.set_size_inches(12, 6)\n",
    "ax.set_title('Consumo de cerveja', fontsize=20)\n",
    "ax.set_ylabel('Litros', fontsize=16)\n",
    "ax"
   ]
  },
  {
   "cell_type": "markdown",
   "metadata": {
    "hidden": true
   },
   "source": [
    "<p style='font-size: 18px; line-height: 2; margin: 10px 50px; text-align: justify;'> Não foram verificados outliers no consumo. </p>"
   ]
  },
  {
   "cell_type": "markdown",
   "metadata": {
    "hidden": true
   },
   "source": [
    "## Distribuição de frequências"
   ]
  },
  {
   "cell_type": "code",
   "execution_count": 11,
   "metadata": {
    "ExecuteTime": {
     "end_time": "2020-11-03T00:15:16.905865Z",
     "start_time": "2020-11-03T00:15:16.673444Z"
    },
    "hidden": true
   },
   "outputs": [
    {
     "name": "stderr",
     "output_type": "stream",
     "text": [
      "C:\\Users\\julio\\anaconda3\\lib\\site-packages\\seaborn\\distributions.py:2551: FutureWarning: `distplot` is a deprecated function and will be removed in a future version. Please adapt your code to use either `displot` (a figure-level function with similar flexibility) or `histplot` (an axes-level function for histograms).\n",
      "  warnings.warn(msg, FutureWarning)\n"
     ]
    },
    {
     "data": {
      "text/plain": [
       "<matplotlib.axes._subplots.AxesSubplot at 0x1a96c153670>"
      ]
     },
     "execution_count": 11,
     "metadata": {},
     "output_type": "execute_result"
    },
    {
     "data": {
      "image/png": "[encoded data removed]",
      "text/plain": [
       "<Figure size 864x432 with 1 Axes>"
      ]
     },
     "metadata": {},
     "output_type": "display_data"
    }
   ],
   "source": [
    "ax = sns.distplot(dados['consumo'])\n",
    "ax.figure.set_size_inches(12, 6)\n",
    "ax.set_title('Distribuição de Frequências', fontsize=20)\n",
    "ax.set_ylabel('Consumio de cerveja', fontsize=16)\n",
    "ax"
   ]
  },
  {
   "cell_type": "markdown",
   "metadata": {
    "hidden": true
   },
   "source": [
    "## Gráficos de dispersão entre as features e o target"
   ]
  },
  {
   "cell_type": "code",
   "execution_count": 12,
   "metadata": {
    "ExecuteTime": {
     "end_time": "2020-11-03T00:15:18.933444Z",
     "start_time": "2020-11-03T00:15:16.906865Z"
    },
    "hidden": true
   },
   "outputs": [
    {
     "data": {
      "text/plain": [
       "<seaborn.axisgrid.PairGrid at 0x1a96be9c1f0>"
      ]
     },
     "execution_count": 12,
     "metadata": {},
     "output_type": "execute_result"
    },
    {
     "data": {
      "image/png": "[encoded data removed]",
      "text/plain": [
       "<Figure size 900x180 with 5 Axes>"
      ]
     },
     "metadata": {},
     "output_type": "display_data"
    }
   ],
   "source": [
    "ax = sns.pairplot(dados, y_vars='consumo', x_vars=['temp_max', 'temp_media', 'temp_min', 'chuva', 'fds'], kind='reg')\n",
    "ax.fig.suptitle('Dispersão entre as variáveis e o consumo', fontsize=20, y=1.05)\n",
    "ax"
   ]
  },
  {
   "cell_type": "markdown",
   "metadata": {
    "hidden": true
   },
   "source": [
    "<p style='font-size: 18px; line-height: 2; margin: 10px 50px; text-align: justify;'>Uma outra visualização entre consumo x fds, para entender melhor a correlação."
   ]
  },
  {
   "cell_type": "code",
   "execution_count": 13,
   "metadata": {
    "ExecuteTime": {
     "end_time": "2020-11-03T00:15:19.059109Z",
     "start_time": "2020-11-03T00:15:18.934442Z"
    },
    "hidden": true
   },
   "outputs": [
    {
     "data": {
      "text/plain": [
       "<matplotlib.axes._subplots.AxesSubplot at 0x1a96bf6c6d0>"
      ]
     },
     "execution_count": 13,
     "metadata": {},
     "output_type": "execute_result"
    },
    {
     "data": {
      "image/png": "[encoded data removed]",
      "text/plain": [
       "<Figure size 864x432 with 1 Axes>"
      ]
     },
     "metadata": {},
     "output_type": "display_data"
    }
   ],
   "source": [
    "ax = sns.boxplot(y='consumo', x='fds', data=dados, orient='v', width=0.5)\n",
    "ax.figure.set_size_inches(12, 6)\n",
    "ax.set_title('Consumo de cerveja', fontsize=20)\n",
    "ax.set_ylabel('Litros', fontsize=16)\n",
    "ax.set_xlabel('Final de Semana', fontsize=16)\n",
    "ax"
   ]
  },
  {
   "cell_type": "markdown",
   "metadata": {
    "ExecuteTime": {
     "end_time": "2020-11-02T14:46:48.979544Z",
     "start_time": "2020-11-02T14:46:48.971565Z"
    },
    "hidden": true
   },
   "source": [
    "<p style='font-size: 18px; line-height: 2; margin: 10px 50px; text-align: justify;'> Observa-se que nos finais de semana consome-se mais cerveja.</p>\n",
    "<p style='font-size: 18px; line-height: 2; margin: 10px 50px; text-align: justify;'>Existem alguns outliers na semana, provavelmente por se tratar de algum feriado ou de sextas-feiras.</p>"
   ]
  },
  {
   "cell_type": "markdown",
   "metadata": {},
   "source": [
    "# <font color='red' style='font-size: 30px;'>Entendendo a feature (temp_max) com maior correlação com o consumo</font>\n",
    "<hr style='border: 2px solid red;'>"
   ]
  },
  {
   "cell_type": "markdown",
   "metadata": {},
   "source": [
    "## Plots com a reta de regressão estimada"
   ]
  },
  {
   "cell_type": "code",
   "execution_count": 14,
   "metadata": {
    "ExecuteTime": {
     "end_time": "2020-11-03T00:15:19.935765Z",
     "start_time": "2020-11-03T00:15:19.061104Z"
    }
   },
   "outputs": [
    {
     "data": {
      "text/plain": [
       "<seaborn.axisgrid.JointGrid at 0x1a96c578ac0>"
      ]
     },
     "execution_count": 14,
     "metadata": {},
     "output_type": "execute_result"
    },
    {
     "data": {
      "image/png": "[encoded data removed]",
      "text/plain": [
       "<Figure size 432x432 with 3 Axes>"
      ]
     },
     "metadata": {},
     "output_type": "display_data"
    }
   ],
   "source": [
    "ax = sns.jointplot(x='temp_max', y='consumo', data=dados, kind='reg')\n",
    "ax.fig.suptitle('Dispersão - Consumo X Temperatura', fontsize=18, y=1.05)\n",
    "ax.set_axis_labels('Temperatura máxima', 'Consumo de cerveja', fontsize=14)\n",
    "ax"
   ]
  },
  {
   "cell_type": "markdown",
   "metadata": {},
   "source": [
    "<p style='font-size: 18px; line-height: 2; margin: 10px 50px; text-align: justify;'>\n",
    "Com essa visualização é possível verificar (como já entendido com as correlações) que o aumento da temperatura máxima faz com que o consumo de cerveja aumente.\n",
    "</p>\n",
    "<p style='font-size: 18px; line-height: 2; margin: 10px 50px; text-align: justify;'>\n",
    "Além disso, verifica-se que a maior concentração de temperatura está na faixa de 27 graus e a maior concentração de consumo de cerveja está na faixa de 22 mil litros por dia.\n",
    "</p>"
   ]
  },
  {
   "cell_type": "code",
   "execution_count": 15,
   "metadata": {
    "ExecuteTime": {
     "end_time": "2020-11-03T00:15:20.716676Z",
     "start_time": "2020-11-03T00:15:19.936762Z"
    }
   },
   "outputs": [
    {
     "data": {
      "text/plain": [
       "<seaborn.axisgrid.FacetGrid at 0x1a96c153b20>"
      ]
     },
     "execution_count": 15,
     "metadata": {},
     "output_type": "execute_result"
    },
    {
     "data": {
      "image/png": "[encoded data removed]",
      "text/plain": [
       "<Figure size 444.25x360 with 1 Axes>"
      ]
     },
     "metadata": {},
     "output_type": "display_data"
    }
   ],
   "source": [
    "ax = sns.lmplot(x='temp_max', y='consumo', data=dados, hue='fds', markers=['o', 's'], legend=False)\n",
    "ax.fig.suptitle('Reta de Regressão - Consumo X Temperatura', fontsize=16, y=1.02)\n",
    "ax.set_xlabels('Temperatura Máxima (ºC)', fontsize=14)\n",
    "ax.set_ylabels('Consumo de Cerveja (litros)', fontsize=14)\n",
    "ax.add_legend(title='Fim de Semana?')\n",
    "ax"
   ]
  },
  {
   "cell_type": "code",
   "execution_count": 16,
   "metadata": {
    "ExecuteTime": {
     "end_time": "2020-11-03T00:15:21.809753Z",
     "start_time": "2020-11-03T00:15:20.717673Z"
    },
    "scrolled": false
   },
   "outputs": [
    {
     "data": {
      "text/plain": [
       "<seaborn.axisgrid.FacetGrid at 0x1a96c8142b0>"
      ]
     },
     "execution_count": 16,
     "metadata": {},
     "output_type": "execute_result"
    },
    {
     "data": {
      "image/png": "[encoded data removed]",
      "text/plain": [
       "<Figure size 804.25x360 with 2 Axes>"
      ]
     },
     "metadata": {},
     "output_type": "display_data"
    }
   ],
   "source": [
    "ax = sns.lmplot(x='temp_max', y='consumo', data=dados, col='fds')\n",
    "ax.fig.suptitle('Consumo X Temperatura', fontsize=16, y=1.02)\n",
    "ax.set_xlabels('Temperatura Máxima (ºC)', fontsize=14)\n",
    "ax.set_ylabels('Consumo de Cerveja (litros)', fontsize=14)\n",
    "ax.add_legend(title='Fim de Semana?')\n",
    "ax"
   ]
  },
  {
   "cell_type": "markdown",
   "metadata": {
    "ExecuteTime": {
     "end_time": "2020-11-02T15:14:17.428226Z",
     "start_time": "2020-11-02T15:14:17.411272Z"
    }
   },
   "source": [
    "<p style='font-size: 18px; line-height: 2; margin: 10px 50px; text-align: justify;'>\n",
    "Levando em conta o final de semana, além da temperatura máxima, a regressão estimada é aparentemente mais precisa. É uma tendência que nos finais de semana se consuma mais cerveja que nos dias de semana dada a mesma temperatura.\n",
    "</p>"
   ]
  },
  {
   "cell_type": "markdown",
   "metadata": {},
   "source": [
    "# <font color='red' style='font-size: 30px;'>Estimando Modelos de Regressão para o Consumo</font>\n",
    "<hr style='border: 2px solid red;'>"
   ]
  },
  {
   "cell_type": "markdown",
   "metadata": {},
   "source": [
    "## Preparação dos dados"
   ]
  },
  {
   "cell_type": "code",
   "execution_count": 17,
   "metadata": {
    "ExecuteTime": {
     "end_time": "2020-11-03T00:15:21.824748Z",
     "start_time": "2020-11-03T00:15:21.810750Z"
    }
   },
   "outputs": [],
   "source": [
    "y = dados['consumo']"
   ]
  },
  {
   "cell_type": "markdown",
   "metadata": {},
   "source": [
    "Não faz sentido usar como feature três indicações de temperatura. Foi escolhida a temperatura máxima por ser a com maior correlação."
   ]
  },
  {
   "cell_type": "code",
   "execution_count": 18,
   "metadata": {
    "ExecuteTime": {
     "end_time": "2020-11-03T00:15:21.840739Z",
     "start_time": "2020-11-03T00:15:21.825743Z"
    }
   },
   "outputs": [],
   "source": [
    "x = dados[['temp_max', 'chuva', 'fds']]"
   ]
  },
  {
   "cell_type": "code",
   "execution_count": 19,
   "metadata": {
    "ExecuteTime": {
     "end_time": "2020-11-03T00:15:21.856443Z",
     "start_time": "2020-11-03T00:15:21.841736Z"
    }
   },
   "outputs": [],
   "source": [
    "x_train, x_test, y_train, y_test = train_test_split(x, y, test_size=0.3, random_state=10)"
   ]
  },
  {
   "cell_type": "code",
   "execution_count": 20,
   "metadata": {
    "ExecuteTime": {
     "end_time": "2020-11-03T00:15:21.872401Z",
     "start_time": "2020-11-03T00:15:21.857438Z"
    }
   },
   "outputs": [
    {
     "data": {
      "text/html": [
       "<div>\n",
       "<style scoped>\n",
       "    .dataframe tbody tr th:only-of-type {\n",
       "        vertical-align: middle;\n",
       "    }\n",
       "\n",
       "    .dataframe tbody tr th {\n",
       "        vertical-align: top;\n",
       "    }\n",
       "\n",
       "    .dataframe thead th {\n",
       "        text-align: right;\n",
       "    }\n",
       "</style>\n",
       "<table border=\"1\" class=\"dataframe\">\n",
       "  <thead>\n",
       "    <tr style=\"text-align: right;\">\n",
       "      <th></th>\n",
       "      <th>Modelo</th>\n",
       "      <th>MSE</th>\n",
       "      <th>RMSE</th>\n",
       "      <th>R²</th>\n",
       "    </tr>\n",
       "  </thead>\n",
       "  <tbody>\n",
       "  </tbody>\n",
       "</table>\n",
       "</div>"
      ],
      "text/plain": [
       "Empty DataFrame\n",
       "Columns: [Modelo, MSE, RMSE, R²]\n",
       "Index: []"
      ]
     },
     "execution_count": 20,
     "metadata": {},
     "output_type": "execute_result"
    }
   ],
   "source": [
    "metricas = pd.DataFrame(columns=['Modelo', 'MSE', 'RMSE', 'R²'])\n",
    "metricas"
   ]
  },
  {
   "cell_type": "markdown",
   "metadata": {},
   "source": [
    "## *LinearRegression*"
   ]
  },
  {
   "cell_type": "code",
   "execution_count": 21,
   "metadata": {
    "ExecuteTime": {
     "end_time": "2020-11-03T00:15:21.887358Z",
     "start_time": "2020-11-03T00:15:21.873396Z"
    }
   },
   "outputs": [],
   "source": [
    "modelo = LinearRegression()\n",
    "modelo.fit(x_train, y_train)\n",
    "y_previsto = modelo.predict(x_test)"
   ]
  },
  {
   "cell_type": "code",
   "execution_count": 22,
   "metadata": {
    "ExecuteTime": {
     "end_time": "2020-11-03T00:15:21.918275Z",
     "start_time": "2020-11-03T00:15:21.889353Z"
    }
   },
   "outputs": [
    {
     "data": {
      "text/html": [
       "<div>\n",
       "<style scoped>\n",
       "    .dataframe tbody tr th:only-of-type {\n",
       "        vertical-align: middle;\n",
       "    }\n",
       "\n",
       "    .dataframe tbody tr th {\n",
       "        vertical-align: top;\n",
       "    }\n",
       "\n",
       "    .dataframe thead th {\n",
       "        text-align: right;\n",
       "    }\n",
       "</style>\n",
       "<table border=\"1\" class=\"dataframe\">\n",
       "  <thead>\n",
       "    <tr style=\"text-align: right;\">\n",
       "      <th></th>\n",
       "      <th>Modelo</th>\n",
       "      <th>MSE</th>\n",
       "      <th>RMSE</th>\n",
       "      <th>R²</th>\n",
       "    </tr>\n",
       "  </thead>\n",
       "  <tbody>\n",
       "    <tr>\n",
       "      <th>0</th>\n",
       "      <td>LinearRegression()</td>\n",
       "      <td>6066751.892</td>\n",
       "      <td>2463.078</td>\n",
       "      <td>0.694</td>\n",
       "    </tr>\n",
       "  </tbody>\n",
       "</table>\n",
       "</div>"
      ],
      "text/plain": [
       "               Modelo          MSE      RMSE     R²\n",
       "0  LinearRegression()  6066751.892  2463.078  0.694"
      ]
     },
     "execution_count": 22,
     "metadata": {},
     "output_type": "execute_result"
    }
   ],
   "source": [
    "EQM = metrics.mean_squared_error(y_test, y_previsto).round(3)\n",
    "REQM = np.sqrt(metrics.mean_squared_error(y_test, y_previsto)).round(3)\n",
    "R2 = metrics.r2_score(y_test, y_previsto).round(3)\n",
    "\n",
    "metricas = metricas.append({'Modelo':modelo, 'MSE':EQM, 'RMSE':REQM, 'R²':R2}, ignore_index=True)\n",
    "metricas"
   ]
  },
  {
   "cell_type": "markdown",
   "metadata": {},
   "source": [
    "## *Ridge*"
   ]
  },
  {
   "cell_type": "code",
   "execution_count": 23,
   "metadata": {
    "ExecuteTime": {
     "end_time": "2020-11-03T00:15:21.966147Z",
     "start_time": "2020-11-03T00:15:21.951187Z"
    }
   },
   "outputs": [],
   "source": [
    "modelo = Ridge()\n",
    "modelo.fit(x_train, y_train)\n",
    "y_previsto = modelo.predict(x_test)"
   ]
  },
  {
   "cell_type": "code",
   "execution_count": 24,
   "metadata": {
    "ExecuteTime": {
     "end_time": "2020-11-03T00:15:21.998062Z",
     "start_time": "2020-11-03T00:15:21.967145Z"
    },
    "scrolled": false
   },
   "outputs": [
    {
     "data": {
      "text/html": [
       "<div>\n",
       "<style scoped>\n",
       "    .dataframe tbody tr th:only-of-type {\n",
       "        vertical-align: middle;\n",
       "    }\n",
       "\n",
       "    .dataframe tbody tr th {\n",
       "        vertical-align: top;\n",
       "    }\n",
       "\n",
       "    .dataframe thead th {\n",
       "        text-align: right;\n",
       "    }\n",
       "</style>\n",
       "<table border=\"1\" class=\"dataframe\">\n",
       "  <thead>\n",
       "    <tr style=\"text-align: right;\">\n",
       "      <th></th>\n",
       "      <th>Modelo</th>\n",
       "      <th>MSE</th>\n",
       "      <th>RMSE</th>\n",
       "      <th>R²</th>\n",
       "    </tr>\n",
       "  </thead>\n",
       "  <tbody>\n",
       "    <tr>\n",
       "      <th>0</th>\n",
       "      <td>LinearRegression()</td>\n",
       "      <td>6066751.892</td>\n",
       "      <td>2463.078</td>\n",
       "      <td>0.694</td>\n",
       "    </tr>\n",
       "    <tr>\n",
       "      <th>1</th>\n",
       "      <td>Ridge()</td>\n",
       "      <td>6037027.010</td>\n",
       "      <td>2457.036</td>\n",
       "      <td>0.695</td>\n",
       "    </tr>\n",
       "  </tbody>\n",
       "</table>\n",
       "</div>"
      ],
      "text/plain": [
       "               Modelo          MSE      RMSE     R²\n",
       "0  LinearRegression()  6066751.892  2463.078  0.694\n",
       "1             Ridge()  6037027.010  2457.036  0.695"
      ]
     },
     "execution_count": 24,
     "metadata": {},
     "output_type": "execute_result"
    }
   ],
   "source": [
    "EQM = metrics.mean_squared_error(y_test, y_previsto).round(3)\n",
    "REQM = np.sqrt(metrics.mean_squared_error(y_test, y_previsto)).round(3)\n",
    "R2 = metrics.r2_score(y_test, y_previsto).round(3)\n",
    "\n",
    "metricas = metricas.append({'Modelo':modelo, 'MSE':EQM, 'RMSE':REQM, 'R²':R2}, ignore_index=True)\n",
    "metricas"
   ]
  },
  {
   "cell_type": "markdown",
   "metadata": {},
   "source": [
    "## *Lasso*"
   ]
  },
  {
   "cell_type": "code",
   "execution_count": 25,
   "metadata": {
    "ExecuteTime": {
     "end_time": "2020-11-03T00:15:21.966147Z",
     "start_time": "2020-11-03T00:15:21.951187Z"
    }
   },
   "outputs": [],
   "source": [
    "modelo = Lasso()\n",
    "modelo.fit(x_train, y_train)\n",
    "y_previsto = modelo.predict(x_test)"
   ]
  },
  {
   "cell_type": "code",
   "execution_count": 26,
   "metadata": {
    "ExecuteTime": {
     "end_time": "2020-11-03T00:15:21.998062Z",
     "start_time": "2020-11-03T00:15:21.967145Z"
    }
   },
   "outputs": [
    {
     "data": {
      "text/html": [
       "<div>\n",
       "<style scoped>\n",
       "    .dataframe tbody tr th:only-of-type {\n",
       "        vertical-align: middle;\n",
       "    }\n",
       "\n",
       "    .dataframe tbody tr th {\n",
       "        vertical-align: top;\n",
       "    }\n",
       "\n",
       "    .dataframe thead th {\n",
       "        text-align: right;\n",
       "    }\n",
       "</style>\n",
       "<table border=\"1\" class=\"dataframe\">\n",
       "  <thead>\n",
       "    <tr style=\"text-align: right;\">\n",
       "      <th></th>\n",
       "      <th>Modelo</th>\n",
       "      <th>MSE</th>\n",
       "      <th>RMSE</th>\n",
       "      <th>R²</th>\n",
       "    </tr>\n",
       "  </thead>\n",
       "  <tbody>\n",
       "    <tr>\n",
       "      <th>0</th>\n",
       "      <td>LinearRegression()</td>\n",
       "      <td>6066751.892</td>\n",
       "      <td>2463.078</td>\n",
       "      <td>0.694</td>\n",
       "    </tr>\n",
       "    <tr>\n",
       "      <th>1</th>\n",
       "      <td>Ridge()</td>\n",
       "      <td>6037027.010</td>\n",
       "      <td>2457.036</td>\n",
       "      <td>0.695</td>\n",
       "    </tr>\n",
       "    <tr>\n",
       "      <th>2</th>\n",
       "      <td>Lasso()</td>\n",
       "      <td>6065291.680</td>\n",
       "      <td>2462.781</td>\n",
       "      <td>0.694</td>\n",
       "    </tr>\n",
       "  </tbody>\n",
       "</table>\n",
       "</div>"
      ],
      "text/plain": [
       "               Modelo          MSE      RMSE     R²\n",
       "0  LinearRegression()  6066751.892  2463.078  0.694\n",
       "1             Ridge()  6037027.010  2457.036  0.695\n",
       "2             Lasso()  6065291.680  2462.781  0.694"
      ]
     },
     "execution_count": 26,
     "metadata": {},
     "output_type": "execute_result"
    }
   ],
   "source": [
    "EQM = metrics.mean_squared_error(y_test, y_previsto).round(3)\n",
    "REQM = np.sqrt(metrics.mean_squared_error(y_test, y_previsto)).round(3)\n",
    "R2 = metrics.r2_score(y_test, y_previsto).round(3)\n",
    "\n",
    "metricas = metricas.append({'Modelo':modelo, 'MSE':EQM, 'RMSE':REQM, 'R²':R2}, ignore_index=True)\n",
    "metricas"
   ]
  },
  {
   "cell_type": "markdown",
   "metadata": {},
   "source": [
    "## *ElasticNet*"
   ]
  },
  {
   "cell_type": "code",
   "execution_count": 27,
   "metadata": {
    "ExecuteTime": {
     "end_time": "2020-11-03T00:15:24.935207Z",
     "start_time": "2020-11-03T00:15:22.000056Z"
    }
   },
   "outputs": [
    {
     "name": "stdout",
     "output_type": "stream",
     "text": [
      "Melhor Score: 0.7062395331641784\n",
      "Melhor Alpha: 0.05\n",
      "Melhor l1 ratio: 0.9\n"
     ]
    }
   ],
   "source": [
    "modelo = ElasticNet()\n",
    "\n",
    "valores = {\n",
    "    'alpha': [0.01, 0.05, 0.1, 0.5, 1, 2, 5],\n",
    "    'l1_ratio': [0.1, 0.2, 0.3, 0.4, 0.5, 0.5, 0.7, 0.8, 0.9, 1.0]\n",
    "}\n",
    "search = GridSearchCV(estimator=modelo, param_grid=valores, cv=5, n_jobs=-1)\n",
    "search.fit(x_train, y_train)\n",
    "y_previsto = search.predict(x_test)\n",
    "print('Melhor Score:', search.best_score_)\n",
    "print('Melhor Alpha:', search.best_estimator_.alpha)\n",
    "print('Melhor l1 ratio:', search.best_estimator_.l1_ratio)"
   ]
  },
  {
   "cell_type": "code",
   "execution_count": 28,
   "metadata": {
    "ExecuteTime": {
     "end_time": "2020-11-03T00:15:24.965154Z",
     "start_time": "2020-11-03T00:15:24.936205Z"
    }
   },
   "outputs": [
    {
     "data": {
      "text/html": [
       "<div>\n",
       "<style scoped>\n",
       "    .dataframe tbody tr th:only-of-type {\n",
       "        vertical-align: middle;\n",
       "    }\n",
       "\n",
       "    .dataframe tbody tr th {\n",
       "        vertical-align: top;\n",
       "    }\n",
       "\n",
       "    .dataframe thead th {\n",
       "        text-align: right;\n",
       "    }\n",
       "</style>\n",
       "<table border=\"1\" class=\"dataframe\">\n",
       "  <thead>\n",
       "    <tr style=\"text-align: right;\">\n",
       "      <th></th>\n",
       "      <th>Modelo</th>\n",
       "      <th>MSE</th>\n",
       "      <th>RMSE</th>\n",
       "      <th>R²</th>\n",
       "    </tr>\n",
       "  </thead>\n",
       "  <tbody>\n",
       "    <tr>\n",
       "      <th>0</th>\n",
       "      <td>LinearRegression()</td>\n",
       "      <td>6066751.892</td>\n",
       "      <td>2463.078</td>\n",
       "      <td>0.694</td>\n",
       "    </tr>\n",
       "    <tr>\n",
       "      <th>1</th>\n",
       "      <td>Ridge()</td>\n",
       "      <td>6037027.010</td>\n",
       "      <td>2457.036</td>\n",
       "      <td>0.695</td>\n",
       "    </tr>\n",
       "    <tr>\n",
       "      <th>2</th>\n",
       "      <td>Lasso()</td>\n",
       "      <td>6065291.680</td>\n",
       "      <td>2462.781</td>\n",
       "      <td>0.694</td>\n",
       "    </tr>\n",
       "    <tr>\n",
       "      <th>3</th>\n",
       "      <td>ElasticNet()</td>\n",
       "      <td>6029687.291</td>\n",
       "      <td>2455.542</td>\n",
       "      <td>0.696</td>\n",
       "    </tr>\n",
       "  </tbody>\n",
       "</table>\n",
       "</div>"
      ],
      "text/plain": [
       "               Modelo          MSE      RMSE     R²\n",
       "0  LinearRegression()  6066751.892  2463.078  0.694\n",
       "1             Ridge()  6037027.010  2457.036  0.695\n",
       "2             Lasso()  6065291.680  2462.781  0.694\n",
       "3        ElasticNet()  6029687.291  2455.542  0.696"
      ]
     },
     "execution_count": 28,
     "metadata": {},
     "output_type": "execute_result"
    }
   ],
   "source": [
    "EQM = metrics.mean_squared_error(y_test, y_previsto).round(3)\n",
    "REQM = np.sqrt(metrics.mean_squared_error(y_test, y_previsto)).round(3)\n",
    "R2 = metrics.r2_score(y_test, y_previsto).round(3)\n",
    "\n",
    "metricas = metricas.append({'Modelo':modelo, 'MSE':EQM, 'RMSE':REQM, 'R²':R2}, ignore_index=True)\n",
    "metricas"
   ]
  },
  {
   "cell_type": "markdown",
   "metadata": {},
   "source": [
    "## DecisionTree"
   ]
  },
  {
   "cell_type": "code",
   "execution_count": 29,
   "metadata": {
    "ExecuteTime": {
     "end_time": "2020-11-03T00:15:25.763021Z",
     "start_time": "2020-11-03T00:15:24.966152Z"
    }
   },
   "outputs": [
    {
     "name": "stdout",
     "output_type": "stream",
     "text": [
      "Mínimo split:  5\n",
      "Máxima profundidade:  4\n",
      "Algoritmo escolhido:  mse\n",
      "Acurácia:  0.6779137995376185\n"
     ]
    }
   ],
   "source": [
    "modelo = DecisionTreeRegressor()\n",
    "\n",
    "minimos_split = np.array([2, 3, 4, 5, 6, 7])\n",
    "maximo_nivel = np.array([3, 4, 5, 6, 7, 9, 10, 11])\n",
    "algoritmo = ['mse', 'friedman_mse', 'mae']\n",
    "valores_grid = {'min_samples_split': minimos_split, 'max_depth': maximo_nivel, 'criterion': algoritmo}\n",
    "\n",
    "search = GridSearchCV(estimator=modelo, param_grid=valores_grid, cv=5, n_jobs=-1)\n",
    "search.fit(x_train, y_train)\n",
    "y_previsto = search.predict(x_test)\n",
    "\n",
    "print('Mínimo split: ', search.best_estimator_.min_samples_split)\n",
    "print('Máxima profundidade: ', search.best_estimator_.max_depth)\n",
    "print('Algoritmo escolhido: ', search.best_estimator_.criterion)\n",
    "print('Acurácia: ', search.best_score_)"
   ]
  },
  {
   "cell_type": "code",
   "execution_count": 30,
   "metadata": {
    "ExecuteTime": {
     "end_time": "2020-11-03T00:15:25.778978Z",
     "start_time": "2020-11-03T00:15:25.764018Z"
    }
   },
   "outputs": [
    {
     "data": {
      "text/html": [
       "<div>\n",
       "<style scoped>\n",
       "    .dataframe tbody tr th:only-of-type {\n",
       "        vertical-align: middle;\n",
       "    }\n",
       "\n",
       "    .dataframe tbody tr th {\n",
       "        vertical-align: top;\n",
       "    }\n",
       "\n",
       "    .dataframe thead th {\n",
       "        text-align: right;\n",
       "    }\n",
       "</style>\n",
       "<table border=\"1\" class=\"dataframe\">\n",
       "  <thead>\n",
       "    <tr style=\"text-align: right;\">\n",
       "      <th></th>\n",
       "      <th>Modelo</th>\n",
       "      <th>MSE</th>\n",
       "      <th>RMSE</th>\n",
       "      <th>R²</th>\n",
       "    </tr>\n",
       "  </thead>\n",
       "  <tbody>\n",
       "    <tr>\n",
       "      <th>0</th>\n",
       "      <td>LinearRegression()</td>\n",
       "      <td>6066751.892</td>\n",
       "      <td>2463.078</td>\n",
       "      <td>0.694</td>\n",
       "    </tr>\n",
       "    <tr>\n",
       "      <th>1</th>\n",
       "      <td>Ridge()</td>\n",
       "      <td>6037027.010</td>\n",
       "      <td>2457.036</td>\n",
       "      <td>0.695</td>\n",
       "    </tr>\n",
       "    <tr>\n",
       "      <th>2</th>\n",
       "      <td>Lasso()</td>\n",
       "      <td>6065291.680</td>\n",
       "      <td>2462.781</td>\n",
       "      <td>0.694</td>\n",
       "    </tr>\n",
       "    <tr>\n",
       "      <th>3</th>\n",
       "      <td>ElasticNet()</td>\n",
       "      <td>6029687.291</td>\n",
       "      <td>2455.542</td>\n",
       "      <td>0.696</td>\n",
       "    </tr>\n",
       "    <tr>\n",
       "      <th>4</th>\n",
       "      <td>DecisionTreeRegressor()</td>\n",
       "      <td>8425743.190</td>\n",
       "      <td>2902.713</td>\n",
       "      <td>0.575</td>\n",
       "    </tr>\n",
       "  </tbody>\n",
       "</table>\n",
       "</div>"
      ],
      "text/plain": [
       "                    Modelo          MSE      RMSE     R²\n",
       "0       LinearRegression()  6066751.892  2463.078  0.694\n",
       "1                  Ridge()  6037027.010  2457.036  0.695\n",
       "2                  Lasso()  6065291.680  2462.781  0.694\n",
       "3             ElasticNet()  6029687.291  2455.542  0.696\n",
       "4  DecisionTreeRegressor()  8425743.190  2902.713  0.575"
      ]
     },
     "execution_count": 30,
     "metadata": {},
     "output_type": "execute_result"
    }
   ],
   "source": [
    "EQM = metrics.mean_squared_error(y_test, y_previsto).round(3)\n",
    "REQM = np.sqrt(metrics.mean_squared_error(y_test, y_previsto)).round(3)\n",
    "R2 = metrics.r2_score(y_test, y_previsto).round(3)\n",
    "\n",
    "metricas = metricas.append({'Modelo':modelo, 'MSE':EQM, 'RMSE':REQM, 'R²':R2}, ignore_index=True)\n",
    "metricas"
   ]
  },
  {
   "cell_type": "markdown",
   "metadata": {},
   "source": [
    "## AdaBoost"
   ]
  },
  {
   "cell_type": "code",
   "execution_count": 31,
   "metadata": {
    "ExecuteTime": {
     "end_time": "2020-11-03T00:15:26.123066Z",
     "start_time": "2020-11-03T00:15:25.780974Z"
    }
   },
   "outputs": [
    {
     "name": "stdout",
     "output_type": "stream",
     "text": [
      "Melhor taxa de aprendizagem:  0.3\n",
      "Acurácia:  0.6858407113084948\n"
     ]
    }
   ],
   "source": [
    "modelo = AdaBoostRegressor()\n",
    "valores_grid ={'learning_rate': np.array([0.3, 0.2, 0.1, 0.05])}\n",
    "search = GridSearchCV(estimator=modelo, param_grid=valores_grid, cv=5, n_jobs=-1)\n",
    "search.fit(x_train, y_train)\n",
    "y_previsto = search.predict(x_test)\n",
    "\n",
    "print('Melhor taxa de aprendizagem: ', search.best_estimator_.learning_rate)\n",
    "print('Acurácia: ', search.best_score_)"
   ]
  },
  {
   "cell_type": "code",
   "execution_count": 32,
   "metadata": {
    "ExecuteTime": {
     "end_time": "2020-11-03T00:15:26.153976Z",
     "start_time": "2020-11-03T00:15:26.124056Z"
    }
   },
   "outputs": [
    {
     "data": {
      "text/html": [
       "<div>\n",
       "<style scoped>\n",
       "    .dataframe tbody tr th:only-of-type {\n",
       "        vertical-align: middle;\n",
       "    }\n",
       "\n",
       "    .dataframe tbody tr th {\n",
       "        vertical-align: top;\n",
       "    }\n",
       "\n",
       "    .dataframe thead th {\n",
       "        text-align: right;\n",
       "    }\n",
       "</style>\n",
       "<table border=\"1\" class=\"dataframe\">\n",
       "  <thead>\n",
       "    <tr style=\"text-align: right;\">\n",
       "      <th></th>\n",
       "      <th>Modelo</th>\n",
       "      <th>MSE</th>\n",
       "      <th>RMSE</th>\n",
       "      <th>R²</th>\n",
       "    </tr>\n",
       "  </thead>\n",
       "  <tbody>\n",
       "    <tr>\n",
       "      <th>0</th>\n",
       "      <td>LinearRegression()</td>\n",
       "      <td>6066751.892</td>\n",
       "      <td>2463.078</td>\n",
       "      <td>0.694</td>\n",
       "    </tr>\n",
       "    <tr>\n",
       "      <th>1</th>\n",
       "      <td>Ridge()</td>\n",
       "      <td>6037027.010</td>\n",
       "      <td>2457.036</td>\n",
       "      <td>0.695</td>\n",
       "    </tr>\n",
       "    <tr>\n",
       "      <th>2</th>\n",
       "      <td>Lasso()</td>\n",
       "      <td>6065291.680</td>\n",
       "      <td>2462.781</td>\n",
       "      <td>0.694</td>\n",
       "    </tr>\n",
       "    <tr>\n",
       "      <th>3</th>\n",
       "      <td>ElasticNet()</td>\n",
       "      <td>6029687.291</td>\n",
       "      <td>2455.542</td>\n",
       "      <td>0.696</td>\n",
       "    </tr>\n",
       "    <tr>\n",
       "      <th>4</th>\n",
       "      <td>DecisionTreeRegressor()</td>\n",
       "      <td>8425743.190</td>\n",
       "      <td>2902.713</td>\n",
       "      <td>0.575</td>\n",
       "    </tr>\n",
       "    <tr>\n",
       "      <th>5</th>\n",
       "      <td>AdaBoostRegressor()</td>\n",
       "      <td>7232418.868</td>\n",
       "      <td>2689.316</td>\n",
       "      <td>0.635</td>\n",
       "    </tr>\n",
       "  </tbody>\n",
       "</table>\n",
       "</div>"
      ],
      "text/plain": [
       "                    Modelo          MSE      RMSE     R²\n",
       "0       LinearRegression()  6066751.892  2463.078  0.694\n",
       "1                  Ridge()  6037027.010  2457.036  0.695\n",
       "2                  Lasso()  6065291.680  2462.781  0.694\n",
       "3             ElasticNet()  6029687.291  2455.542  0.696\n",
       "4  DecisionTreeRegressor()  8425743.190  2902.713  0.575\n",
       "5      AdaBoostRegressor()  7232418.868  2689.316  0.635"
      ]
     },
     "execution_count": 32,
     "metadata": {},
     "output_type": "execute_result"
    }
   ],
   "source": [
    "EQM = metrics.mean_squared_error(y_test, y_previsto).round(3)\n",
    "REQM = np.sqrt(metrics.mean_squared_error(y_test, y_previsto)).round(3)\n",
    "R2 = metrics.r2_score(y_test, y_previsto).round(3)\n",
    "\n",
    "metricas = metricas.append({'Modelo':modelo, 'MSE':EQM, 'RMSE':REQM, 'R²':R2}, ignore_index=True)\n",
    "metricas"
   ]
  },
  {
   "cell_type": "markdown",
   "metadata": {},
   "source": [
    "## Extra Trees"
   ]
  },
  {
   "cell_type": "code",
   "execution_count": 33,
   "metadata": {
    "ExecuteTime": {
     "end_time": "2020-11-03T00:15:37.265260Z",
     "start_time": "2020-11-03T00:15:26.155970Z"
    }
   },
   "outputs": [
    {
     "name": "stdout",
     "output_type": "stream",
     "text": [
      "Melhor critério:  mse\n",
      "Melhor profundidade máxima:  6\n",
      "Melhor amostragem minima:  4\n",
      "Melhor amostragem de ramos:  2\n",
      "Acurácia:  0.7067338274986952\n"
     ]
    }
   ],
   "source": [
    "modelo = ExtraTreesRegressor()\n",
    "\n",
    "criterion = ['mse', 'mae']\n",
    "max_depth = np.array([3, 4, 5, 6])\n",
    "min_samples_split = np.array([1, 2, 3, 4])\n",
    "min_samples_leaf = np.array([1, 2, 3, 4])\n",
    "\n",
    "valores_grid = {\n",
    "    'criterion': criterion,\n",
    "    'max_depth': max_depth,\n",
    "    'min_samples_split': min_samples_split,\n",
    "    'min_samples_leaf': min_samples_leaf\n",
    "}\n",
    "\n",
    "search = GridSearchCV(estimator=modelo,\n",
    "                      param_grid=valores_grid,\n",
    "                      cv=5,\n",
    "                      n_jobs=-1)\n",
    "search.fit(x_train, y_train)\n",
    "y_previsto = search.predict(x_test)\n",
    "\n",
    "print('Melhor critério: ', search.best_estimator_.criterion)\n",
    "print('Melhor profundidade máxima: ', search.best_estimator_.max_depth)\n",
    "print('Melhor amostragem minima: ', search.best_estimator_.min_samples_split)\n",
    "print('Melhor amostragem de ramos: ', search.best_estimator_.min_samples_leaf)\n",
    "print('Acurácia: ', search.best_score_)"
   ]
  },
  {
   "cell_type": "code",
   "execution_count": 34,
   "metadata": {
    "ExecuteTime": {
     "end_time": "2020-11-03T00:15:37.296179Z",
     "start_time": "2020-11-03T00:15:37.266258Z"
    }
   },
   "outputs": [
    {
     "data": {
      "text/html": [
       "<div>\n",
       "<style scoped>\n",
       "    .dataframe tbody tr th:only-of-type {\n",
       "        vertical-align: middle;\n",
       "    }\n",
       "\n",
       "    .dataframe tbody tr th {\n",
       "        vertical-align: top;\n",
       "    }\n",
       "\n",
       "    .dataframe thead th {\n",
       "        text-align: right;\n",
       "    }\n",
       "</style>\n",
       "<table border=\"1\" class=\"dataframe\">\n",
       "  <thead>\n",
       "    <tr style=\"text-align: right;\">\n",
       "      <th></th>\n",
       "      <th>Modelo</th>\n",
       "      <th>MSE</th>\n",
       "      <th>RMSE</th>\n",
       "      <th>R²</th>\n",
       "    </tr>\n",
       "  </thead>\n",
       "  <tbody>\n",
       "    <tr>\n",
       "      <th>0</th>\n",
       "      <td>LinearRegression()</td>\n",
       "      <td>6066751.892</td>\n",
       "      <td>2463.078</td>\n",
       "      <td>0.694</td>\n",
       "    </tr>\n",
       "    <tr>\n",
       "      <th>1</th>\n",
       "      <td>Ridge()</td>\n",
       "      <td>6037027.010</td>\n",
       "      <td>2457.036</td>\n",
       "      <td>0.695</td>\n",
       "    </tr>\n",
       "    <tr>\n",
       "      <th>2</th>\n",
       "      <td>Lasso()</td>\n",
       "      <td>6065291.680</td>\n",
       "      <td>2462.781</td>\n",
       "      <td>0.694</td>\n",
       "    </tr>\n",
       "    <tr>\n",
       "      <th>3</th>\n",
       "      <td>ElasticNet()</td>\n",
       "      <td>6029687.291</td>\n",
       "      <td>2455.542</td>\n",
       "      <td>0.696</td>\n",
       "    </tr>\n",
       "    <tr>\n",
       "      <th>4</th>\n",
       "      <td>DecisionTreeRegressor()</td>\n",
       "      <td>8425743.190</td>\n",
       "      <td>2902.713</td>\n",
       "      <td>0.575</td>\n",
       "    </tr>\n",
       "    <tr>\n",
       "      <th>5</th>\n",
       "      <td>AdaBoostRegressor()</td>\n",
       "      <td>7232418.868</td>\n",
       "      <td>2689.316</td>\n",
       "      <td>0.635</td>\n",
       "    </tr>\n",
       "    <tr>\n",
       "      <th>6</th>\n",
       "      <td>ExtraTreesRegressor()</td>\n",
       "      <td>7171136.050</td>\n",
       "      <td>2677.898</td>\n",
       "      <td>0.638</td>\n",
       "    </tr>\n",
       "  </tbody>\n",
       "</table>\n",
       "</div>"
      ],
      "text/plain": [
       "                    Modelo          MSE      RMSE     R²\n",
       "0       LinearRegression()  6066751.892  2463.078  0.694\n",
       "1                  Ridge()  6037027.010  2457.036  0.695\n",
       "2                  Lasso()  6065291.680  2462.781  0.694\n",
       "3             ElasticNet()  6029687.291  2455.542  0.696\n",
       "4  DecisionTreeRegressor()  8425743.190  2902.713  0.575\n",
       "5      AdaBoostRegressor()  7232418.868  2689.316  0.635\n",
       "6    ExtraTreesRegressor()  7171136.050  2677.898  0.638"
      ]
     },
     "execution_count": 34,
     "metadata": {},
     "output_type": "execute_result"
    }
   ],
   "source": [
    "EQM = metrics.mean_squared_error(y_test, y_previsto).round(3)\n",
    "REQM = np.sqrt(metrics.mean_squared_error(y_test, y_previsto)).round(3)\n",
    "R2 = metrics.r2_score(y_test, y_previsto).round(3)\n",
    "\n",
    "metricas = metricas.append({'Modelo':modelo, 'MSE':EQM, 'RMSE':REQM, 'R²':R2}, ignore_index=True)\n",
    "metricas"
   ]
  },
  {
   "cell_type": "markdown",
   "metadata": {},
   "source": [
    "## GradientBoosting"
   ]
  },
  {
   "cell_type": "code",
   "execution_count": 35,
   "metadata": {
    "ExecuteTime": {
     "end_time": "2020-11-03T00:15:40.042300Z",
     "start_time": "2020-11-03T00:15:37.297174Z"
    }
   },
   "outputs": [
    {
     "name": "stdout",
     "output_type": "stream",
     "text": [
      "Mínimo split:  3\n",
      "Máxima profundidade:  3\n",
      "Mínimo leaf:  6\n",
      "R2:  0.6826523081986984\n"
     ]
    }
   ],
   "source": [
    "modelo = GradientBoostingRegressor()\n",
    "\n",
    "minimos_split = np.array([3, 4, 5, 6, 7])\n",
    "maximo_nivel = np.array([2, 3, 5, 7, 9,])\n",
    "minimo_leaf = np.array([3, 4, 5, 6])\n",
    "valores_grid = {\n",
    "    'min_samples_split': minimos_split,\n",
    "    'max_depth': maximo_nivel,\n",
    "    'min_samples_leaf': minimo_leaf\n",
    "}\n",
    "\n",
    "search = GridSearchCV(estimator=modelo,\n",
    "                      param_grid=valores_grid,\n",
    "                      cv=5,\n",
    "                      n_jobs=-1)\n",
    "\n",
    "search.fit(x_train, y_train)\n",
    "y_previsto = search.predict(x_test)\n",
    "\n",
    "print('Mínimo split: ', search.best_estimator_.min_samples_split)\n",
    "print('Máxima profundidade: ', search.best_estimator_.max_depth)\n",
    "print('Mínimo leaf: ', search.best_estimator_.min_samples_leaf)\n",
    "print('R2: ', search.best_score_)"
   ]
  },
  {
   "cell_type": "code",
   "execution_count": 36,
   "metadata": {
    "ExecuteTime": {
     "end_time": "2020-11-03T00:15:40.073223Z",
     "start_time": "2020-11-03T00:15:40.043301Z"
    }
   },
   "outputs": [
    {
     "data": {
      "text/html": [
       "<div>\n",
       "<style scoped>\n",
       "    .dataframe tbody tr th:only-of-type {\n",
       "        vertical-align: middle;\n",
       "    }\n",
       "\n",
       "    .dataframe tbody tr th {\n",
       "        vertical-align: top;\n",
       "    }\n",
       "\n",
       "    .dataframe thead th {\n",
       "        text-align: right;\n",
       "    }\n",
       "</style>\n",
       "<table border=\"1\" class=\"dataframe\">\n",
       "  <thead>\n",
       "    <tr style=\"text-align: right;\">\n",
       "      <th></th>\n",
       "      <th>Modelo</th>\n",
       "      <th>MSE</th>\n",
       "      <th>RMSE</th>\n",
       "      <th>R²</th>\n",
       "    </tr>\n",
       "  </thead>\n",
       "  <tbody>\n",
       "    <tr>\n",
       "      <th>0</th>\n",
       "      <td>LinearRegression()</td>\n",
       "      <td>6066751.892</td>\n",
       "      <td>2463.078</td>\n",
       "      <td>0.694</td>\n",
       "    </tr>\n",
       "    <tr>\n",
       "      <th>1</th>\n",
       "      <td>Ridge()</td>\n",
       "      <td>6037027.010</td>\n",
       "      <td>2457.036</td>\n",
       "      <td>0.695</td>\n",
       "    </tr>\n",
       "    <tr>\n",
       "      <th>2</th>\n",
       "      <td>Lasso()</td>\n",
       "      <td>6065291.680</td>\n",
       "      <td>2462.781</td>\n",
       "      <td>0.694</td>\n",
       "    </tr>\n",
       "    <tr>\n",
       "      <th>3</th>\n",
       "      <td>ElasticNet()</td>\n",
       "      <td>6029687.291</td>\n",
       "      <td>2455.542</td>\n",
       "      <td>0.696</td>\n",
       "    </tr>\n",
       "    <tr>\n",
       "      <th>4</th>\n",
       "      <td>DecisionTreeRegressor()</td>\n",
       "      <td>8425743.190</td>\n",
       "      <td>2902.713</td>\n",
       "      <td>0.575</td>\n",
       "    </tr>\n",
       "    <tr>\n",
       "      <th>5</th>\n",
       "      <td>AdaBoostRegressor()</td>\n",
       "      <td>7232418.868</td>\n",
       "      <td>2689.316</td>\n",
       "      <td>0.635</td>\n",
       "    </tr>\n",
       "    <tr>\n",
       "      <th>6</th>\n",
       "      <td>ExtraTreesRegressor()</td>\n",
       "      <td>7171136.050</td>\n",
       "      <td>2677.898</td>\n",
       "      <td>0.638</td>\n",
       "    </tr>\n",
       "    <tr>\n",
       "      <th>7</th>\n",
       "      <td>GradientBoostingRegressor()</td>\n",
       "      <td>7484473.751</td>\n",
       "      <td>2735.777</td>\n",
       "      <td>0.622</td>\n",
       "    </tr>\n",
       "  </tbody>\n",
       "</table>\n",
       "</div>"
      ],
      "text/plain": [
       "                        Modelo          MSE      RMSE     R²\n",
       "0           LinearRegression()  6066751.892  2463.078  0.694\n",
       "1                      Ridge()  6037027.010  2457.036  0.695\n",
       "2                      Lasso()  6065291.680  2462.781  0.694\n",
       "3                 ElasticNet()  6029687.291  2455.542  0.696\n",
       "4      DecisionTreeRegressor()  8425743.190  2902.713  0.575\n",
       "5          AdaBoostRegressor()  7232418.868  2689.316  0.635\n",
       "6        ExtraTreesRegressor()  7171136.050  2677.898  0.638\n",
       "7  GradientBoostingRegressor()  7484473.751  2735.777  0.622"
      ]
     },
     "execution_count": 36,
     "metadata": {},
     "output_type": "execute_result"
    }
   ],
   "source": [
    "EQM = metrics.mean_squared_error(y_test, y_previsto).round(3)\n",
    "REQM = np.sqrt(metrics.mean_squared_error(y_test, y_previsto)).round(3)\n",
    "R2 = metrics.r2_score(y_test, y_previsto).round(3)\n",
    "\n",
    "metricas = metricas.append({'Modelo':modelo, 'MSE':EQM, 'RMSE':REQM, 'R²':R2}, ignore_index=True)\n",
    "metricas"
   ]
  },
  {
   "cell_type": "markdown",
   "metadata": {},
   "source": [
    "## Random Forest"
   ]
  },
  {
   "cell_type": "code",
   "execution_count": 37,
   "metadata": {
    "ExecuteTime": {
     "end_time": "2020-11-03T00:15:50.306851Z",
     "start_time": "2020-11-03T00:15:40.074217Z"
    }
   },
   "outputs": [
    {
     "name": "stdout",
     "output_type": "stream",
     "text": [
      "Mínimo split:  4\n",
      "Máxima profundidade:  5\n",
      "Mínimo leaf:  3\n",
      "R2:  0.699168316133194\n"
     ]
    }
   ],
   "source": [
    "modelo = RandomForestRegressor()\n",
    "\n",
    "minimos_split = np.array([3, 4, 5, 6, 7])\n",
    "maximo_nivel = np.array([2, 3, 5, 7, 9,])\n",
    "minimo_leaf = np.array([3, 4, 5, 6])\n",
    "valores_grid = {\n",
    "    'min_samples_split': minimos_split,\n",
    "    'max_depth': maximo_nivel,\n",
    "    'min_samples_leaf': minimo_leaf\n",
    "}\n",
    "\n",
    "search = GridSearchCV(estimator=modelo,\n",
    "                      param_grid=valores_grid,\n",
    "                      cv=5,\n",
    "                      n_jobs=-1)\n",
    "\n",
    "search.fit(x_train, y_train)\n",
    "y_previsto = search.predict(x_test)\n",
    "\n",
    "print('Mínimo split: ', search.best_estimator_.min_samples_split)\n",
    "print('Máxima profundidade: ', search.best_estimator_.max_depth)\n",
    "print('Mínimo leaf: ', search.best_estimator_.min_samples_leaf)\n",
    "print('R2: ', search.best_score_)"
   ]
  },
  {
   "cell_type": "code",
   "execution_count": 38,
   "metadata": {
    "ExecuteTime": {
     "end_time": "2020-11-03T00:15:50.337769Z",
     "start_time": "2020-11-03T00:15:50.307849Z"
    }
   },
   "outputs": [
    {
     "data": {
      "text/html": [
       "<div>\n",
       "<style scoped>\n",
       "    .dataframe tbody tr th:only-of-type {\n",
       "        vertical-align: middle;\n",
       "    }\n",
       "\n",
       "    .dataframe tbody tr th {\n",
       "        vertical-align: top;\n",
       "    }\n",
       "\n",
       "    .dataframe thead th {\n",
       "        text-align: right;\n",
       "    }\n",
       "</style>\n",
       "<table border=\"1\" class=\"dataframe\">\n",
       "  <thead>\n",
       "    <tr style=\"text-align: right;\">\n",
       "      <th></th>\n",
       "      <th>Modelo</th>\n",
       "      <th>MSE</th>\n",
       "      <th>RMSE</th>\n",
       "      <th>R²</th>\n",
       "    </tr>\n",
       "  </thead>\n",
       "  <tbody>\n",
       "    <tr>\n",
       "      <th>0</th>\n",
       "      <td>LinearRegression()</td>\n",
       "      <td>6066751.892</td>\n",
       "      <td>2463.078</td>\n",
       "      <td>0.694</td>\n",
       "    </tr>\n",
       "    <tr>\n",
       "      <th>1</th>\n",
       "      <td>Ridge()</td>\n",
       "      <td>6037027.010</td>\n",
       "      <td>2457.036</td>\n",
       "      <td>0.695</td>\n",
       "    </tr>\n",
       "    <tr>\n",
       "      <th>2</th>\n",
       "      <td>Lasso()</td>\n",
       "      <td>6065291.680</td>\n",
       "      <td>2462.781</td>\n",
       "      <td>0.694</td>\n",
       "    </tr>\n",
       "    <tr>\n",
       "      <th>3</th>\n",
       "      <td>ElasticNet()</td>\n",
       "      <td>6029687.291</td>\n",
       "      <td>2455.542</td>\n",
       "      <td>0.696</td>\n",
       "    </tr>\n",
       "    <tr>\n",
       "      <th>4</th>\n",
       "      <td>DecisionTreeRegressor()</td>\n",
       "      <td>8425743.190</td>\n",
       "      <td>2902.713</td>\n",
       "      <td>0.575</td>\n",
       "    </tr>\n",
       "    <tr>\n",
       "      <th>5</th>\n",
       "      <td>AdaBoostRegressor()</td>\n",
       "      <td>7232418.868</td>\n",
       "      <td>2689.316</td>\n",
       "      <td>0.635</td>\n",
       "    </tr>\n",
       "    <tr>\n",
       "      <th>6</th>\n",
       "      <td>ExtraTreesRegressor()</td>\n",
       "      <td>7171136.050</td>\n",
       "      <td>2677.898</td>\n",
       "      <td>0.638</td>\n",
       "    </tr>\n",
       "    <tr>\n",
       "      <th>7</th>\n",
       "      <td>GradientBoostingRegressor()</td>\n",
       "      <td>7484473.751</td>\n",
       "      <td>2735.777</td>\n",
       "      <td>0.622</td>\n",
       "    </tr>\n",
       "    <tr>\n",
       "      <th>8</th>\n",
       "      <td>RandomForestRegressor()</td>\n",
       "      <td>7934873.250</td>\n",
       "      <td>2816.891</td>\n",
       "      <td>0.600</td>\n",
       "    </tr>\n",
       "  </tbody>\n",
       "</table>\n",
       "</div>"
      ],
      "text/plain": [
       "                        Modelo          MSE      RMSE     R²\n",
       "0           LinearRegression()  6066751.892  2463.078  0.694\n",
       "1                      Ridge()  6037027.010  2457.036  0.695\n",
       "2                      Lasso()  6065291.680  2462.781  0.694\n",
       "3                 ElasticNet()  6029687.291  2455.542  0.696\n",
       "4      DecisionTreeRegressor()  8425743.190  2902.713  0.575\n",
       "5          AdaBoostRegressor()  7232418.868  2689.316  0.635\n",
       "6        ExtraTreesRegressor()  7171136.050  2677.898  0.638\n",
       "7  GradientBoostingRegressor()  7484473.751  2735.777  0.622\n",
       "8      RandomForestRegressor()  7934873.250  2816.891  0.600"
      ]
     },
     "execution_count": 38,
     "metadata": {},
     "output_type": "execute_result"
    }
   ],
   "source": [
    "EQM = metrics.mean_squared_error(y_test, y_previsto).round(3)\n",
    "REQM = np.sqrt(metrics.mean_squared_error(y_test, y_previsto)).round(3)\n",
    "R2 = metrics.r2_score(y_test, y_previsto).round(3)\n",
    "\n",
    "metricas = metricas.append({'Modelo':modelo, 'MSE':EQM, 'RMSE':REQM, 'R²':R2}, ignore_index=True)\n",
    "metricas"
   ]
  },
  {
   "cell_type": "markdown",
   "metadata": {},
   "source": [
    "# <font color='red' style='font-size: 30px;'> Utilizando Tensorflow</font>\n",
    "<hr style='border: 2px solid red;'>"
   ]
  },
  {
   "cell_type": "code",
   "execution_count": 39,
   "metadata": {
    "ExecuteTime": {
     "end_time": "2020-11-03T00:15:52.499014Z",
     "start_time": "2020-11-03T00:15:50.339763Z"
    }
   },
   "outputs": [
    {
     "name": "stderr",
     "output_type": "stream",
     "text": [
      "C:\\Users\\julio\\AppData\\Roaming\\Python\\Python38\\site-packages\\tensorflow\\core\\framework\\tensor_shape_pb2.py:18: DeprecationWarning: Call to deprecated create function FileDescriptor(). Note: Create unlinked descriptors is going to go away. Please use get/find descriptors from generated code or query the descriptor_pool.\n",
      "  DESCRIPTOR = _descriptor.FileDescriptor(\n",
      "C:\\Users\\julio\\AppData\\Roaming\\Python\\Python38\\site-packages\\tensorflow\\core\\framework\\tensor_shape_pb2.py:36: DeprecationWarning: Call to deprecated create function FieldDescriptor(). Note: Create unlinked descriptors is going to go away. Please use get/find descriptors from generated code or query the descriptor_pool.\n",
      "  _descriptor.FieldDescriptor(\n",
      "C:\\Users\\julio\\AppData\\Roaming\\Python\\Python38\\site-packages\\tensorflow\\core\\framework\\tensor_shape_pb2.py:29: DeprecationWarning: Call to deprecated create function Descriptor(). Note: Create unlinked descriptors is going to go away. Please use get/find descriptors from generated code or query the descriptor_pool.\n",
      "  _TENSORSHAPEPROTO_DIM = _descriptor.Descriptor(\n",
      "C:\\Users\\julio\\AppData\\Roaming\\Python\\Python38\\site-packages\\tensorflow\\core\\framework\\types_pb2.py:19: DeprecationWarning: Call to deprecated create function FileDescriptor(). Note: Create unlinked descriptors is going to go away. Please use get/find descriptors from generated code or query the descriptor_pool.\n",
      "  DESCRIPTOR = _descriptor.FileDescriptor(\n",
      "C:\\Users\\julio\\AppData\\Roaming\\Python\\Python38\\site-packages\\tensorflow\\core\\framework\\types_pb2.py:33: DeprecationWarning: Call to deprecated create function EnumValueDescriptor(). Note: Create unlinked descriptors is going to go away. Please use get/find descriptors from generated code or query the descriptor_pool.\n",
      "  _descriptor.EnumValueDescriptor(\n",
      "C:\\Users\\julio\\AppData\\Roaming\\Python\\Python38\\site-packages\\tensorflow\\core\\framework\\types_pb2.py:27: DeprecationWarning: Call to deprecated create function EnumDescriptor(). Note: Create unlinked descriptors is going to go away. Please use get/find descriptors from generated code or query the descriptor_pool.\n",
      "  _DATATYPE = _descriptor.EnumDescriptor(\n",
      "C:\\Users\\julio\\AppData\\Roaming\\Python\\Python38\\site-packages\\tensorflow\\core\\framework\\resource_handle_pb2.py:20: DeprecationWarning: Call to deprecated create function FileDescriptor(). Note: Create unlinked descriptors is going to go away. Please use get/find descriptors from generated code or query the descriptor_pool.\n",
      "  DESCRIPTOR = _descriptor.FileDescriptor(\n",
      "C:\\Users\\julio\\AppData\\Roaming\\Python\\Python38\\site-packages\\tensorflow\\core\\framework\\resource_handle_pb2.py:39: DeprecationWarning: Call to deprecated create function FieldDescriptor(). Note: Create unlinked descriptors is going to go away. Please use get/find descriptors from generated code or query the descriptor_pool.\n",
      "  _descriptor.FieldDescriptor(\n",
      "C:\\Users\\julio\\AppData\\Roaming\\Python\\Python38\\site-packages\\tensorflow\\core\\framework\\resource_handle_pb2.py:32: DeprecationWarning: Call to deprecated create function Descriptor(). Note: Create unlinked descriptors is going to go away. Please use get/find descriptors from generated code or query the descriptor_pool.\n",
      "  _RESOURCEHANDLEPROTO_DTYPEANDSHAPE = _descriptor.Descriptor(\n",
      "C:\\Users\\julio\\AppData\\Roaming\\Python\\Python38\\site-packages\\tensorflow\\core\\framework\\tensor_pb2.py:21: DeprecationWarning: Call to deprecated create function FileDescriptor(). Note: Create unlinked descriptors is going to go away. Please use get/find descriptors from generated code or query the descriptor_pool.\n",
      "  DESCRIPTOR = _descriptor.FileDescriptor(\n",
      "C:\\Users\\julio\\AppData\\Roaming\\Python\\Python38\\site-packages\\tensorflow\\core\\framework\\tensor_pb2.py:40: DeprecationWarning: Call to deprecated create function FieldDescriptor(). Note: Create unlinked descriptors is going to go away. Please use get/find descriptors from generated code or query the descriptor_pool.\n",
      "  _descriptor.FieldDescriptor(\n",
      "C:\\Users\\julio\\AppData\\Roaming\\Python\\Python38\\site-packages\\tensorflow\\core\\framework\\tensor_pb2.py:33: DeprecationWarning: Call to deprecated create function Descriptor(). Note: Create unlinked descriptors is going to go away. Please use get/find descriptors from generated code or query the descriptor_pool.\n",
      "  _TENSORPROTO = _descriptor.Descriptor(\n",
      "C:\\Users\\julio\\AppData\\Roaming\\Python\\Python38\\site-packages\\tensorflow\\core\\framework\\attr_value_pb2.py:21: DeprecationWarning: Call to deprecated create function FileDescriptor(). Note: Create unlinked descriptors is going to go away. Please use get/find descriptors from generated code or query the descriptor_pool.\n",
      "  DESCRIPTOR = _descriptor.FileDescriptor(\n",
      "C:\\Users\\julio\\AppData\\Roaming\\Python\\Python38\\site-packages\\tensorflow\\core\\framework\\attr_value_pb2.py:40: DeprecationWarning: Call to deprecated create function FieldDescriptor(). Note: Create unlinked descriptors is going to go away. Please use get/find descriptors from generated code or query the descriptor_pool.\n",
      "  _descriptor.FieldDescriptor(\n",
      "C:\\Users\\julio\\AppData\\Roaming\\Python\\Python38\\site-packages\\tensorflow\\core\\framework\\attr_value_pb2.py:33: DeprecationWarning: Call to deprecated create function Descriptor(). Note: Create unlinked descriptors is going to go away. Please use get/find descriptors from generated code or query the descriptor_pool.\n",
      "  _ATTRVALUE_LISTVALUE = _descriptor.Descriptor(\n"
     ]
    }
   ],
   "source": [
    "import tensorflow as tf\n",
    "\n",
    "from tensorflow import keras\n",
    "from tensorflow.keras import layers"
   ]
  },
  {
   "cell_type": "code",
   "execution_count": 40,
   "metadata": {
    "ExecuteTime": {
     "end_time": "2020-11-03T00:15:52.514548Z",
     "start_time": "2020-11-03T00:15:52.500009Z"
    }
   },
   "outputs": [],
   "source": [
    "y = dados['consumo']"
   ]
  },
  {
   "cell_type": "code",
   "execution_count": 41,
   "metadata": {
    "ExecuteTime": {
     "end_time": "2020-11-03T00:15:52.530010Z",
     "start_time": "2020-11-03T00:15:52.515548Z"
    }
   },
   "outputs": [],
   "source": [
    "x = dados[['temp_max', 'chuva', 'fds']]\n",
    "normalizador = StandardScaler()\n",
    "x_norm = normalizador.fit_transform(x)"
   ]
  },
  {
   "cell_type": "code",
   "execution_count": 42,
   "metadata": {
    "ExecuteTime": {
     "end_time": "2020-11-03T00:15:52.546016Z",
     "start_time": "2020-11-03T00:15:52.531007Z"
    }
   },
   "outputs": [],
   "source": [
    "x_train, x_test, y_train, y_test = train_test_split(x_norm, y, test_size=0.3, random_state=10)"
   ]
  },
  {
   "cell_type": "code",
   "execution_count": 43,
   "metadata": {
    "ExecuteTime": {
     "end_time": "2020-11-03T00:15:53.016512Z",
     "start_time": "2020-11-03T00:15:52.547013Z"
    }
   },
   "outputs": [],
   "source": [
    "model = keras.Sequential([\n",
    "    layers.Dense(10000, activation='relu', input_shape=[x_train.shape[1]]),\n",
    "    layers.Dense(10000, activation='relu'),\n",
    "    layers.Dense(1)\n",
    "])"
   ]
  },
  {
   "cell_type": "markdown",
   "metadata": {},
   "source": [
    "## RMSprop"
   ]
  },
  {
   "cell_type": "code",
   "execution_count": 44,
   "metadata": {
    "ExecuteTime": {
     "end_time": "2020-11-03T00:15:53.032470Z",
     "start_time": "2020-11-03T00:15:53.017508Z"
    }
   },
   "outputs": [],
   "source": [
    "optimizer = tf.keras.optimizers.RMSprop()\n",
    "\n",
    "model.compile(loss='mse', optimizer=optimizer, metrics=['mae', 'mse', tf.keras.metrics.MeanSquaredError()])"
   ]
  },
  {
   "cell_type": "code",
   "execution_count": 45,
   "metadata": {
    "ExecuteTime": {
     "end_time": "2020-11-03T00:15:53.047468Z",
     "start_time": "2020-11-03T00:15:53.033465Z"
    }
   },
   "outputs": [
    {
     "name": "stdout",
     "output_type": "stream",
     "text": [
      "Model: \"sequential\"\n",
      "_________________________________________________________________\n",
      "Layer (type)                 Output Shape              Param #   \n",
      "=================================================================\n",
      "dense (Dense)                (None, 10000)             40000     \n",
      "_________________________________________________________________\n",
      "dense_1 (Dense)              (None, 10000)             100010000 \n",
      "_________________________________________________________________\n",
      "dense_2 (Dense)              (None, 1)                 10001     \n",
      "=================================================================\n",
      "Total params: 100,060,001\n",
      "Trainable params: 100,060,001\n",
      "Non-trainable params: 0\n",
      "_________________________________________________________________\n"
     ]
    }
   ],
   "source": [
    "model.summary()"
   ]
  },
  {
   "cell_type": "code",
   "execution_count": 46,
   "metadata": {
    "ExecuteTime": {
     "end_time": "2020-11-03T00:17:47.478920Z",
     "start_time": "2020-11-03T00:15:53.048465Z"
    }
   },
   "outputs": [
    {
     "name": "stdout",
     "output_type": "stream",
     "text": [
      "Epoch 1/20\n",
      "8/8 [==============================] - 5s 645ms/step - loss: 657190784.0000 - mae: 25270.2988 - mse: 657190784.0000 - mean_squared_error: 657190784.0000 - val_loss: 602743296.0000 - val_mae: 24151.7754 - val_mse: 602743296.0000 - val_mean_squared_error: 602743296.0000\n",
      "Epoch 2/20\n",
      "8/8 [==============================] - 5s 594ms/step - loss: 573585088.0000 - mae: 23576.1719 - mse: 573585088.0000 - mean_squared_error: 573585088.0000 - val_loss: 481258176.0000 - val_mae: 21521.9160 - val_mse: 481258176.0000 - val_mean_squared_error: 481258176.0000\n",
      "Epoch 3/20\n",
      "8/8 [==============================] - 5s 603ms/step - loss: 427105248.0000 - mae: 20252.5215 - mse: 427105248.0000 - mean_squared_error: 427105248.0000 - val_loss: 320419104.0000 - val_mae: 17449.5586 - val_mse: 320419104.0000 - val_mean_squared_error: 320419104.0000\n",
      "Epoch 4/20\n",
      "8/8 [==============================] - 5s 617ms/step - loss: 258033808.0000 - mae: 15594.9805 - mse: 258033808.0000 - mean_squared_error: 258033808.0000 - val_loss: 164853776.0000 - val_mae: 12342.2705 - val_mse: 164853776.0000 - val_mean_squared_error: 164853776.0000\n",
      "Epoch 5/20\n",
      "8/8 [==============================] - 5s 599ms/step - loss: 116507792.0000 - mae: 10174.0889 - mse: 116507792.0000 - mean_squared_error: 116507792.0000 - val_loss: 61104976.0000 - val_mae: 7136.6968 - val_mse: 61104976.0000 - val_mean_squared_error: 61104976.0000\n",
      "Epoch 6/20\n",
      "8/8 [==============================] - 5s 599ms/step - loss: 39199196.0000 - mae: 5496.7051 - mse: 39199196.0000 - mean_squared_error: 39199196.0000 - val_loss: 22527572.0000 - val_mae: 3868.8782 - val_mse: 22527572.0000 - val_mean_squared_error: 22527572.0000\n",
      "Epoch 7/20\n",
      "8/8 [==============================] - 5s 659ms/step - loss: 16972458.0000 - mae: 3316.7283 - mse: 16972458.0000 - mean_squared_error: 16972458.0000 - val_loss: 16520348.0000 - val_mae: 3084.2102 - val_mse: 16520348.0000 - val_mean_squared_error: 16520348.0000\n",
      "Epoch 8/20\n",
      "8/8 [==============================] - 5s 603ms/step - loss: 13640118.0000 - mae: 2833.0447 - mse: 13640118.0000 - mean_squared_error: 13640118.0000 - val_loss: 14932602.0000 - val_mae: 2917.5837 - val_mse: 14932602.0000 - val_mean_squared_error: 14932602.0000\n",
      "Epoch 9/20\n",
      "8/8 [==============================] - 5s 607ms/step - loss: 11843413.0000 - mae: 2663.0010 - mse: 11843413.0000 - mean_squared_error: 11843413.0000 - val_loss: 13637584.0000 - val_mae: 2742.5215 - val_mse: 13637584.0000 - val_mean_squared_error: 13637584.0000\n",
      "Epoch 10/20\n",
      "8/8 [==============================] - 5s 602ms/step - loss: 10816772.0000 - mae: 2564.3303 - mse: 10816772.0000 - mean_squared_error: 10816772.0000 - val_loss: 12633045.0000 - val_mae: 2679.4670 - val_mse: 12633045.0000 - val_mean_squared_error: 12633045.0000\n",
      "Epoch 11/20\n",
      "8/8 [==============================] - 5s 602ms/step - loss: 9529325.0000 - mae: 2447.6006 - mse: 9529325.0000 - mean_squared_error: 9529325.0000 - val_loss: 11909709.0000 - val_mae: 2545.5767 - val_mse: 11909709.0000 - val_mean_squared_error: 11909709.0000\n",
      "Epoch 12/20\n",
      "8/8 [==============================] - 5s 605ms/step - loss: 8830394.0000 - mae: 2349.1089 - mse: 8830394.0000 - mean_squared_error: 8830394.0000 - val_loss: 11599875.0000 - val_mae: 2529.5076 - val_mse: 11599875.0000 - val_mean_squared_error: 11599875.0000\n",
      "Epoch 13/20\n",
      "8/8 [==============================] - 5s 619ms/step - loss: 8411263.0000 - mae: 2301.9951 - mse: 8411263.0000 - mean_squared_error: 8411263.0000 - val_loss: 9901976.0000 - val_mae: 2391.9133 - val_mse: 9901976.0000 - val_mean_squared_error: 9901976.0000\n",
      "Epoch 14/20\n",
      "8/8 [==============================] - 5s 607ms/step - loss: 7506390.0000 - mae: 2215.0173 - mse: 7506390.0000 - mean_squared_error: 7506390.0000 - val_loss: 9423710.0000 - val_mae: 2345.1960 - val_mse: 9423710.0000 - val_mean_squared_error: 9423710.0000\n",
      "Epoch 15/20\n",
      "8/8 [==============================] - 5s 677ms/step - loss: 7589614.0000 - mae: 2301.6616 - mse: 7589614.0000 - mean_squared_error: 7589614.0000 - val_loss: 8975664.0000 - val_mae: 2303.5574 - val_mse: 8975664.0000 - val_mean_squared_error: 8975664.0000\n",
      "Epoch 16/20\n",
      "8/8 [==============================] - 5s 628ms/step - loss: 6711639.5000 - mae: 2143.3940 - mse: 6711639.5000 - mean_squared_error: 6711639.5000 - val_loss: 9318903.0000 - val_mae: 2340.3621 - val_mse: 9318903.0000 - val_mean_squared_error: 9318903.0000\n",
      "Epoch 17/20\n",
      "8/8 [==============================] - 6s 690ms/step - loss: 6365874.5000 - mae: 2088.6157 - mse: 6365874.5000 - mean_squared_error: 6365874.5000 - val_loss: 8193818.0000 - val_mae: 2225.8889 - val_mse: 8193818.0000 - val_mean_squared_error: 8193818.0000\n",
      "Epoch 18/20\n",
      "8/8 [==============================] - 5s 670ms/step - loss: 6307677.0000 - mae: 2073.3350 - mse: 6307677.0000 - mean_squared_error: 6307677.0000 - val_loss: 9491481.0000 - val_mae: 2455.9341 - val_mse: 9491481.0000 - val_mean_squared_error: 9491481.0000\n",
      "Epoch 19/20\n",
      "8/8 [==============================] - 5s 649ms/step - loss: 6320107.5000 - mae: 2114.9922 - mse: 6320107.5000 - mean_squared_error: 6320107.5000 - val_loss: 8083107.0000 - val_mae: 2212.0024 - val_mse: 8083107.0000 - val_mean_squared_error: 8083107.0000\n",
      "Epoch 20/20\n",
      "8/8 [==============================] - 5s 649ms/step - loss: 6101858.0000 - mae: 2075.2620 - mse: 6101858.0000 - mean_squared_error: 6101858.0000 - val_loss: 8149994.0000 - val_mae: 2258.2483 - val_mse: 8149994.0000 - val_mean_squared_error: 8149994.0000\n"
     ]
    }
   ],
   "source": [
    "history = model.fit(x_train,\n",
    "                    y_train,\n",
    "                    epochs=20,\n",
    "                    validation_data=(x_test, y_test),\n",
    "                    verbose=1)"
   ]
  },
  {
   "cell_type": "code",
   "execution_count": 47,
   "metadata": {
    "ExecuteTime": {
     "end_time": "2020-11-03T00:17:47.494959Z",
     "start_time": "2020-11-03T00:17:47.480914Z"
    }
   },
   "outputs": [],
   "source": [
    "hist = pd.DataFrame(history.history)\n",
    "hist['epoch'] = history.epoch"
   ]
  },
  {
   "cell_type": "code",
   "execution_count": 48,
   "metadata": {
    "ExecuteTime": {
     "end_time": "2020-11-03T00:17:48.103882Z",
     "start_time": "2020-11-03T00:17:47.496890Z"
    },
    "scrolled": false
   },
   "outputs": [
    {
     "data": {
      "image/png": "[encoded data removed]",
      "text/plain": [
       "<Figure size 432x288 with 1 Axes>"
      ]
     },
     "metadata": {},
     "output_type": "display_data"
    },
    {
     "data": {
      "image/png": "[encoded data removed]",
      "text/plain": [
       "<Figure size 432x288 with 1 Axes>"
      ]
     },
     "metadata": {},
     "output_type": "display_data"
    }
   ],
   "source": [
    "plt.figure()\n",
    "plt.xlabel('Epoch')\n",
    "plt.ylabel('Mean Abs Error [MPG]')\n",
    "plt.plot(hist['epoch'], hist['mae'], label='Train Error')\n",
    "plt.plot(hist['epoch'], hist['val_mae'], label='Val Error')\n",
    "plt.ylim([1500, 3000])\n",
    "plt.legend()\n",
    "\n",
    "plt.figure()\n",
    "plt.xlabel('Epoch')\n",
    "plt.ylabel('Mean Square Error [$MPG^2$]')\n",
    "plt.plot(hist['epoch'], hist['mse'], label='Train Error')\n",
    "plt.plot(hist['epoch'], hist['val_mse'], label='Val Error')\n",
    "plt.ylim([0, 15000000])\n",
    "plt.legend()\n",
    "plt.show()"
   ]
  },
  {
   "cell_type": "code",
   "execution_count": 49,
   "metadata": {
    "ExecuteTime": {
     "end_time": "2020-11-03T00:17:48.304319Z",
     "start_time": "2020-11-03T00:17:48.104850Z"
    }
   },
   "outputs": [],
   "source": [
    "y_previsto = model.predict(x_test).flatten()"
   ]
  },
  {
   "cell_type": "code",
   "execution_count": 50,
   "metadata": {
    "ExecuteTime": {
     "end_time": "2020-11-03T00:17:48.335240Z",
     "start_time": "2020-11-03T00:17:48.305320Z"
    }
   },
   "outputs": [
    {
     "data": {
      "text/html": [
       "<div>\n",
       "<style scoped>\n",
       "    .dataframe tbody tr th:only-of-type {\n",
       "        vertical-align: middle;\n",
       "    }\n",
       "\n",
       "    .dataframe tbody tr th {\n",
       "        vertical-align: top;\n",
       "    }\n",
       "\n",
       "    .dataframe thead th {\n",
       "        text-align: right;\n",
       "    }\n",
       "</style>\n",
       "<table border=\"1\" class=\"dataframe\">\n",
       "  <thead>\n",
       "    <tr style=\"text-align: right;\">\n",
       "      <th></th>\n",
       "      <th>Modelo</th>\n",
       "      <th>MSE</th>\n",
       "      <th>RMSE</th>\n",
       "      <th>R²</th>\n",
       "    </tr>\n",
       "  </thead>\n",
       "  <tbody>\n",
       "    <tr>\n",
       "      <th>0</th>\n",
       "      <td>LinearRegression()</td>\n",
       "      <td>6066751.892</td>\n",
       "      <td>2463.078</td>\n",
       "      <td>0.694</td>\n",
       "    </tr>\n",
       "    <tr>\n",
       "      <th>1</th>\n",
       "      <td>Ridge()</td>\n",
       "      <td>6037027.010</td>\n",
       "      <td>2457.036</td>\n",
       "      <td>0.695</td>\n",
       "    </tr>\n",
       "    <tr>\n",
       "      <th>2</th>\n",
       "      <td>Lasso()</td>\n",
       "      <td>6065291.680</td>\n",
       "      <td>2462.781</td>\n",
       "      <td>0.694</td>\n",
       "    </tr>\n",
       "    <tr>\n",
       "      <th>3</th>\n",
       "      <td>ElasticNet()</td>\n",
       "      <td>6029687.291</td>\n",
       "      <td>2455.542</td>\n",
       "      <td>0.696</td>\n",
       "    </tr>\n",
       "    <tr>\n",
       "      <th>4</th>\n",
       "      <td>DecisionTreeRegressor()</td>\n",
       "      <td>8425743.190</td>\n",
       "      <td>2902.713</td>\n",
       "      <td>0.575</td>\n",
       "    </tr>\n",
       "    <tr>\n",
       "      <th>5</th>\n",
       "      <td>AdaBoostRegressor()</td>\n",
       "      <td>7232418.868</td>\n",
       "      <td>2689.316</td>\n",
       "      <td>0.635</td>\n",
       "    </tr>\n",
       "    <tr>\n",
       "      <th>6</th>\n",
       "      <td>ExtraTreesRegressor()</td>\n",
       "      <td>7171136.050</td>\n",
       "      <td>2677.898</td>\n",
       "      <td>0.638</td>\n",
       "    </tr>\n",
       "    <tr>\n",
       "      <th>7</th>\n",
       "      <td>GradientBoostingRegressor()</td>\n",
       "      <td>7484473.751</td>\n",
       "      <td>2735.777</td>\n",
       "      <td>0.622</td>\n",
       "    </tr>\n",
       "    <tr>\n",
       "      <th>8</th>\n",
       "      <td>RandomForestRegressor()</td>\n",
       "      <td>7934873.250</td>\n",
       "      <td>2816.891</td>\n",
       "      <td>0.600</td>\n",
       "    </tr>\n",
       "    <tr>\n",
       "      <th>9</th>\n",
       "      <td>TensorFlow RMSprop</td>\n",
       "      <td>8149992.687</td>\n",
       "      <td>2854.819</td>\n",
       "      <td>0.589</td>\n",
       "    </tr>\n",
       "  </tbody>\n",
       "</table>\n",
       "</div>"
      ],
      "text/plain": [
       "                        Modelo          MSE      RMSE     R²\n",
       "0           LinearRegression()  6066751.892  2463.078  0.694\n",
       "1                      Ridge()  6037027.010  2457.036  0.695\n",
       "2                      Lasso()  6065291.680  2462.781  0.694\n",
       "3                 ElasticNet()  6029687.291  2455.542  0.696\n",
       "4      DecisionTreeRegressor()  8425743.190  2902.713  0.575\n",
       "5          AdaBoostRegressor()  7232418.868  2689.316  0.635\n",
       "6        ExtraTreesRegressor()  7171136.050  2677.898  0.638\n",
       "7  GradientBoostingRegressor()  7484473.751  2735.777  0.622\n",
       "8      RandomForestRegressor()  7934873.250  2816.891  0.600\n",
       "9           TensorFlow RMSprop  8149992.687  2854.819  0.589"
      ]
     },
     "execution_count": 50,
     "metadata": {},
     "output_type": "execute_result"
    }
   ],
   "source": [
    "EQM = metrics.mean_squared_error(y_test, y_previsto).round(3)\n",
    "REQM = np.sqrt(metrics.mean_squared_error(y_test, y_previsto)).round(3)\n",
    "R2 = metrics.r2_score(y_test, y_previsto).round(3)\n",
    "\n",
    "metricas = metricas.append({'Modelo':'TensorFlow RMSprop', 'MSE':EQM, 'RMSE':REQM, 'R²':R2}, ignore_index=True)\n",
    "metricas"
   ]
  },
  {
   "cell_type": "markdown",
   "metadata": {},
   "source": [
    "# Comparando os modelos"
   ]
  },
  {
   "cell_type": "code",
   "execution_count": 53,
   "metadata": {
    "ExecuteTime": {
     "end_time": "2020-11-03T00:17:48.736713Z",
     "start_time": "2020-11-03T00:17:48.721754Z"
    }
   },
   "outputs": [
    {
     "data": {
      "text/html": [
       "<div>\n",
       "<style scoped>\n",
       "    .dataframe tbody tr th:only-of-type {\n",
       "        vertical-align: middle;\n",
       "    }\n",
       "\n",
       "    .dataframe tbody tr th {\n",
       "        vertical-align: top;\n",
       "    }\n",
       "\n",
       "    .dataframe thead th {\n",
       "        text-align: right;\n",
       "    }\n",
       "</style>\n",
       "<table border=\"1\" class=\"dataframe\">\n",
       "  <thead>\n",
       "    <tr style=\"text-align: right;\">\n",
       "      <th></th>\n",
       "      <th>Modelo</th>\n",
       "      <th>MSE</th>\n",
       "      <th>RMSE</th>\n",
       "      <th>R²</th>\n",
       "    </tr>\n",
       "  </thead>\n",
       "  <tbody>\n",
       "    <tr>\n",
       "      <th>0</th>\n",
       "      <td>LinearRegression()</td>\n",
       "      <td>6066751.892</td>\n",
       "      <td>2463.078</td>\n",
       "      <td>0.694</td>\n",
       "    </tr>\n",
       "    <tr>\n",
       "      <th>1</th>\n",
       "      <td>Ridge()</td>\n",
       "      <td>6037027.010</td>\n",
       "      <td>2457.036</td>\n",
       "      <td>0.695</td>\n",
       "    </tr>\n",
       "    <tr>\n",
       "      <th>2</th>\n",
       "      <td>Lasso()</td>\n",
       "      <td>6065291.680</td>\n",
       "      <td>2462.781</td>\n",
       "      <td>0.694</td>\n",
       "    </tr>\n",
       "    <tr>\n",
       "      <th>3</th>\n",
       "      <td>ElasticNet()</td>\n",
       "      <td>6029687.291</td>\n",
       "      <td>2455.542</td>\n",
       "      <td>0.696</td>\n",
       "    </tr>\n",
       "    <tr>\n",
       "      <th>4</th>\n",
       "      <td>DecisionTreeRegressor()</td>\n",
       "      <td>8425743.190</td>\n",
       "      <td>2902.713</td>\n",
       "      <td>0.575</td>\n",
       "    </tr>\n",
       "    <tr>\n",
       "      <th>5</th>\n",
       "      <td>AdaBoostRegressor()</td>\n",
       "      <td>7232418.868</td>\n",
       "      <td>2689.316</td>\n",
       "      <td>0.635</td>\n",
       "    </tr>\n",
       "    <tr>\n",
       "      <th>6</th>\n",
       "      <td>ExtraTreesRegressor()</td>\n",
       "      <td>7171136.050</td>\n",
       "      <td>2677.898</td>\n",
       "      <td>0.638</td>\n",
       "    </tr>\n",
       "    <tr>\n",
       "      <th>7</th>\n",
       "      <td>GradientBoostingRegressor()</td>\n",
       "      <td>7484473.751</td>\n",
       "      <td>2735.777</td>\n",
       "      <td>0.622</td>\n",
       "    </tr>\n",
       "    <tr>\n",
       "      <th>8</th>\n",
       "      <td>RandomForestRegressor()</td>\n",
       "      <td>7934873.250</td>\n",
       "      <td>2816.891</td>\n",
       "      <td>0.600</td>\n",
       "    </tr>\n",
       "    <tr>\n",
       "      <th>9</th>\n",
       "      <td>TensorFlow RMSprop</td>\n",
       "      <td>8149992.687</td>\n",
       "      <td>2854.819</td>\n",
       "      <td>0.589</td>\n",
       "    </tr>\n",
       "  </tbody>\n",
       "</table>\n",
       "</div>"
      ],
      "text/plain": [
       "                        Modelo          MSE      RMSE     R²\n",
       "0           LinearRegression()  6066751.892  2463.078  0.694\n",
       "1                      Ridge()  6037027.010  2457.036  0.695\n",
       "2                      Lasso()  6065291.680  2462.781  0.694\n",
       "3                 ElasticNet()  6029687.291  2455.542  0.696\n",
       "4      DecisionTreeRegressor()  8425743.190  2902.713  0.575\n",
       "5          AdaBoostRegressor()  7232418.868  2689.316  0.635\n",
       "6        ExtraTreesRegressor()  7171136.050  2677.898  0.638\n",
       "7  GradientBoostingRegressor()  7484473.751  2735.777  0.622\n",
       "8      RandomForestRegressor()  7934873.250  2816.891  0.600\n",
       "9           TensorFlow RMSprop  8149992.687  2854.819  0.589"
      ]
     },
     "execution_count": 53,
     "metadata": {},
     "output_type": "execute_result"
    }
   ],
   "source": [
    "metricas"
   ]
  },
  {
   "cell_type": "code",
   "execution_count": 54,
   "metadata": {
    "ExecuteTime": {
     "end_time": "2020-11-03T00:17:48.751673Z",
     "start_time": "2020-11-03T00:17:48.737712Z"
    }
   },
   "outputs": [
    {
     "data": {
      "text/html": [
       "<div>\n",
       "<style scoped>\n",
       "    .dataframe tbody tr th:only-of-type {\n",
       "        vertical-align: middle;\n",
       "    }\n",
       "\n",
       "    .dataframe tbody tr th {\n",
       "        vertical-align: top;\n",
       "    }\n",
       "\n",
       "    .dataframe thead th {\n",
       "        text-align: right;\n",
       "    }\n",
       "</style>\n",
       "<table border=\"1\" class=\"dataframe\">\n",
       "  <thead>\n",
       "    <tr style=\"text-align: right;\">\n",
       "      <th></th>\n",
       "      <th>Modelo</th>\n",
       "      <th>MSE</th>\n",
       "      <th>RMSE</th>\n",
       "      <th>R²</th>\n",
       "    </tr>\n",
       "  </thead>\n",
       "  <tbody>\n",
       "    <tr>\n",
       "      <th>0</th>\n",
       "      <td>ElasticNet()</td>\n",
       "      <td>6029687.291</td>\n",
       "      <td>2455.542</td>\n",
       "      <td>0.696</td>\n",
       "    </tr>\n",
       "    <tr>\n",
       "      <th>1</th>\n",
       "      <td>Ridge()</td>\n",
       "      <td>6037027.010</td>\n",
       "      <td>2457.036</td>\n",
       "      <td>0.695</td>\n",
       "    </tr>\n",
       "    <tr>\n",
       "      <th>2</th>\n",
       "      <td>LinearRegression()</td>\n",
       "      <td>6066751.892</td>\n",
       "      <td>2463.078</td>\n",
       "      <td>0.694</td>\n",
       "    </tr>\n",
       "    <tr>\n",
       "      <th>3</th>\n",
       "      <td>Lasso()</td>\n",
       "      <td>6065291.680</td>\n",
       "      <td>2462.781</td>\n",
       "      <td>0.694</td>\n",
       "    </tr>\n",
       "    <tr>\n",
       "      <th>4</th>\n",
       "      <td>ExtraTreesRegressor()</td>\n",
       "      <td>7171136.050</td>\n",
       "      <td>2677.898</td>\n",
       "      <td>0.638</td>\n",
       "    </tr>\n",
       "    <tr>\n",
       "      <th>5</th>\n",
       "      <td>AdaBoostRegressor()</td>\n",
       "      <td>7232418.868</td>\n",
       "      <td>2689.316</td>\n",
       "      <td>0.635</td>\n",
       "    </tr>\n",
       "    <tr>\n",
       "      <th>6</th>\n",
       "      <td>GradientBoostingRegressor()</td>\n",
       "      <td>7484473.751</td>\n",
       "      <td>2735.777</td>\n",
       "      <td>0.622</td>\n",
       "    </tr>\n",
       "    <tr>\n",
       "      <th>7</th>\n",
       "      <td>RandomForestRegressor()</td>\n",
       "      <td>7934873.250</td>\n",
       "      <td>2816.891</td>\n",
       "      <td>0.600</td>\n",
       "    </tr>\n",
       "    <tr>\n",
       "      <th>8</th>\n",
       "      <td>TensorFlow RMSprop</td>\n",
       "      <td>8149992.687</td>\n",
       "      <td>2854.819</td>\n",
       "      <td>0.589</td>\n",
       "    </tr>\n",
       "    <tr>\n",
       "      <th>9</th>\n",
       "      <td>DecisionTreeRegressor()</td>\n",
       "      <td>8425743.190</td>\n",
       "      <td>2902.713</td>\n",
       "      <td>0.575</td>\n",
       "    </tr>\n",
       "  </tbody>\n",
       "</table>\n",
       "</div>"
      ],
      "text/plain": [
       "                        Modelo          MSE      RMSE     R²\n",
       "0                 ElasticNet()  6029687.291  2455.542  0.696\n",
       "1                      Ridge()  6037027.010  2457.036  0.695\n",
       "2           LinearRegression()  6066751.892  2463.078  0.694\n",
       "3                      Lasso()  6065291.680  2462.781  0.694\n",
       "4        ExtraTreesRegressor()  7171136.050  2677.898  0.638\n",
       "5          AdaBoostRegressor()  7232418.868  2689.316  0.635\n",
       "6  GradientBoostingRegressor()  7484473.751  2735.777  0.622\n",
       "7      RandomForestRegressor()  7934873.250  2816.891  0.600\n",
       "8           TensorFlow RMSprop  8149992.687  2854.819  0.589\n",
       "9      DecisionTreeRegressor()  8425743.190  2902.713  0.575"
      ]
     },
     "execution_count": 54,
     "metadata": {},
     "output_type": "execute_result"
    }
   ],
   "source": [
    "metricas.sort_values('R²', ascending=False).reset_index(drop=True)"
   ]
  },
  {
   "cell_type": "markdown",
   "metadata": {},
   "source": [
    "# <font color='red' style='font-size: 30px;'>Utilizando Pycaret</font>\n",
    "<hr style='border: 2px solid red;'>"
   ]
  },
  {
   "cell_type": "code",
   "execution_count": 55,
   "metadata": {
    "ExecuteTime": {
     "end_time": "2020-11-03T00:18:19.545000Z",
     "start_time": "2020-11-03T00:18:19.531008Z"
    }
   },
   "outputs": [],
   "source": [
    "from pycaret.regression import setup, compare_models, models, create_model, tune_model, evaluate_model"
   ]
  },
  {
   "cell_type": "code",
   "execution_count": 56,
   "metadata": {
    "ExecuteTime": {
     "end_time": "2020-11-03T00:18:20.121084Z",
     "start_time": "2020-11-03T00:18:20.106099Z"
    }
   },
   "outputs": [],
   "source": [
    "# Não é necessário separar as features do target, pois o pycaret faz isso\n",
    "dados2 = dados[['temp_max', 'chuva', 'fds', 'consumo']]"
   ]
  },
  {
   "cell_type": "code",
   "execution_count": 57,
   "metadata": {
    "ExecuteTime": {
     "end_time": "2020-11-03T00:18:24.091013Z",
     "start_time": "2020-11-03T00:18:20.680813Z"
    }
   },
   "outputs": [
    {
     "name": "stdout",
     "output_type": "stream",
     "text": [
      " \n",
      "Setup Succesfully Completed.\n"
     ]
    },
    {
     "data": {
      "text/html": [
       "<style  type=\"text/css\" >\n",
       "</style><table id=\"T_162d2dfa_1d6a_11eb_be96_1cbfc0fa7fd8\" ><thead>    <tr>        <th class=\"blank level0\" ></th>        <th class=\"col_heading level0 col0\" >Description</th>        <th class=\"col_heading level0 col1\" >Value</th>    </tr></thead><tbody>\n",
       "                <tr>\n",
       "                        <th id=\"T_162d2dfa_1d6a_11eb_be96_1cbfc0fa7fd8level0_row0\" class=\"row_heading level0 row0\" >0</th>\n",
       "                        <td id=\"T_162d2dfa_1d6a_11eb_be96_1cbfc0fa7fd8row0_col0\" class=\"data row0 col0\" >session_id</td>\n",
       "                        <td id=\"T_162d2dfa_1d6a_11eb_be96_1cbfc0fa7fd8row0_col1\" class=\"data row0 col1\" >2924</td>\n",
       "            </tr>\n",
       "            <tr>\n",
       "                        <th id=\"T_162d2dfa_1d6a_11eb_be96_1cbfc0fa7fd8level0_row1\" class=\"row_heading level0 row1\" >1</th>\n",
       "                        <td id=\"T_162d2dfa_1d6a_11eb_be96_1cbfc0fa7fd8row1_col0\" class=\"data row1 col0\" >Transform Target </td>\n",
       "                        <td id=\"T_162d2dfa_1d6a_11eb_be96_1cbfc0fa7fd8row1_col1\" class=\"data row1 col1\" >False</td>\n",
       "            </tr>\n",
       "            <tr>\n",
       "                        <th id=\"T_162d2dfa_1d6a_11eb_be96_1cbfc0fa7fd8level0_row2\" class=\"row_heading level0 row2\" >2</th>\n",
       "                        <td id=\"T_162d2dfa_1d6a_11eb_be96_1cbfc0fa7fd8row2_col0\" class=\"data row2 col0\" >Transform Target Method</td>\n",
       "                        <td id=\"T_162d2dfa_1d6a_11eb_be96_1cbfc0fa7fd8row2_col1\" class=\"data row2 col1\" >None</td>\n",
       "            </tr>\n",
       "            <tr>\n",
       "                        <th id=\"T_162d2dfa_1d6a_11eb_be96_1cbfc0fa7fd8level0_row3\" class=\"row_heading level0 row3\" >3</th>\n",
       "                        <td id=\"T_162d2dfa_1d6a_11eb_be96_1cbfc0fa7fd8row3_col0\" class=\"data row3 col0\" >Original Data</td>\n",
       "                        <td id=\"T_162d2dfa_1d6a_11eb_be96_1cbfc0fa7fd8row3_col1\" class=\"data row3 col1\" >(365, 4)</td>\n",
       "            </tr>\n",
       "            <tr>\n",
       "                        <th id=\"T_162d2dfa_1d6a_11eb_be96_1cbfc0fa7fd8level0_row4\" class=\"row_heading level0 row4\" >4</th>\n",
       "                        <td id=\"T_162d2dfa_1d6a_11eb_be96_1cbfc0fa7fd8row4_col0\" class=\"data row4 col0\" >Missing Values </td>\n",
       "                        <td id=\"T_162d2dfa_1d6a_11eb_be96_1cbfc0fa7fd8row4_col1\" class=\"data row4 col1\" >False</td>\n",
       "            </tr>\n",
       "            <tr>\n",
       "                        <th id=\"T_162d2dfa_1d6a_11eb_be96_1cbfc0fa7fd8level0_row5\" class=\"row_heading level0 row5\" >5</th>\n",
       "                        <td id=\"T_162d2dfa_1d6a_11eb_be96_1cbfc0fa7fd8row5_col0\" class=\"data row5 col0\" >Numeric Features </td>\n",
       "                        <td id=\"T_162d2dfa_1d6a_11eb_be96_1cbfc0fa7fd8row5_col1\" class=\"data row5 col1\" >2</td>\n",
       "            </tr>\n",
       "            <tr>\n",
       "                        <th id=\"T_162d2dfa_1d6a_11eb_be96_1cbfc0fa7fd8level0_row6\" class=\"row_heading level0 row6\" >6</th>\n",
       "                        <td id=\"T_162d2dfa_1d6a_11eb_be96_1cbfc0fa7fd8row6_col0\" class=\"data row6 col0\" >Categorical Features </td>\n",
       "                        <td id=\"T_162d2dfa_1d6a_11eb_be96_1cbfc0fa7fd8row6_col1\" class=\"data row6 col1\" >1</td>\n",
       "            </tr>\n",
       "            <tr>\n",
       "                        <th id=\"T_162d2dfa_1d6a_11eb_be96_1cbfc0fa7fd8level0_row7\" class=\"row_heading level0 row7\" >7</th>\n",
       "                        <td id=\"T_162d2dfa_1d6a_11eb_be96_1cbfc0fa7fd8row7_col0\" class=\"data row7 col0\" >Ordinal Features </td>\n",
       "                        <td id=\"T_162d2dfa_1d6a_11eb_be96_1cbfc0fa7fd8row7_col1\" class=\"data row7 col1\" >False</td>\n",
       "            </tr>\n",
       "            <tr>\n",
       "                        <th id=\"T_162d2dfa_1d6a_11eb_be96_1cbfc0fa7fd8level0_row8\" class=\"row_heading level0 row8\" >8</th>\n",
       "                        <td id=\"T_162d2dfa_1d6a_11eb_be96_1cbfc0fa7fd8row8_col0\" class=\"data row8 col0\" >High Cardinality Features </td>\n",
       "                        <td id=\"T_162d2dfa_1d6a_11eb_be96_1cbfc0fa7fd8row8_col1\" class=\"data row8 col1\" >False</td>\n",
       "            </tr>\n",
       "            <tr>\n",
       "                        <th id=\"T_162d2dfa_1d6a_11eb_be96_1cbfc0fa7fd8level0_row9\" class=\"row_heading level0 row9\" >9</th>\n",
       "                        <td id=\"T_162d2dfa_1d6a_11eb_be96_1cbfc0fa7fd8row9_col0\" class=\"data row9 col0\" >High Cardinality Method </td>\n",
       "                        <td id=\"T_162d2dfa_1d6a_11eb_be96_1cbfc0fa7fd8row9_col1\" class=\"data row9 col1\" >None</td>\n",
       "            </tr>\n",
       "            <tr>\n",
       "                        <th id=\"T_162d2dfa_1d6a_11eb_be96_1cbfc0fa7fd8level0_row10\" class=\"row_heading level0 row10\" >10</th>\n",
       "                        <td id=\"T_162d2dfa_1d6a_11eb_be96_1cbfc0fa7fd8row10_col0\" class=\"data row10 col0\" >Sampled Data</td>\n",
       "                        <td id=\"T_162d2dfa_1d6a_11eb_be96_1cbfc0fa7fd8row10_col1\" class=\"data row10 col1\" >(365, 4)</td>\n",
       "            </tr>\n",
       "            <tr>\n",
       "                        <th id=\"T_162d2dfa_1d6a_11eb_be96_1cbfc0fa7fd8level0_row11\" class=\"row_heading level0 row11\" >11</th>\n",
       "                        <td id=\"T_162d2dfa_1d6a_11eb_be96_1cbfc0fa7fd8row11_col0\" class=\"data row11 col0\" >Transformed Train Set</td>\n",
       "                        <td id=\"T_162d2dfa_1d6a_11eb_be96_1cbfc0fa7fd8row11_col1\" class=\"data row11 col1\" >(255, 4)</td>\n",
       "            </tr>\n",
       "            <tr>\n",
       "                        <th id=\"T_162d2dfa_1d6a_11eb_be96_1cbfc0fa7fd8level0_row12\" class=\"row_heading level0 row12\" >12</th>\n",
       "                        <td id=\"T_162d2dfa_1d6a_11eb_be96_1cbfc0fa7fd8row12_col0\" class=\"data row12 col0\" >Transformed Test Set</td>\n",
       "                        <td id=\"T_162d2dfa_1d6a_11eb_be96_1cbfc0fa7fd8row12_col1\" class=\"data row12 col1\" >(110, 4)</td>\n",
       "            </tr>\n",
       "            <tr>\n",
       "                        <th id=\"T_162d2dfa_1d6a_11eb_be96_1cbfc0fa7fd8level0_row13\" class=\"row_heading level0 row13\" >13</th>\n",
       "                        <td id=\"T_162d2dfa_1d6a_11eb_be96_1cbfc0fa7fd8row13_col0\" class=\"data row13 col0\" >Numeric Imputer </td>\n",
       "                        <td id=\"T_162d2dfa_1d6a_11eb_be96_1cbfc0fa7fd8row13_col1\" class=\"data row13 col1\" >mean</td>\n",
       "            </tr>\n",
       "            <tr>\n",
       "                        <th id=\"T_162d2dfa_1d6a_11eb_be96_1cbfc0fa7fd8level0_row14\" class=\"row_heading level0 row14\" >14</th>\n",
       "                        <td id=\"T_162d2dfa_1d6a_11eb_be96_1cbfc0fa7fd8row14_col0\" class=\"data row14 col0\" >Categorical Imputer </td>\n",
       "                        <td id=\"T_162d2dfa_1d6a_11eb_be96_1cbfc0fa7fd8row14_col1\" class=\"data row14 col1\" >constant</td>\n",
       "            </tr>\n",
       "            <tr>\n",
       "                        <th id=\"T_162d2dfa_1d6a_11eb_be96_1cbfc0fa7fd8level0_row15\" class=\"row_heading level0 row15\" >15</th>\n",
       "                        <td id=\"T_162d2dfa_1d6a_11eb_be96_1cbfc0fa7fd8row15_col0\" class=\"data row15 col0\" >Normalize </td>\n",
       "                        <td id=\"T_162d2dfa_1d6a_11eb_be96_1cbfc0fa7fd8row15_col1\" class=\"data row15 col1\" >False</td>\n",
       "            </tr>\n",
       "            <tr>\n",
       "                        <th id=\"T_162d2dfa_1d6a_11eb_be96_1cbfc0fa7fd8level0_row16\" class=\"row_heading level0 row16\" >16</th>\n",
       "                        <td id=\"T_162d2dfa_1d6a_11eb_be96_1cbfc0fa7fd8row16_col0\" class=\"data row16 col0\" >Normalize Method </td>\n",
       "                        <td id=\"T_162d2dfa_1d6a_11eb_be96_1cbfc0fa7fd8row16_col1\" class=\"data row16 col1\" >None</td>\n",
       "            </tr>\n",
       "            <tr>\n",
       "                        <th id=\"T_162d2dfa_1d6a_11eb_be96_1cbfc0fa7fd8level0_row17\" class=\"row_heading level0 row17\" >17</th>\n",
       "                        <td id=\"T_162d2dfa_1d6a_11eb_be96_1cbfc0fa7fd8row17_col0\" class=\"data row17 col0\" >Transformation </td>\n",
       "                        <td id=\"T_162d2dfa_1d6a_11eb_be96_1cbfc0fa7fd8row17_col1\" class=\"data row17 col1\" >False</td>\n",
       "            </tr>\n",
       "            <tr>\n",
       "                        <th id=\"T_162d2dfa_1d6a_11eb_be96_1cbfc0fa7fd8level0_row18\" class=\"row_heading level0 row18\" >18</th>\n",
       "                        <td id=\"T_162d2dfa_1d6a_11eb_be96_1cbfc0fa7fd8row18_col0\" class=\"data row18 col0\" >Transformation Method </td>\n",
       "                        <td id=\"T_162d2dfa_1d6a_11eb_be96_1cbfc0fa7fd8row18_col1\" class=\"data row18 col1\" >None</td>\n",
       "            </tr>\n",
       "            <tr>\n",
       "                        <th id=\"T_162d2dfa_1d6a_11eb_be96_1cbfc0fa7fd8level0_row19\" class=\"row_heading level0 row19\" >19</th>\n",
       "                        <td id=\"T_162d2dfa_1d6a_11eb_be96_1cbfc0fa7fd8row19_col0\" class=\"data row19 col0\" >PCA </td>\n",
       "                        <td id=\"T_162d2dfa_1d6a_11eb_be96_1cbfc0fa7fd8row19_col1\" class=\"data row19 col1\" >False</td>\n",
       "            </tr>\n",
       "            <tr>\n",
       "                        <th id=\"T_162d2dfa_1d6a_11eb_be96_1cbfc0fa7fd8level0_row20\" class=\"row_heading level0 row20\" >20</th>\n",
       "                        <td id=\"T_162d2dfa_1d6a_11eb_be96_1cbfc0fa7fd8row20_col0\" class=\"data row20 col0\" >PCA Method </td>\n",
       "                        <td id=\"T_162d2dfa_1d6a_11eb_be96_1cbfc0fa7fd8row20_col1\" class=\"data row20 col1\" >None</td>\n",
       "            </tr>\n",
       "            <tr>\n",
       "                        <th id=\"T_162d2dfa_1d6a_11eb_be96_1cbfc0fa7fd8level0_row21\" class=\"row_heading level0 row21\" >21</th>\n",
       "                        <td id=\"T_162d2dfa_1d6a_11eb_be96_1cbfc0fa7fd8row21_col0\" class=\"data row21 col0\" >PCA Components </td>\n",
       "                        <td id=\"T_162d2dfa_1d6a_11eb_be96_1cbfc0fa7fd8row21_col1\" class=\"data row21 col1\" >None</td>\n",
       "            </tr>\n",
       "            <tr>\n",
       "                        <th id=\"T_162d2dfa_1d6a_11eb_be96_1cbfc0fa7fd8level0_row22\" class=\"row_heading level0 row22\" >22</th>\n",
       "                        <td id=\"T_162d2dfa_1d6a_11eb_be96_1cbfc0fa7fd8row22_col0\" class=\"data row22 col0\" >Ignore Low Variance </td>\n",
       "                        <td id=\"T_162d2dfa_1d6a_11eb_be96_1cbfc0fa7fd8row22_col1\" class=\"data row22 col1\" >False</td>\n",
       "            </tr>\n",
       "            <tr>\n",
       "                        <th id=\"T_162d2dfa_1d6a_11eb_be96_1cbfc0fa7fd8level0_row23\" class=\"row_heading level0 row23\" >23</th>\n",
       "                        <td id=\"T_162d2dfa_1d6a_11eb_be96_1cbfc0fa7fd8row23_col0\" class=\"data row23 col0\" >Combine Rare Levels </td>\n",
       "                        <td id=\"T_162d2dfa_1d6a_11eb_be96_1cbfc0fa7fd8row23_col1\" class=\"data row23 col1\" >False</td>\n",
       "            </tr>\n",
       "            <tr>\n",
       "                        <th id=\"T_162d2dfa_1d6a_11eb_be96_1cbfc0fa7fd8level0_row24\" class=\"row_heading level0 row24\" >24</th>\n",
       "                        <td id=\"T_162d2dfa_1d6a_11eb_be96_1cbfc0fa7fd8row24_col0\" class=\"data row24 col0\" >Rare Level Threshold </td>\n",
       "                        <td id=\"T_162d2dfa_1d6a_11eb_be96_1cbfc0fa7fd8row24_col1\" class=\"data row24 col1\" >None</td>\n",
       "            </tr>\n",
       "            <tr>\n",
       "                        <th id=\"T_162d2dfa_1d6a_11eb_be96_1cbfc0fa7fd8level0_row25\" class=\"row_heading level0 row25\" >25</th>\n",
       "                        <td id=\"T_162d2dfa_1d6a_11eb_be96_1cbfc0fa7fd8row25_col0\" class=\"data row25 col0\" >Numeric Binning </td>\n",
       "                        <td id=\"T_162d2dfa_1d6a_11eb_be96_1cbfc0fa7fd8row25_col1\" class=\"data row25 col1\" >False</td>\n",
       "            </tr>\n",
       "            <tr>\n",
       "                        <th id=\"T_162d2dfa_1d6a_11eb_be96_1cbfc0fa7fd8level0_row26\" class=\"row_heading level0 row26\" >26</th>\n",
       "                        <td id=\"T_162d2dfa_1d6a_11eb_be96_1cbfc0fa7fd8row26_col0\" class=\"data row26 col0\" >Remove Outliers </td>\n",
       "                        <td id=\"T_162d2dfa_1d6a_11eb_be96_1cbfc0fa7fd8row26_col1\" class=\"data row26 col1\" >False</td>\n",
       "            </tr>\n",
       "            <tr>\n",
       "                        <th id=\"T_162d2dfa_1d6a_11eb_be96_1cbfc0fa7fd8level0_row27\" class=\"row_heading level0 row27\" >27</th>\n",
       "                        <td id=\"T_162d2dfa_1d6a_11eb_be96_1cbfc0fa7fd8row27_col0\" class=\"data row27 col0\" >Outliers Threshold </td>\n",
       "                        <td id=\"T_162d2dfa_1d6a_11eb_be96_1cbfc0fa7fd8row27_col1\" class=\"data row27 col1\" >None</td>\n",
       "            </tr>\n",
       "            <tr>\n",
       "                        <th id=\"T_162d2dfa_1d6a_11eb_be96_1cbfc0fa7fd8level0_row28\" class=\"row_heading level0 row28\" >28</th>\n",
       "                        <td id=\"T_162d2dfa_1d6a_11eb_be96_1cbfc0fa7fd8row28_col0\" class=\"data row28 col0\" >Remove Multicollinearity </td>\n",
       "                        <td id=\"T_162d2dfa_1d6a_11eb_be96_1cbfc0fa7fd8row28_col1\" class=\"data row28 col1\" >False</td>\n",
       "            </tr>\n",
       "            <tr>\n",
       "                        <th id=\"T_162d2dfa_1d6a_11eb_be96_1cbfc0fa7fd8level0_row29\" class=\"row_heading level0 row29\" >29</th>\n",
       "                        <td id=\"T_162d2dfa_1d6a_11eb_be96_1cbfc0fa7fd8row29_col0\" class=\"data row29 col0\" >Multicollinearity Threshold </td>\n",
       "                        <td id=\"T_162d2dfa_1d6a_11eb_be96_1cbfc0fa7fd8row29_col1\" class=\"data row29 col1\" >None</td>\n",
       "            </tr>\n",
       "            <tr>\n",
       "                        <th id=\"T_162d2dfa_1d6a_11eb_be96_1cbfc0fa7fd8level0_row30\" class=\"row_heading level0 row30\" >30</th>\n",
       "                        <td id=\"T_162d2dfa_1d6a_11eb_be96_1cbfc0fa7fd8row30_col0\" class=\"data row30 col0\" >Clustering </td>\n",
       "                        <td id=\"T_162d2dfa_1d6a_11eb_be96_1cbfc0fa7fd8row30_col1\" class=\"data row30 col1\" >False</td>\n",
       "            </tr>\n",
       "            <tr>\n",
       "                        <th id=\"T_162d2dfa_1d6a_11eb_be96_1cbfc0fa7fd8level0_row31\" class=\"row_heading level0 row31\" >31</th>\n",
       "                        <td id=\"T_162d2dfa_1d6a_11eb_be96_1cbfc0fa7fd8row31_col0\" class=\"data row31 col0\" >Clustering Iteration </td>\n",
       "                        <td id=\"T_162d2dfa_1d6a_11eb_be96_1cbfc0fa7fd8row31_col1\" class=\"data row31 col1\" >None</td>\n",
       "            </tr>\n",
       "            <tr>\n",
       "                        <th id=\"T_162d2dfa_1d6a_11eb_be96_1cbfc0fa7fd8level0_row32\" class=\"row_heading level0 row32\" >32</th>\n",
       "                        <td id=\"T_162d2dfa_1d6a_11eb_be96_1cbfc0fa7fd8row32_col0\" class=\"data row32 col0\" >Polynomial Features </td>\n",
       "                        <td id=\"T_162d2dfa_1d6a_11eb_be96_1cbfc0fa7fd8row32_col1\" class=\"data row32 col1\" >False</td>\n",
       "            </tr>\n",
       "            <tr>\n",
       "                        <th id=\"T_162d2dfa_1d6a_11eb_be96_1cbfc0fa7fd8level0_row33\" class=\"row_heading level0 row33\" >33</th>\n",
       "                        <td id=\"T_162d2dfa_1d6a_11eb_be96_1cbfc0fa7fd8row33_col0\" class=\"data row33 col0\" >Polynomial Degree </td>\n",
       "                        <td id=\"T_162d2dfa_1d6a_11eb_be96_1cbfc0fa7fd8row33_col1\" class=\"data row33 col1\" >None</td>\n",
       "            </tr>\n",
       "            <tr>\n",
       "                        <th id=\"T_162d2dfa_1d6a_11eb_be96_1cbfc0fa7fd8level0_row34\" class=\"row_heading level0 row34\" >34</th>\n",
       "                        <td id=\"T_162d2dfa_1d6a_11eb_be96_1cbfc0fa7fd8row34_col0\" class=\"data row34 col0\" >Trignometry Features </td>\n",
       "                        <td id=\"T_162d2dfa_1d6a_11eb_be96_1cbfc0fa7fd8row34_col1\" class=\"data row34 col1\" >False</td>\n",
       "            </tr>\n",
       "            <tr>\n",
       "                        <th id=\"T_162d2dfa_1d6a_11eb_be96_1cbfc0fa7fd8level0_row35\" class=\"row_heading level0 row35\" >35</th>\n",
       "                        <td id=\"T_162d2dfa_1d6a_11eb_be96_1cbfc0fa7fd8row35_col0\" class=\"data row35 col0\" >Polynomial Threshold </td>\n",
       "                        <td id=\"T_162d2dfa_1d6a_11eb_be96_1cbfc0fa7fd8row35_col1\" class=\"data row35 col1\" >None</td>\n",
       "            </tr>\n",
       "            <tr>\n",
       "                        <th id=\"T_162d2dfa_1d6a_11eb_be96_1cbfc0fa7fd8level0_row36\" class=\"row_heading level0 row36\" >36</th>\n",
       "                        <td id=\"T_162d2dfa_1d6a_11eb_be96_1cbfc0fa7fd8row36_col0\" class=\"data row36 col0\" >Group Features </td>\n",
       "                        <td id=\"T_162d2dfa_1d6a_11eb_be96_1cbfc0fa7fd8row36_col1\" class=\"data row36 col1\" >False</td>\n",
       "            </tr>\n",
       "            <tr>\n",
       "                        <th id=\"T_162d2dfa_1d6a_11eb_be96_1cbfc0fa7fd8level0_row37\" class=\"row_heading level0 row37\" >37</th>\n",
       "                        <td id=\"T_162d2dfa_1d6a_11eb_be96_1cbfc0fa7fd8row37_col0\" class=\"data row37 col0\" >Feature Selection </td>\n",
       "                        <td id=\"T_162d2dfa_1d6a_11eb_be96_1cbfc0fa7fd8row37_col1\" class=\"data row37 col1\" >False</td>\n",
       "            </tr>\n",
       "            <tr>\n",
       "                        <th id=\"T_162d2dfa_1d6a_11eb_be96_1cbfc0fa7fd8level0_row38\" class=\"row_heading level0 row38\" >38</th>\n",
       "                        <td id=\"T_162d2dfa_1d6a_11eb_be96_1cbfc0fa7fd8row38_col0\" class=\"data row38 col0\" >Features Selection Threshold </td>\n",
       "                        <td id=\"T_162d2dfa_1d6a_11eb_be96_1cbfc0fa7fd8row38_col1\" class=\"data row38 col1\" >None</td>\n",
       "            </tr>\n",
       "            <tr>\n",
       "                        <th id=\"T_162d2dfa_1d6a_11eb_be96_1cbfc0fa7fd8level0_row39\" class=\"row_heading level0 row39\" >39</th>\n",
       "                        <td id=\"T_162d2dfa_1d6a_11eb_be96_1cbfc0fa7fd8row39_col0\" class=\"data row39 col0\" >Feature Interaction </td>\n",
       "                        <td id=\"T_162d2dfa_1d6a_11eb_be96_1cbfc0fa7fd8row39_col1\" class=\"data row39 col1\" >False</td>\n",
       "            </tr>\n",
       "            <tr>\n",
       "                        <th id=\"T_162d2dfa_1d6a_11eb_be96_1cbfc0fa7fd8level0_row40\" class=\"row_heading level0 row40\" >40</th>\n",
       "                        <td id=\"T_162d2dfa_1d6a_11eb_be96_1cbfc0fa7fd8row40_col0\" class=\"data row40 col0\" >Feature Ratio </td>\n",
       "                        <td id=\"T_162d2dfa_1d6a_11eb_be96_1cbfc0fa7fd8row40_col1\" class=\"data row40 col1\" >False</td>\n",
       "            </tr>\n",
       "            <tr>\n",
       "                        <th id=\"T_162d2dfa_1d6a_11eb_be96_1cbfc0fa7fd8level0_row41\" class=\"row_heading level0 row41\" >41</th>\n",
       "                        <td id=\"T_162d2dfa_1d6a_11eb_be96_1cbfc0fa7fd8row41_col0\" class=\"data row41 col0\" >Interaction Threshold </td>\n",
       "                        <td id=\"T_162d2dfa_1d6a_11eb_be96_1cbfc0fa7fd8row41_col1\" class=\"data row41 col1\" >None</td>\n",
       "            </tr>\n",
       "    </tbody></table>"
      ],
      "text/plain": [
       "<pandas.io.formats.style.Styler at 0x1a90489f2e0>"
      ]
     },
     "metadata": {},
     "output_type": "display_data"
    }
   ],
   "source": [
    "regressor = setup(data=dados2, target='consumo')"
   ]
  },
  {
   "cell_type": "code",
   "execution_count": 58,
   "metadata": {
    "ExecuteTime": {
     "end_time": "2020-11-03T00:18:46.114037Z",
     "start_time": "2020-11-03T00:18:25.136970Z"
    }
   },
   "outputs": [
    {
     "data": {
      "text/html": [
       "<style  type=\"text/css\" >\n",
       "    #T_234cb68c_1d6a_11eb_9d99_1cbfc0fa7fd8 th {\n",
       "          text-align: left;\n",
       "    }    #T_234cb68c_1d6a_11eb_9d99_1cbfc0fa7fd8row0_col0 {\n",
       "            text-align:  left;\n",
       "        }    #T_234cb68c_1d6a_11eb_9d99_1cbfc0fa7fd8row0_col1 {\n",
       "            background-color:  yellow;\n",
       "            text-align:  left;\n",
       "        }    #T_234cb68c_1d6a_11eb_9d99_1cbfc0fa7fd8row0_col2 {\n",
       "            : ;\n",
       "            text-align:  left;\n",
       "        }    #T_234cb68c_1d6a_11eb_9d99_1cbfc0fa7fd8row0_col3 {\n",
       "            : ;\n",
       "            text-align:  left;\n",
       "        }    #T_234cb68c_1d6a_11eb_9d99_1cbfc0fa7fd8row0_col4 {\n",
       "            background-color:  yellow;\n",
       "            text-align:  left;\n",
       "        }    #T_234cb68c_1d6a_11eb_9d99_1cbfc0fa7fd8row0_col5 {\n",
       "            background-color:  yellow;\n",
       "            text-align:  left;\n",
       "        }    #T_234cb68c_1d6a_11eb_9d99_1cbfc0fa7fd8row0_col6 {\n",
       "            background-color:  yellow;\n",
       "            text-align:  left;\n",
       "        }    #T_234cb68c_1d6a_11eb_9d99_1cbfc0fa7fd8row0_col7 {\n",
       "            background-color:  lightgrey;\n",
       "            text-align:  left;\n",
       "        }    #T_234cb68c_1d6a_11eb_9d99_1cbfc0fa7fd8row1_col0 {\n",
       "            text-align:  left;\n",
       "        }    #T_234cb68c_1d6a_11eb_9d99_1cbfc0fa7fd8row1_col1 {\n",
       "            : ;\n",
       "            text-align:  left;\n",
       "        }    #T_234cb68c_1d6a_11eb_9d99_1cbfc0fa7fd8row1_col2 {\n",
       "            : ;\n",
       "            text-align:  left;\n",
       "        }    #T_234cb68c_1d6a_11eb_9d99_1cbfc0fa7fd8row1_col3 {\n",
       "            : ;\n",
       "            text-align:  left;\n",
       "        }    #T_234cb68c_1d6a_11eb_9d99_1cbfc0fa7fd8row1_col4 {\n",
       "            background-color:  yellow;\n",
       "            text-align:  left;\n",
       "        }    #T_234cb68c_1d6a_11eb_9d99_1cbfc0fa7fd8row1_col5 {\n",
       "            background-color:  yellow;\n",
       "            text-align:  left;\n",
       "        }    #T_234cb68c_1d6a_11eb_9d99_1cbfc0fa7fd8row1_col6 {\n",
       "            background-color:  yellow;\n",
       "            text-align:  left;\n",
       "        }    #T_234cb68c_1d6a_11eb_9d99_1cbfc0fa7fd8row1_col7 {\n",
       "            background-color:  lightgrey;\n",
       "            text-align:  left;\n",
       "        }    #T_234cb68c_1d6a_11eb_9d99_1cbfc0fa7fd8row2_col0 {\n",
       "            text-align:  left;\n",
       "        }    #T_234cb68c_1d6a_11eb_9d99_1cbfc0fa7fd8row2_col1 {\n",
       "            : ;\n",
       "            text-align:  left;\n",
       "        }    #T_234cb68c_1d6a_11eb_9d99_1cbfc0fa7fd8row2_col2 {\n",
       "            : ;\n",
       "            text-align:  left;\n",
       "        }    #T_234cb68c_1d6a_11eb_9d99_1cbfc0fa7fd8row2_col3 {\n",
       "            background-color:  yellow;\n",
       "            text-align:  left;\n",
       "        }    #T_234cb68c_1d6a_11eb_9d99_1cbfc0fa7fd8row2_col4 {\n",
       "            : ;\n",
       "            text-align:  left;\n",
       "        }    #T_234cb68c_1d6a_11eb_9d99_1cbfc0fa7fd8row2_col5 {\n",
       "            background-color:  yellow;\n",
       "            text-align:  left;\n",
       "        }    #T_234cb68c_1d6a_11eb_9d99_1cbfc0fa7fd8row2_col6 {\n",
       "            background-color:  yellow;\n",
       "            text-align:  left;\n",
       "        }    #T_234cb68c_1d6a_11eb_9d99_1cbfc0fa7fd8row2_col7 {\n",
       "            background-color:  lightgrey;\n",
       "            text-align:  left;\n",
       "        }    #T_234cb68c_1d6a_11eb_9d99_1cbfc0fa7fd8row3_col0 {\n",
       "            text-align:  left;\n",
       "        }    #T_234cb68c_1d6a_11eb_9d99_1cbfc0fa7fd8row3_col1 {\n",
       "            : ;\n",
       "            text-align:  left;\n",
       "        }    #T_234cb68c_1d6a_11eb_9d99_1cbfc0fa7fd8row3_col2 {\n",
       "            background-color:  yellow;\n",
       "            text-align:  left;\n",
       "        }    #T_234cb68c_1d6a_11eb_9d99_1cbfc0fa7fd8row3_col3 {\n",
       "            : ;\n",
       "            text-align:  left;\n",
       "        }    #T_234cb68c_1d6a_11eb_9d99_1cbfc0fa7fd8row3_col4 {\n",
       "            : ;\n",
       "            text-align:  left;\n",
       "        }    #T_234cb68c_1d6a_11eb_9d99_1cbfc0fa7fd8row3_col5 {\n",
       "            background-color:  yellow;\n",
       "            text-align:  left;\n",
       "        }    #T_234cb68c_1d6a_11eb_9d99_1cbfc0fa7fd8row3_col6 {\n",
       "            background-color:  yellow;\n",
       "            text-align:  left;\n",
       "        }    #T_234cb68c_1d6a_11eb_9d99_1cbfc0fa7fd8row3_col7 {\n",
       "            background-color:  lightgrey;\n",
       "            text-align:  left;\n",
       "        }    #T_234cb68c_1d6a_11eb_9d99_1cbfc0fa7fd8row4_col0 {\n",
       "            text-align:  left;\n",
       "        }    #T_234cb68c_1d6a_11eb_9d99_1cbfc0fa7fd8row4_col1 {\n",
       "            : ;\n",
       "            text-align:  left;\n",
       "        }    #T_234cb68c_1d6a_11eb_9d99_1cbfc0fa7fd8row4_col2 {\n",
       "            : ;\n",
       "            text-align:  left;\n",
       "        }    #T_234cb68c_1d6a_11eb_9d99_1cbfc0fa7fd8row4_col3 {\n",
       "            : ;\n",
       "            text-align:  left;\n",
       "        }    #T_234cb68c_1d6a_11eb_9d99_1cbfc0fa7fd8row4_col4 {\n",
       "            : ;\n",
       "            text-align:  left;\n",
       "        }    #T_234cb68c_1d6a_11eb_9d99_1cbfc0fa7fd8row4_col5 {\n",
       "            : ;\n",
       "            text-align:  left;\n",
       "        }    #T_234cb68c_1d6a_11eb_9d99_1cbfc0fa7fd8row4_col6 {\n",
       "            : ;\n",
       "            text-align:  left;\n",
       "        }    #T_234cb68c_1d6a_11eb_9d99_1cbfc0fa7fd8row4_col7 {\n",
       "            background-color:  lightgrey;\n",
       "            text-align:  left;\n",
       "        }    #T_234cb68c_1d6a_11eb_9d99_1cbfc0fa7fd8row5_col0 {\n",
       "            text-align:  left;\n",
       "        }    #T_234cb68c_1d6a_11eb_9d99_1cbfc0fa7fd8row5_col1 {\n",
       "            : ;\n",
       "            text-align:  left;\n",
       "        }    #T_234cb68c_1d6a_11eb_9d99_1cbfc0fa7fd8row5_col2 {\n",
       "            : ;\n",
       "            text-align:  left;\n",
       "        }    #T_234cb68c_1d6a_11eb_9d99_1cbfc0fa7fd8row5_col3 {\n",
       "            : ;\n",
       "            text-align:  left;\n",
       "        }    #T_234cb68c_1d6a_11eb_9d99_1cbfc0fa7fd8row5_col4 {\n",
       "            : ;\n",
       "            text-align:  left;\n",
       "        }    #T_234cb68c_1d6a_11eb_9d99_1cbfc0fa7fd8row5_col5 {\n",
       "            : ;\n",
       "            text-align:  left;\n",
       "        }    #T_234cb68c_1d6a_11eb_9d99_1cbfc0fa7fd8row5_col6 {\n",
       "            : ;\n",
       "            text-align:  left;\n",
       "        }    #T_234cb68c_1d6a_11eb_9d99_1cbfc0fa7fd8row5_col7 {\n",
       "            background-color:  lightgrey;\n",
       "            text-align:  left;\n",
       "        }    #T_234cb68c_1d6a_11eb_9d99_1cbfc0fa7fd8row6_col0 {\n",
       "            text-align:  left;\n",
       "        }    #T_234cb68c_1d6a_11eb_9d99_1cbfc0fa7fd8row6_col1 {\n",
       "            : ;\n",
       "            text-align:  left;\n",
       "        }    #T_234cb68c_1d6a_11eb_9d99_1cbfc0fa7fd8row6_col2 {\n",
       "            : ;\n",
       "            text-align:  left;\n",
       "        }    #T_234cb68c_1d6a_11eb_9d99_1cbfc0fa7fd8row6_col3 {\n",
       "            : ;\n",
       "            text-align:  left;\n",
       "        }    #T_234cb68c_1d6a_11eb_9d99_1cbfc0fa7fd8row6_col4 {\n",
       "            : ;\n",
       "            text-align:  left;\n",
       "        }    #T_234cb68c_1d6a_11eb_9d99_1cbfc0fa7fd8row6_col5 {\n",
       "            : ;\n",
       "            text-align:  left;\n",
       "        }    #T_234cb68c_1d6a_11eb_9d99_1cbfc0fa7fd8row6_col6 {\n",
       "            : ;\n",
       "            text-align:  left;\n",
       "        }    #T_234cb68c_1d6a_11eb_9d99_1cbfc0fa7fd8row6_col7 {\n",
       "            background-color:  lightgrey;\n",
       "            text-align:  left;\n",
       "        }    #T_234cb68c_1d6a_11eb_9d99_1cbfc0fa7fd8row7_col0 {\n",
       "            text-align:  left;\n",
       "        }    #T_234cb68c_1d6a_11eb_9d99_1cbfc0fa7fd8row7_col1 {\n",
       "            : ;\n",
       "            text-align:  left;\n",
       "        }    #T_234cb68c_1d6a_11eb_9d99_1cbfc0fa7fd8row7_col2 {\n",
       "            : ;\n",
       "            text-align:  left;\n",
       "        }    #T_234cb68c_1d6a_11eb_9d99_1cbfc0fa7fd8row7_col3 {\n",
       "            : ;\n",
       "            text-align:  left;\n",
       "        }    #T_234cb68c_1d6a_11eb_9d99_1cbfc0fa7fd8row7_col4 {\n",
       "            : ;\n",
       "            text-align:  left;\n",
       "        }    #T_234cb68c_1d6a_11eb_9d99_1cbfc0fa7fd8row7_col5 {\n",
       "            : ;\n",
       "            text-align:  left;\n",
       "        }    #T_234cb68c_1d6a_11eb_9d99_1cbfc0fa7fd8row7_col6 {\n",
       "            : ;\n",
       "            text-align:  left;\n",
       "        }    #T_234cb68c_1d6a_11eb_9d99_1cbfc0fa7fd8row7_col7 {\n",
       "            background-color:  lightgrey;\n",
       "            text-align:  left;\n",
       "        }    #T_234cb68c_1d6a_11eb_9d99_1cbfc0fa7fd8row8_col0 {\n",
       "            text-align:  left;\n",
       "        }    #T_234cb68c_1d6a_11eb_9d99_1cbfc0fa7fd8row8_col1 {\n",
       "            : ;\n",
       "            text-align:  left;\n",
       "        }    #T_234cb68c_1d6a_11eb_9d99_1cbfc0fa7fd8row8_col2 {\n",
       "            : ;\n",
       "            text-align:  left;\n",
       "        }    #T_234cb68c_1d6a_11eb_9d99_1cbfc0fa7fd8row8_col3 {\n",
       "            : ;\n",
       "            text-align:  left;\n",
       "        }    #T_234cb68c_1d6a_11eb_9d99_1cbfc0fa7fd8row8_col4 {\n",
       "            : ;\n",
       "            text-align:  left;\n",
       "        }    #T_234cb68c_1d6a_11eb_9d99_1cbfc0fa7fd8row8_col5 {\n",
       "            : ;\n",
       "            text-align:  left;\n",
       "        }    #T_234cb68c_1d6a_11eb_9d99_1cbfc0fa7fd8row8_col6 {\n",
       "            : ;\n",
       "            text-align:  left;\n",
       "        }    #T_234cb68c_1d6a_11eb_9d99_1cbfc0fa7fd8row8_col7 {\n",
       "            background-color:  lightgrey;\n",
       "            text-align:  left;\n",
       "        }    #T_234cb68c_1d6a_11eb_9d99_1cbfc0fa7fd8row9_col0 {\n",
       "            text-align:  left;\n",
       "        }    #T_234cb68c_1d6a_11eb_9d99_1cbfc0fa7fd8row9_col1 {\n",
       "            : ;\n",
       "            text-align:  left;\n",
       "        }    #T_234cb68c_1d6a_11eb_9d99_1cbfc0fa7fd8row9_col2 {\n",
       "            : ;\n",
       "            text-align:  left;\n",
       "        }    #T_234cb68c_1d6a_11eb_9d99_1cbfc0fa7fd8row9_col3 {\n",
       "            : ;\n",
       "            text-align:  left;\n",
       "        }    #T_234cb68c_1d6a_11eb_9d99_1cbfc0fa7fd8row9_col4 {\n",
       "            : ;\n",
       "            text-align:  left;\n",
       "        }    #T_234cb68c_1d6a_11eb_9d99_1cbfc0fa7fd8row9_col5 {\n",
       "            : ;\n",
       "            text-align:  left;\n",
       "        }    #T_234cb68c_1d6a_11eb_9d99_1cbfc0fa7fd8row9_col6 {\n",
       "            : ;\n",
       "            text-align:  left;\n",
       "        }    #T_234cb68c_1d6a_11eb_9d99_1cbfc0fa7fd8row9_col7 {\n",
       "            background-color:  lightgrey;\n",
       "            text-align:  left;\n",
       "        }    #T_234cb68c_1d6a_11eb_9d99_1cbfc0fa7fd8row10_col0 {\n",
       "            text-align:  left;\n",
       "        }    #T_234cb68c_1d6a_11eb_9d99_1cbfc0fa7fd8row10_col1 {\n",
       "            : ;\n",
       "            text-align:  left;\n",
       "        }    #T_234cb68c_1d6a_11eb_9d99_1cbfc0fa7fd8row10_col2 {\n",
       "            : ;\n",
       "            text-align:  left;\n",
       "        }    #T_234cb68c_1d6a_11eb_9d99_1cbfc0fa7fd8row10_col3 {\n",
       "            : ;\n",
       "            text-align:  left;\n",
       "        }    #T_234cb68c_1d6a_11eb_9d99_1cbfc0fa7fd8row10_col4 {\n",
       "            : ;\n",
       "            text-align:  left;\n",
       "        }    #T_234cb68c_1d6a_11eb_9d99_1cbfc0fa7fd8row10_col5 {\n",
       "            : ;\n",
       "            text-align:  left;\n",
       "        }    #T_234cb68c_1d6a_11eb_9d99_1cbfc0fa7fd8row10_col6 {\n",
       "            : ;\n",
       "            text-align:  left;\n",
       "        }    #T_234cb68c_1d6a_11eb_9d99_1cbfc0fa7fd8row10_col7 {\n",
       "            background-color:  lightgrey;\n",
       "            text-align:  left;\n",
       "        }    #T_234cb68c_1d6a_11eb_9d99_1cbfc0fa7fd8row11_col0 {\n",
       "            text-align:  left;\n",
       "        }    #T_234cb68c_1d6a_11eb_9d99_1cbfc0fa7fd8row11_col1 {\n",
       "            : ;\n",
       "            text-align:  left;\n",
       "        }    #T_234cb68c_1d6a_11eb_9d99_1cbfc0fa7fd8row11_col2 {\n",
       "            : ;\n",
       "            text-align:  left;\n",
       "        }    #T_234cb68c_1d6a_11eb_9d99_1cbfc0fa7fd8row11_col3 {\n",
       "            : ;\n",
       "            text-align:  left;\n",
       "        }    #T_234cb68c_1d6a_11eb_9d99_1cbfc0fa7fd8row11_col4 {\n",
       "            : ;\n",
       "            text-align:  left;\n",
       "        }    #T_234cb68c_1d6a_11eb_9d99_1cbfc0fa7fd8row11_col5 {\n",
       "            : ;\n",
       "            text-align:  left;\n",
       "        }    #T_234cb68c_1d6a_11eb_9d99_1cbfc0fa7fd8row11_col6 {\n",
       "            : ;\n",
       "            text-align:  left;\n",
       "        }    #T_234cb68c_1d6a_11eb_9d99_1cbfc0fa7fd8row11_col7 {\n",
       "            background-color:  lightgrey;\n",
       "            text-align:  left;\n",
       "        }    #T_234cb68c_1d6a_11eb_9d99_1cbfc0fa7fd8row12_col0 {\n",
       "            text-align:  left;\n",
       "        }    #T_234cb68c_1d6a_11eb_9d99_1cbfc0fa7fd8row12_col1 {\n",
       "            : ;\n",
       "            text-align:  left;\n",
       "        }    #T_234cb68c_1d6a_11eb_9d99_1cbfc0fa7fd8row12_col2 {\n",
       "            : ;\n",
       "            text-align:  left;\n",
       "        }    #T_234cb68c_1d6a_11eb_9d99_1cbfc0fa7fd8row12_col3 {\n",
       "            : ;\n",
       "            text-align:  left;\n",
       "        }    #T_234cb68c_1d6a_11eb_9d99_1cbfc0fa7fd8row12_col4 {\n",
       "            : ;\n",
       "            text-align:  left;\n",
       "        }    #T_234cb68c_1d6a_11eb_9d99_1cbfc0fa7fd8row12_col5 {\n",
       "            : ;\n",
       "            text-align:  left;\n",
       "        }    #T_234cb68c_1d6a_11eb_9d99_1cbfc0fa7fd8row12_col6 {\n",
       "            : ;\n",
       "            text-align:  left;\n",
       "        }    #T_234cb68c_1d6a_11eb_9d99_1cbfc0fa7fd8row12_col7 {\n",
       "            background-color:  lightgrey;\n",
       "            text-align:  left;\n",
       "        }    #T_234cb68c_1d6a_11eb_9d99_1cbfc0fa7fd8row13_col0 {\n",
       "            text-align:  left;\n",
       "        }    #T_234cb68c_1d6a_11eb_9d99_1cbfc0fa7fd8row13_col1 {\n",
       "            : ;\n",
       "            text-align:  left;\n",
       "        }    #T_234cb68c_1d6a_11eb_9d99_1cbfc0fa7fd8row13_col2 {\n",
       "            : ;\n",
       "            text-align:  left;\n",
       "        }    #T_234cb68c_1d6a_11eb_9d99_1cbfc0fa7fd8row13_col3 {\n",
       "            : ;\n",
       "            text-align:  left;\n",
       "        }    #T_234cb68c_1d6a_11eb_9d99_1cbfc0fa7fd8row13_col4 {\n",
       "            : ;\n",
       "            text-align:  left;\n",
       "        }    #T_234cb68c_1d6a_11eb_9d99_1cbfc0fa7fd8row13_col5 {\n",
       "            : ;\n",
       "            text-align:  left;\n",
       "        }    #T_234cb68c_1d6a_11eb_9d99_1cbfc0fa7fd8row13_col6 {\n",
       "            : ;\n",
       "            text-align:  left;\n",
       "        }    #T_234cb68c_1d6a_11eb_9d99_1cbfc0fa7fd8row13_col7 {\n",
       "            background-color:  lightgrey;\n",
       "            text-align:  left;\n",
       "        }    #T_234cb68c_1d6a_11eb_9d99_1cbfc0fa7fd8row14_col0 {\n",
       "            text-align:  left;\n",
       "        }    #T_234cb68c_1d6a_11eb_9d99_1cbfc0fa7fd8row14_col1 {\n",
       "            : ;\n",
       "            text-align:  left;\n",
       "        }    #T_234cb68c_1d6a_11eb_9d99_1cbfc0fa7fd8row14_col2 {\n",
       "            : ;\n",
       "            text-align:  left;\n",
       "        }    #T_234cb68c_1d6a_11eb_9d99_1cbfc0fa7fd8row14_col3 {\n",
       "            : ;\n",
       "            text-align:  left;\n",
       "        }    #T_234cb68c_1d6a_11eb_9d99_1cbfc0fa7fd8row14_col4 {\n",
       "            : ;\n",
       "            text-align:  left;\n",
       "        }    #T_234cb68c_1d6a_11eb_9d99_1cbfc0fa7fd8row14_col5 {\n",
       "            : ;\n",
       "            text-align:  left;\n",
       "        }    #T_234cb68c_1d6a_11eb_9d99_1cbfc0fa7fd8row14_col6 {\n",
       "            : ;\n",
       "            text-align:  left;\n",
       "        }    #T_234cb68c_1d6a_11eb_9d99_1cbfc0fa7fd8row14_col7 {\n",
       "            background-color:  lightgrey;\n",
       "            text-align:  left;\n",
       "        }    #T_234cb68c_1d6a_11eb_9d99_1cbfc0fa7fd8row15_col0 {\n",
       "            text-align:  left;\n",
       "        }    #T_234cb68c_1d6a_11eb_9d99_1cbfc0fa7fd8row15_col1 {\n",
       "            : ;\n",
       "            text-align:  left;\n",
       "        }    #T_234cb68c_1d6a_11eb_9d99_1cbfc0fa7fd8row15_col2 {\n",
       "            : ;\n",
       "            text-align:  left;\n",
       "        }    #T_234cb68c_1d6a_11eb_9d99_1cbfc0fa7fd8row15_col3 {\n",
       "            : ;\n",
       "            text-align:  left;\n",
       "        }    #T_234cb68c_1d6a_11eb_9d99_1cbfc0fa7fd8row15_col4 {\n",
       "            : ;\n",
       "            text-align:  left;\n",
       "        }    #T_234cb68c_1d6a_11eb_9d99_1cbfc0fa7fd8row15_col5 {\n",
       "            : ;\n",
       "            text-align:  left;\n",
       "        }    #T_234cb68c_1d6a_11eb_9d99_1cbfc0fa7fd8row15_col6 {\n",
       "            : ;\n",
       "            text-align:  left;\n",
       "        }    #T_234cb68c_1d6a_11eb_9d99_1cbfc0fa7fd8row15_col7 {\n",
       "            background-color:  lightgrey;\n",
       "            text-align:  left;\n",
       "        }    #T_234cb68c_1d6a_11eb_9d99_1cbfc0fa7fd8row16_col0 {\n",
       "            text-align:  left;\n",
       "        }    #T_234cb68c_1d6a_11eb_9d99_1cbfc0fa7fd8row16_col1 {\n",
       "            : ;\n",
       "            text-align:  left;\n",
       "        }    #T_234cb68c_1d6a_11eb_9d99_1cbfc0fa7fd8row16_col2 {\n",
       "            : ;\n",
       "            text-align:  left;\n",
       "        }    #T_234cb68c_1d6a_11eb_9d99_1cbfc0fa7fd8row16_col3 {\n",
       "            : ;\n",
       "            text-align:  left;\n",
       "        }    #T_234cb68c_1d6a_11eb_9d99_1cbfc0fa7fd8row16_col4 {\n",
       "            : ;\n",
       "            text-align:  left;\n",
       "        }    #T_234cb68c_1d6a_11eb_9d99_1cbfc0fa7fd8row16_col5 {\n",
       "            : ;\n",
       "            text-align:  left;\n",
       "        }    #T_234cb68c_1d6a_11eb_9d99_1cbfc0fa7fd8row16_col6 {\n",
       "            : ;\n",
       "            text-align:  left;\n",
       "        }    #T_234cb68c_1d6a_11eb_9d99_1cbfc0fa7fd8row16_col7 {\n",
       "            background-color:  lightgrey;\n",
       "            text-align:  left;\n",
       "        }    #T_234cb68c_1d6a_11eb_9d99_1cbfc0fa7fd8row17_col0 {\n",
       "            text-align:  left;\n",
       "        }    #T_234cb68c_1d6a_11eb_9d99_1cbfc0fa7fd8row17_col1 {\n",
       "            : ;\n",
       "            text-align:  left;\n",
       "        }    #T_234cb68c_1d6a_11eb_9d99_1cbfc0fa7fd8row17_col2 {\n",
       "            : ;\n",
       "            text-align:  left;\n",
       "        }    #T_234cb68c_1d6a_11eb_9d99_1cbfc0fa7fd8row17_col3 {\n",
       "            : ;\n",
       "            text-align:  left;\n",
       "        }    #T_234cb68c_1d6a_11eb_9d99_1cbfc0fa7fd8row17_col4 {\n",
       "            : ;\n",
       "            text-align:  left;\n",
       "        }    #T_234cb68c_1d6a_11eb_9d99_1cbfc0fa7fd8row17_col5 {\n",
       "            : ;\n",
       "            text-align:  left;\n",
       "        }    #T_234cb68c_1d6a_11eb_9d99_1cbfc0fa7fd8row17_col6 {\n",
       "            : ;\n",
       "            text-align:  left;\n",
       "        }    #T_234cb68c_1d6a_11eb_9d99_1cbfc0fa7fd8row17_col7 {\n",
       "            background-color:  lightgrey;\n",
       "            text-align:  left;\n",
       "        }    #T_234cb68c_1d6a_11eb_9d99_1cbfc0fa7fd8row18_col0 {\n",
       "            text-align:  left;\n",
       "        }    #T_234cb68c_1d6a_11eb_9d99_1cbfc0fa7fd8row18_col1 {\n",
       "            : ;\n",
       "            text-align:  left;\n",
       "        }    #T_234cb68c_1d6a_11eb_9d99_1cbfc0fa7fd8row18_col2 {\n",
       "            : ;\n",
       "            text-align:  left;\n",
       "        }    #T_234cb68c_1d6a_11eb_9d99_1cbfc0fa7fd8row18_col3 {\n",
       "            : ;\n",
       "            text-align:  left;\n",
       "        }    #T_234cb68c_1d6a_11eb_9d99_1cbfc0fa7fd8row18_col4 {\n",
       "            : ;\n",
       "            text-align:  left;\n",
       "        }    #T_234cb68c_1d6a_11eb_9d99_1cbfc0fa7fd8row18_col5 {\n",
       "            : ;\n",
       "            text-align:  left;\n",
       "        }    #T_234cb68c_1d6a_11eb_9d99_1cbfc0fa7fd8row18_col6 {\n",
       "            : ;\n",
       "            text-align:  left;\n",
       "        }    #T_234cb68c_1d6a_11eb_9d99_1cbfc0fa7fd8row18_col7 {\n",
       "            background-color:  lightgrey;\n",
       "            text-align:  left;\n",
       "        }    #T_234cb68c_1d6a_11eb_9d99_1cbfc0fa7fd8row19_col0 {\n",
       "            text-align:  left;\n",
       "        }    #T_234cb68c_1d6a_11eb_9d99_1cbfc0fa7fd8row19_col1 {\n",
       "            : ;\n",
       "            text-align:  left;\n",
       "        }    #T_234cb68c_1d6a_11eb_9d99_1cbfc0fa7fd8row19_col2 {\n",
       "            : ;\n",
       "            text-align:  left;\n",
       "        }    #T_234cb68c_1d6a_11eb_9d99_1cbfc0fa7fd8row19_col3 {\n",
       "            : ;\n",
       "            text-align:  left;\n",
       "        }    #T_234cb68c_1d6a_11eb_9d99_1cbfc0fa7fd8row19_col4 {\n",
       "            : ;\n",
       "            text-align:  left;\n",
       "        }    #T_234cb68c_1d6a_11eb_9d99_1cbfc0fa7fd8row19_col5 {\n",
       "            : ;\n",
       "            text-align:  left;\n",
       "        }    #T_234cb68c_1d6a_11eb_9d99_1cbfc0fa7fd8row19_col6 {\n",
       "            : ;\n",
       "            text-align:  left;\n",
       "        }    #T_234cb68c_1d6a_11eb_9d99_1cbfc0fa7fd8row19_col7 {\n",
       "            background-color:  lightgrey;\n",
       "            text-align:  left;\n",
       "        }    #T_234cb68c_1d6a_11eb_9d99_1cbfc0fa7fd8row20_col0 {\n",
       "            text-align:  left;\n",
       "        }    #T_234cb68c_1d6a_11eb_9d99_1cbfc0fa7fd8row20_col1 {\n",
       "            : ;\n",
       "            text-align:  left;\n",
       "        }    #T_234cb68c_1d6a_11eb_9d99_1cbfc0fa7fd8row20_col2 {\n",
       "            : ;\n",
       "            text-align:  left;\n",
       "        }    #T_234cb68c_1d6a_11eb_9d99_1cbfc0fa7fd8row20_col3 {\n",
       "            : ;\n",
       "            text-align:  left;\n",
       "        }    #T_234cb68c_1d6a_11eb_9d99_1cbfc0fa7fd8row20_col4 {\n",
       "            : ;\n",
       "            text-align:  left;\n",
       "        }    #T_234cb68c_1d6a_11eb_9d99_1cbfc0fa7fd8row20_col5 {\n",
       "            : ;\n",
       "            text-align:  left;\n",
       "        }    #T_234cb68c_1d6a_11eb_9d99_1cbfc0fa7fd8row20_col6 {\n",
       "            : ;\n",
       "            text-align:  left;\n",
       "        }    #T_234cb68c_1d6a_11eb_9d99_1cbfc0fa7fd8row20_col7 {\n",
       "            background-color:  lightgrey;\n",
       "            text-align:  left;\n",
       "        }    #T_234cb68c_1d6a_11eb_9d99_1cbfc0fa7fd8row21_col0 {\n",
       "            text-align:  left;\n",
       "        }    #T_234cb68c_1d6a_11eb_9d99_1cbfc0fa7fd8row21_col1 {\n",
       "            : ;\n",
       "            text-align:  left;\n",
       "        }    #T_234cb68c_1d6a_11eb_9d99_1cbfc0fa7fd8row21_col2 {\n",
       "            : ;\n",
       "            text-align:  left;\n",
       "        }    #T_234cb68c_1d6a_11eb_9d99_1cbfc0fa7fd8row21_col3 {\n",
       "            : ;\n",
       "            text-align:  left;\n",
       "        }    #T_234cb68c_1d6a_11eb_9d99_1cbfc0fa7fd8row21_col4 {\n",
       "            : ;\n",
       "            text-align:  left;\n",
       "        }    #T_234cb68c_1d6a_11eb_9d99_1cbfc0fa7fd8row21_col5 {\n",
       "            : ;\n",
       "            text-align:  left;\n",
       "        }    #T_234cb68c_1d6a_11eb_9d99_1cbfc0fa7fd8row21_col6 {\n",
       "            : ;\n",
       "            text-align:  left;\n",
       "        }    #T_234cb68c_1d6a_11eb_9d99_1cbfc0fa7fd8row21_col7 {\n",
       "            background-color:  lightgrey;\n",
       "            text-align:  left;\n",
       "        }</style><table id=\"T_234cb68c_1d6a_11eb_9d99_1cbfc0fa7fd8\" ><thead>    <tr>        <th class=\"blank level0\" ></th>        <th class=\"col_heading level0 col0\" >Model</th>        <th class=\"col_heading level0 col1\" >MAE</th>        <th class=\"col_heading level0 col2\" >MSE</th>        <th class=\"col_heading level0 col3\" >RMSE</th>        <th class=\"col_heading level0 col4\" >R2</th>        <th class=\"col_heading level0 col5\" >RMSLE</th>        <th class=\"col_heading level0 col6\" >MAPE</th>        <th class=\"col_heading level0 col7\" >TT (Sec)</th>    </tr></thead><tbody>\n",
       "                <tr>\n",
       "                        <th id=\"T_234cb68c_1d6a_11eb_9d99_1cbfc0fa7fd8level0_row0\" class=\"row_heading level0 row0\" >0</th>\n",
       "                        <td id=\"T_234cb68c_1d6a_11eb_9d99_1cbfc0fa7fd8row0_col0\" class=\"data row0 col0\" >Ridge Regression</td>\n",
       "                        <td id=\"T_234cb68c_1d6a_11eb_9d99_1cbfc0fa7fd8row0_col1\" class=\"data row0 col1\" >2095.8015</td>\n",
       "                        <td id=\"T_234cb68c_1d6a_11eb_9d99_1cbfc0fa7fd8row0_col2\" class=\"data row0 col2\" >6025369.1925</td>\n",
       "                        <td id=\"T_234cb68c_1d6a_11eb_9d99_1cbfc0fa7fd8row0_col3\" class=\"data row0 col3\" >2446.0352</td>\n",
       "                        <td id=\"T_234cb68c_1d6a_11eb_9d99_1cbfc0fa7fd8row0_col4\" class=\"data row0 col4\" >0.6437</td>\n",
       "                        <td id=\"T_234cb68c_1d6a_11eb_9d99_1cbfc0fa7fd8row0_col5\" class=\"data row0 col5\" >0.0955</td>\n",
       "                        <td id=\"T_234cb68c_1d6a_11eb_9d99_1cbfc0fa7fd8row0_col6\" class=\"data row0 col6\" >0.0831</td>\n",
       "                        <td id=\"T_234cb68c_1d6a_11eb_9d99_1cbfc0fa7fd8row0_col7\" class=\"data row0 col7\" >0.0019</td>\n",
       "            </tr>\n",
       "            <tr>\n",
       "                        <th id=\"T_234cb68c_1d6a_11eb_9d99_1cbfc0fa7fd8level0_row1\" class=\"row_heading level0 row1\" >1</th>\n",
       "                        <td id=\"T_234cb68c_1d6a_11eb_9d99_1cbfc0fa7fd8row1_col0\" class=\"data row1 col0\" >Bayesian Ridge</td>\n",
       "                        <td id=\"T_234cb68c_1d6a_11eb_9d99_1cbfc0fa7fd8row1_col1\" class=\"data row1 col1\" >2095.9002</td>\n",
       "                        <td id=\"T_234cb68c_1d6a_11eb_9d99_1cbfc0fa7fd8row1_col2\" class=\"data row1 col2\" >6027125.5204</td>\n",
       "                        <td id=\"T_234cb68c_1d6a_11eb_9d99_1cbfc0fa7fd8row1_col3\" class=\"data row1 col3\" >2446.3730</td>\n",
       "                        <td id=\"T_234cb68c_1d6a_11eb_9d99_1cbfc0fa7fd8row1_col4\" class=\"data row1 col4\" >0.6437</td>\n",
       "                        <td id=\"T_234cb68c_1d6a_11eb_9d99_1cbfc0fa7fd8row1_col5\" class=\"data row1 col5\" >0.0955</td>\n",
       "                        <td id=\"T_234cb68c_1d6a_11eb_9d99_1cbfc0fa7fd8row1_col6\" class=\"data row1 col6\" >0.0831</td>\n",
       "                        <td id=\"T_234cb68c_1d6a_11eb_9d99_1cbfc0fa7fd8row1_col7\" class=\"data row1 col7\" >0.0031</td>\n",
       "            </tr>\n",
       "            <tr>\n",
       "                        <th id=\"T_234cb68c_1d6a_11eb_9d99_1cbfc0fa7fd8level0_row2\" class=\"row_heading level0 row2\" >2</th>\n",
       "                        <td id=\"T_234cb68c_1d6a_11eb_9d99_1cbfc0fa7fd8row2_col0\" class=\"data row2 col0\" >Lasso Regression</td>\n",
       "                        <td id=\"T_234cb68c_1d6a_11eb_9d99_1cbfc0fa7fd8row2_col1\" class=\"data row2 col1\" >2096.4949</td>\n",
       "                        <td id=\"T_234cb68c_1d6a_11eb_9d99_1cbfc0fa7fd8row2_col2\" class=\"data row2 col2\" >6025143.7882</td>\n",
       "                        <td id=\"T_234cb68c_1d6a_11eb_9d99_1cbfc0fa7fd8row2_col3\" class=\"data row2 col3\" >2446.0267</td>\n",
       "                        <td id=\"T_234cb68c_1d6a_11eb_9d99_1cbfc0fa7fd8row2_col4\" class=\"data row2 col4\" >0.6436</td>\n",
       "                        <td id=\"T_234cb68c_1d6a_11eb_9d99_1cbfc0fa7fd8row2_col5\" class=\"data row2 col5\" >0.0955</td>\n",
       "                        <td id=\"T_234cb68c_1d6a_11eb_9d99_1cbfc0fa7fd8row2_col6\" class=\"data row2 col6\" >0.0831</td>\n",
       "                        <td id=\"T_234cb68c_1d6a_11eb_9d99_1cbfc0fa7fd8row2_col7\" class=\"data row2 col7\" >0.0027</td>\n",
       "            </tr>\n",
       "            <tr>\n",
       "                        <th id=\"T_234cb68c_1d6a_11eb_9d99_1cbfc0fa7fd8level0_row3\" class=\"row_heading level0 row3\" >3</th>\n",
       "                        <td id=\"T_234cb68c_1d6a_11eb_9d99_1cbfc0fa7fd8row3_col0\" class=\"data row3 col0\" >Linear Regression</td>\n",
       "                        <td id=\"T_234cb68c_1d6a_11eb_9d99_1cbfc0fa7fd8row3_col1\" class=\"data row3 col1\" >2096.5578</td>\n",
       "                        <td id=\"T_234cb68c_1d6a_11eb_9d99_1cbfc0fa7fd8row3_col2\" class=\"data row3 col2\" >6025122.8179</td>\n",
       "                        <td id=\"T_234cb68c_1d6a_11eb_9d99_1cbfc0fa7fd8row3_col3\" class=\"data row3 col3\" >2446.0272</td>\n",
       "                        <td id=\"T_234cb68c_1d6a_11eb_9d99_1cbfc0fa7fd8row3_col4\" class=\"data row3 col4\" >0.6435</td>\n",
       "                        <td id=\"T_234cb68c_1d6a_11eb_9d99_1cbfc0fa7fd8row3_col5\" class=\"data row3 col5\" >0.0955</td>\n",
       "                        <td id=\"T_234cb68c_1d6a_11eb_9d99_1cbfc0fa7fd8row3_col6\" class=\"data row3 col6\" >0.0831</td>\n",
       "                        <td id=\"T_234cb68c_1d6a_11eb_9d99_1cbfc0fa7fd8row3_col7\" class=\"data row3 col7\" >0.0024</td>\n",
       "            </tr>\n",
       "            <tr>\n",
       "                        <th id=\"T_234cb68c_1d6a_11eb_9d99_1cbfc0fa7fd8level0_row4\" class=\"row_heading level0 row4\" >4</th>\n",
       "                        <td id=\"T_234cb68c_1d6a_11eb_9d99_1cbfc0fa7fd8row4_col0\" class=\"data row4 col0\" >Huber Regressor</td>\n",
       "                        <td id=\"T_234cb68c_1d6a_11eb_9d99_1cbfc0fa7fd8row4_col1\" class=\"data row4 col1\" >2111.1873</td>\n",
       "                        <td id=\"T_234cb68c_1d6a_11eb_9d99_1cbfc0fa7fd8row4_col2\" class=\"data row4 col2\" >6085696.6001</td>\n",
       "                        <td id=\"T_234cb68c_1d6a_11eb_9d99_1cbfc0fa7fd8row4_col3\" class=\"data row4 col3\" >2458.7193</td>\n",
       "                        <td id=\"T_234cb68c_1d6a_11eb_9d99_1cbfc0fa7fd8row4_col4\" class=\"data row4 col4\" >0.6389</td>\n",
       "                        <td id=\"T_234cb68c_1d6a_11eb_9d99_1cbfc0fa7fd8row4_col5\" class=\"data row4 col5\" >0.0958</td>\n",
       "                        <td id=\"T_234cb68c_1d6a_11eb_9d99_1cbfc0fa7fd8row4_col6\" class=\"data row4 col6\" >0.0834</td>\n",
       "                        <td id=\"T_234cb68c_1d6a_11eb_9d99_1cbfc0fa7fd8row4_col7\" class=\"data row4 col7\" >0.0143</td>\n",
       "            </tr>\n",
       "            <tr>\n",
       "                        <th id=\"T_234cb68c_1d6a_11eb_9d99_1cbfc0fa7fd8level0_row5\" class=\"row_heading level0 row5\" >5</th>\n",
       "                        <td id=\"T_234cb68c_1d6a_11eb_9d99_1cbfc0fa7fd8row5_col0\" class=\"data row5 col0\" >Random Sample Consensus</td>\n",
       "                        <td id=\"T_234cb68c_1d6a_11eb_9d99_1cbfc0fa7fd8row5_col1\" class=\"data row5 col1\" >2120.4877</td>\n",
       "                        <td id=\"T_234cb68c_1d6a_11eb_9d99_1cbfc0fa7fd8row5_col2\" class=\"data row5 col2\" >6181940.9100</td>\n",
       "                        <td id=\"T_234cb68c_1d6a_11eb_9d99_1cbfc0fa7fd8row5_col3\" class=\"data row5 col3\" >2478.3339</td>\n",
       "                        <td id=\"T_234cb68c_1d6a_11eb_9d99_1cbfc0fa7fd8row5_col4\" class=\"data row5 col4\" >0.6286</td>\n",
       "                        <td id=\"T_234cb68c_1d6a_11eb_9d99_1cbfc0fa7fd8row5_col5\" class=\"data row5 col5\" >0.0962</td>\n",
       "                        <td id=\"T_234cb68c_1d6a_11eb_9d99_1cbfc0fa7fd8row5_col6\" class=\"data row5 col6\" >0.0834</td>\n",
       "                        <td id=\"T_234cb68c_1d6a_11eb_9d99_1cbfc0fa7fd8row5_col7\" class=\"data row5 col7\" >0.0485</td>\n",
       "            </tr>\n",
       "            <tr>\n",
       "                        <th id=\"T_234cb68c_1d6a_11eb_9d99_1cbfc0fa7fd8level0_row6\" class=\"row_heading level0 row6\" >6</th>\n",
       "                        <td id=\"T_234cb68c_1d6a_11eb_9d99_1cbfc0fa7fd8row6_col0\" class=\"data row6 col0\" >Least Angle Regression</td>\n",
       "                        <td id=\"T_234cb68c_1d6a_11eb_9d99_1cbfc0fa7fd8row6_col1\" class=\"data row6 col1\" >2198.4705</td>\n",
       "                        <td id=\"T_234cb68c_1d6a_11eb_9d99_1cbfc0fa7fd8row6_col2\" class=\"data row6 col2\" >6900871.1694</td>\n",
       "                        <td id=\"T_234cb68c_1d6a_11eb_9d99_1cbfc0fa7fd8row6_col3\" class=\"data row6 col3\" >2603.8521</td>\n",
       "                        <td id=\"T_234cb68c_1d6a_11eb_9d99_1cbfc0fa7fd8row6_col4\" class=\"data row6 col4\" >0.6107</td>\n",
       "                        <td id=\"T_234cb68c_1d6a_11eb_9d99_1cbfc0fa7fd8row6_col5\" class=\"data row6 col5\" >0.1020</td>\n",
       "                        <td id=\"T_234cb68c_1d6a_11eb_9d99_1cbfc0fa7fd8row6_col6\" class=\"data row6 col6\" >0.0878</td>\n",
       "                        <td id=\"T_234cb68c_1d6a_11eb_9d99_1cbfc0fa7fd8row6_col7\" class=\"data row6 col7\" >0.0023</td>\n",
       "            </tr>\n",
       "            <tr>\n",
       "                        <th id=\"T_234cb68c_1d6a_11eb_9d99_1cbfc0fa7fd8level0_row7\" class=\"row_heading level0 row7\" >7</th>\n",
       "                        <td id=\"T_234cb68c_1d6a_11eb_9d99_1cbfc0fa7fd8row7_col0\" class=\"data row7 col0\" >Lasso Least Angle Regression</td>\n",
       "                        <td id=\"T_234cb68c_1d6a_11eb_9d99_1cbfc0fa7fd8row7_col1\" class=\"data row7 col1\" >2200.2748</td>\n",
       "                        <td id=\"T_234cb68c_1d6a_11eb_9d99_1cbfc0fa7fd8row7_col2\" class=\"data row7 col2\" >6922995.2082</td>\n",
       "                        <td id=\"T_234cb68c_1d6a_11eb_9d99_1cbfc0fa7fd8row7_col3\" class=\"data row7 col3\" >2607.7840</td>\n",
       "                        <td id=\"T_234cb68c_1d6a_11eb_9d99_1cbfc0fa7fd8row7_col4\" class=\"data row7 col4\" >0.6097</td>\n",
       "                        <td id=\"T_234cb68c_1d6a_11eb_9d99_1cbfc0fa7fd8row7_col5\" class=\"data row7 col5\" >0.1022</td>\n",
       "                        <td id=\"T_234cb68c_1d6a_11eb_9d99_1cbfc0fa7fd8row7_col6\" class=\"data row7 col6\" >0.0879</td>\n",
       "                        <td id=\"T_234cb68c_1d6a_11eb_9d99_1cbfc0fa7fd8row7_col7\" class=\"data row7 col7\" >0.0024</td>\n",
       "            </tr>\n",
       "            <tr>\n",
       "                        <th id=\"T_234cb68c_1d6a_11eb_9d99_1cbfc0fa7fd8level0_row8\" class=\"row_heading level0 row8\" >8</th>\n",
       "                        <td id=\"T_234cb68c_1d6a_11eb_9d99_1cbfc0fa7fd8row8_col0\" class=\"data row8 col0\" >AdaBoost Regressor</td>\n",
       "                        <td id=\"T_234cb68c_1d6a_11eb_9d99_1cbfc0fa7fd8row8_col1\" class=\"data row8 col1\" >2180.0047</td>\n",
       "                        <td id=\"T_234cb68c_1d6a_11eb_9d99_1cbfc0fa7fd8row8_col2\" class=\"data row8 col2\" >6875827.6788</td>\n",
       "                        <td id=\"T_234cb68c_1d6a_11eb_9d99_1cbfc0fa7fd8row8_col3\" class=\"data row8 col3\" >2606.3526</td>\n",
       "                        <td id=\"T_234cb68c_1d6a_11eb_9d99_1cbfc0fa7fd8row8_col4\" class=\"data row8 col4\" >0.6012</td>\n",
       "                        <td id=\"T_234cb68c_1d6a_11eb_9d99_1cbfc0fa7fd8row8_col5\" class=\"data row8 col5\" >0.1034</td>\n",
       "                        <td id=\"T_234cb68c_1d6a_11eb_9d99_1cbfc0fa7fd8row8_col6\" class=\"data row8 col6\" >0.0880</td>\n",
       "                        <td id=\"T_234cb68c_1d6a_11eb_9d99_1cbfc0fa7fd8row8_col7\" class=\"data row8 col7\" >0.0403</td>\n",
       "            </tr>\n",
       "            <tr>\n",
       "                        <th id=\"T_234cb68c_1d6a_11eb_9d99_1cbfc0fa7fd8level0_row9\" class=\"row_heading level0 row9\" >9</th>\n",
       "                        <td id=\"T_234cb68c_1d6a_11eb_9d99_1cbfc0fa7fd8row9_col0\" class=\"data row9 col0\" >Light Gradient Boosting Machine</td>\n",
       "                        <td id=\"T_234cb68c_1d6a_11eb_9d99_1cbfc0fa7fd8row9_col1\" class=\"data row9 col1\" >2118.5422</td>\n",
       "                        <td id=\"T_234cb68c_1d6a_11eb_9d99_1cbfc0fa7fd8row9_col2\" class=\"data row9 col2\" >6656958.9427</td>\n",
       "                        <td id=\"T_234cb68c_1d6a_11eb_9d99_1cbfc0fa7fd8row9_col3\" class=\"data row9 col3\" >2570.8816</td>\n",
       "                        <td id=\"T_234cb68c_1d6a_11eb_9d99_1cbfc0fa7fd8row9_col4\" class=\"data row9 col4\" >0.5990</td>\n",
       "                        <td id=\"T_234cb68c_1d6a_11eb_9d99_1cbfc0fa7fd8row9_col5\" class=\"data row9 col5\" >0.1013</td>\n",
       "                        <td id=\"T_234cb68c_1d6a_11eb_9d99_1cbfc0fa7fd8row9_col6\" class=\"data row9 col6\" >0.0842</td>\n",
       "                        <td id=\"T_234cb68c_1d6a_11eb_9d99_1cbfc0fa7fd8row9_col7\" class=\"data row9 col7\" >0.0389</td>\n",
       "            </tr>\n",
       "            <tr>\n",
       "                        <th id=\"T_234cb68c_1d6a_11eb_9d99_1cbfc0fa7fd8level0_row10\" class=\"row_heading level0 row10\" >10</th>\n",
       "                        <td id=\"T_234cb68c_1d6a_11eb_9d99_1cbfc0fa7fd8row10_col0\" class=\"data row10 col0\" >TheilSen Regressor</td>\n",
       "                        <td id=\"T_234cb68c_1d6a_11eb_9d99_1cbfc0fa7fd8row10_col1\" class=\"data row10 col1\" >2214.8496</td>\n",
       "                        <td id=\"T_234cb68c_1d6a_11eb_9d99_1cbfc0fa7fd8row10_col2\" class=\"data row10 col2\" >7294722.9790</td>\n",
       "                        <td id=\"T_234cb68c_1d6a_11eb_9d99_1cbfc0fa7fd8row10_col3\" class=\"data row10 col3\" >2685.4484</td>\n",
       "                        <td id=\"T_234cb68c_1d6a_11eb_9d99_1cbfc0fa7fd8row10_col4\" class=\"data row10 col4\" >0.5651</td>\n",
       "                        <td id=\"T_234cb68c_1d6a_11eb_9d99_1cbfc0fa7fd8row10_col5\" class=\"data row10 col5\" >0.1047</td>\n",
       "                        <td id=\"T_234cb68c_1d6a_11eb_9d99_1cbfc0fa7fd8row10_col6\" class=\"data row10 col6\" >0.0882</td>\n",
       "                        <td id=\"T_234cb68c_1d6a_11eb_9d99_1cbfc0fa7fd8row10_col7\" class=\"data row10 col7\" >0.2551</td>\n",
       "            </tr>\n",
       "            <tr>\n",
       "                        <th id=\"T_234cb68c_1d6a_11eb_9d99_1cbfc0fa7fd8level0_row11\" class=\"row_heading level0 row11\" >11</th>\n",
       "                        <td id=\"T_234cb68c_1d6a_11eb_9d99_1cbfc0fa7fd8row11_col0\" class=\"data row11 col0\" >Gradient Boosting Regressor</td>\n",
       "                        <td id=\"T_234cb68c_1d6a_11eb_9d99_1cbfc0fa7fd8row11_col1\" class=\"data row11 col1\" >2282.1886</td>\n",
       "                        <td id=\"T_234cb68c_1d6a_11eb_9d99_1cbfc0fa7fd8row11_col2\" class=\"data row11 col2\" >7358443.2877</td>\n",
       "                        <td id=\"T_234cb68c_1d6a_11eb_9d99_1cbfc0fa7fd8row11_col3\" class=\"data row11 col3\" >2695.6018</td>\n",
       "                        <td id=\"T_234cb68c_1d6a_11eb_9d99_1cbfc0fa7fd8row11_col4\" class=\"data row11 col4\" >0.5579</td>\n",
       "                        <td id=\"T_234cb68c_1d6a_11eb_9d99_1cbfc0fa7fd8row11_col5\" class=\"data row11 col5\" >0.1054</td>\n",
       "                        <td id=\"T_234cb68c_1d6a_11eb_9d99_1cbfc0fa7fd8row11_col6\" class=\"data row11 col6\" >0.0907</td>\n",
       "                        <td id=\"T_234cb68c_1d6a_11eb_9d99_1cbfc0fa7fd8row11_col7\" class=\"data row11 col7\" >0.0271</td>\n",
       "            </tr>\n",
       "            <tr>\n",
       "                        <th id=\"T_234cb68c_1d6a_11eb_9d99_1cbfc0fa7fd8level0_row12\" class=\"row_heading level0 row12\" >12</th>\n",
       "                        <td id=\"T_234cb68c_1d6a_11eb_9d99_1cbfc0fa7fd8row12_col0\" class=\"data row12 col0\" >Elastic Net</td>\n",
       "                        <td id=\"T_234cb68c_1d6a_11eb_9d99_1cbfc0fa7fd8row12_col1\" class=\"data row12 col1\" >2319.0090</td>\n",
       "                        <td id=\"T_234cb68c_1d6a_11eb_9d99_1cbfc0fa7fd8row12_col2\" class=\"data row12 col2\" >7726271.3874</td>\n",
       "                        <td id=\"T_234cb68c_1d6a_11eb_9d99_1cbfc0fa7fd8row12_col3\" class=\"data row12 col3\" >2764.1021</td>\n",
       "                        <td id=\"T_234cb68c_1d6a_11eb_9d99_1cbfc0fa7fd8row12_col4\" class=\"data row12 col4\" >0.5518</td>\n",
       "                        <td id=\"T_234cb68c_1d6a_11eb_9d99_1cbfc0fa7fd8row12_col5\" class=\"data row12 col5\" >0.1082</td>\n",
       "                        <td id=\"T_234cb68c_1d6a_11eb_9d99_1cbfc0fa7fd8row12_col6\" class=\"data row12 col6\" >0.0926</td>\n",
       "                        <td id=\"T_234cb68c_1d6a_11eb_9d99_1cbfc0fa7fd8row12_col7\" class=\"data row12 col7\" >0.0023</td>\n",
       "            </tr>\n",
       "            <tr>\n",
       "                        <th id=\"T_234cb68c_1d6a_11eb_9d99_1cbfc0fa7fd8level0_row13\" class=\"row_heading level0 row13\" >13</th>\n",
       "                        <td id=\"T_234cb68c_1d6a_11eb_9d99_1cbfc0fa7fd8row13_col0\" class=\"data row13 col0\" >CatBoost Regressor</td>\n",
       "                        <td id=\"T_234cb68c_1d6a_11eb_9d99_1cbfc0fa7fd8row13_col1\" class=\"data row13 col1\" >2304.2128</td>\n",
       "                        <td id=\"T_234cb68c_1d6a_11eb_9d99_1cbfc0fa7fd8row13_col2\" class=\"data row13 col2\" >7604437.8027</td>\n",
       "                        <td id=\"T_234cb68c_1d6a_11eb_9d99_1cbfc0fa7fd8row13_col3\" class=\"data row13 col3\" >2745.7848</td>\n",
       "                        <td id=\"T_234cb68c_1d6a_11eb_9d99_1cbfc0fa7fd8row13_col4\" class=\"data row13 col4\" >0.5431</td>\n",
       "                        <td id=\"T_234cb68c_1d6a_11eb_9d99_1cbfc0fa7fd8row13_col5\" class=\"data row13 col5\" >0.1075</td>\n",
       "                        <td id=\"T_234cb68c_1d6a_11eb_9d99_1cbfc0fa7fd8row13_col6\" class=\"data row13 col6\" >0.0915</td>\n",
       "                        <td id=\"T_234cb68c_1d6a_11eb_9d99_1cbfc0fa7fd8row13_col7\" class=\"data row13 col7\" >0.9776</td>\n",
       "            </tr>\n",
       "            <tr>\n",
       "                        <th id=\"T_234cb68c_1d6a_11eb_9d99_1cbfc0fa7fd8level0_row14\" class=\"row_heading level0 row14\" >14</th>\n",
       "                        <td id=\"T_234cb68c_1d6a_11eb_9d99_1cbfc0fa7fd8row14_col0\" class=\"data row14 col0\" >Random Forest</td>\n",
       "                        <td id=\"T_234cb68c_1d6a_11eb_9d99_1cbfc0fa7fd8row14_col1\" class=\"data row14 col1\" >2357.7117</td>\n",
       "                        <td id=\"T_234cb68c_1d6a_11eb_9d99_1cbfc0fa7fd8row14_col2\" class=\"data row14 col2\" >8269958.7566</td>\n",
       "                        <td id=\"T_234cb68c_1d6a_11eb_9d99_1cbfc0fa7fd8row14_col3\" class=\"data row14 col3\" >2853.7428</td>\n",
       "                        <td id=\"T_234cb68c_1d6a_11eb_9d99_1cbfc0fa7fd8row14_col4\" class=\"data row14 col4\" >0.4891</td>\n",
       "                        <td id=\"T_234cb68c_1d6a_11eb_9d99_1cbfc0fa7fd8row14_col5\" class=\"data row14 col5\" >0.1117</td>\n",
       "                        <td id=\"T_234cb68c_1d6a_11eb_9d99_1cbfc0fa7fd8row14_col6\" class=\"data row14 col6\" >0.0936</td>\n",
       "                        <td id=\"T_234cb68c_1d6a_11eb_9d99_1cbfc0fa7fd8row14_col7\" class=\"data row14 col7\" >0.1127</td>\n",
       "            </tr>\n",
       "            <tr>\n",
       "                        <th id=\"T_234cb68c_1d6a_11eb_9d99_1cbfc0fa7fd8level0_row15\" class=\"row_heading level0 row15\" >15</th>\n",
       "                        <td id=\"T_234cb68c_1d6a_11eb_9d99_1cbfc0fa7fd8row15_col0\" class=\"data row15 col0\" >K Neighbors Regressor</td>\n",
       "                        <td id=\"T_234cb68c_1d6a_11eb_9d99_1cbfc0fa7fd8row15_col1\" class=\"data row15 col1\" >2449.2412</td>\n",
       "                        <td id=\"T_234cb68c_1d6a_11eb_9d99_1cbfc0fa7fd8row15_col2\" class=\"data row15 col2\" >9299481.1912</td>\n",
       "                        <td id=\"T_234cb68c_1d6a_11eb_9d99_1cbfc0fa7fd8row15_col3\" class=\"data row15 col3\" >3013.8206</td>\n",
       "                        <td id=\"T_234cb68c_1d6a_11eb_9d99_1cbfc0fa7fd8row15_col4\" class=\"data row15 col4\" >0.4633</td>\n",
       "                        <td id=\"T_234cb68c_1d6a_11eb_9d99_1cbfc0fa7fd8row15_col5\" class=\"data row15 col5\" >0.1191</td>\n",
       "                        <td id=\"T_234cb68c_1d6a_11eb_9d99_1cbfc0fa7fd8row15_col6\" class=\"data row15 col6\" >0.0979</td>\n",
       "                        <td id=\"T_234cb68c_1d6a_11eb_9d99_1cbfc0fa7fd8row15_col7\" class=\"data row15 col7\" >0.0020</td>\n",
       "            </tr>\n",
       "            <tr>\n",
       "                        <th id=\"T_234cb68c_1d6a_11eb_9d99_1cbfc0fa7fd8level0_row16\" class=\"row_heading level0 row16\" >16</th>\n",
       "                        <td id=\"T_234cb68c_1d6a_11eb_9d99_1cbfc0fa7fd8row16_col0\" class=\"data row16 col0\" >Extra Trees Regressor</td>\n",
       "                        <td id=\"T_234cb68c_1d6a_11eb_9d99_1cbfc0fa7fd8row16_col1\" class=\"data row16 col1\" >2440.1555</td>\n",
       "                        <td id=\"T_234cb68c_1d6a_11eb_9d99_1cbfc0fa7fd8row16_col2\" class=\"data row16 col2\" >8988420.5437</td>\n",
       "                        <td id=\"T_234cb68c_1d6a_11eb_9d99_1cbfc0fa7fd8row16_col3\" class=\"data row16 col3\" >2966.6291</td>\n",
       "                        <td id=\"T_234cb68c_1d6a_11eb_9d99_1cbfc0fa7fd8row16_col4\" class=\"data row16 col4\" >0.4431</td>\n",
       "                        <td id=\"T_234cb68c_1d6a_11eb_9d99_1cbfc0fa7fd8row16_col5\" class=\"data row16 col5\" >0.1165</td>\n",
       "                        <td id=\"T_234cb68c_1d6a_11eb_9d99_1cbfc0fa7fd8row16_col6\" class=\"data row16 col6\" >0.0974</td>\n",
       "                        <td id=\"T_234cb68c_1d6a_11eb_9d99_1cbfc0fa7fd8row16_col7\" class=\"data row16 col7\" >0.0831</td>\n",
       "            </tr>\n",
       "            <tr>\n",
       "                        <th id=\"T_234cb68c_1d6a_11eb_9d99_1cbfc0fa7fd8level0_row17\" class=\"row_heading level0 row17\" >17</th>\n",
       "                        <td id=\"T_234cb68c_1d6a_11eb_9d99_1cbfc0fa7fd8row17_col0\" class=\"data row17 col0\" >Extreme Gradient Boosting</td>\n",
       "                        <td id=\"T_234cb68c_1d6a_11eb_9d99_1cbfc0fa7fd8row17_col1\" class=\"data row17 col1\" >2542.1662</td>\n",
       "                        <td id=\"T_234cb68c_1d6a_11eb_9d99_1cbfc0fa7fd8row17_col2\" class=\"data row17 col2\" >9588487.0160</td>\n",
       "                        <td id=\"T_234cb68c_1d6a_11eb_9d99_1cbfc0fa7fd8row17_col3\" class=\"data row17 col3\" >3063.8167</td>\n",
       "                        <td id=\"T_234cb68c_1d6a_11eb_9d99_1cbfc0fa7fd8row17_col4\" class=\"data row17 col4\" >0.4072</td>\n",
       "                        <td id=\"T_234cb68c_1d6a_11eb_9d99_1cbfc0fa7fd8row17_col5\" class=\"data row17 col5\" >0.1193</td>\n",
       "                        <td id=\"T_234cb68c_1d6a_11eb_9d99_1cbfc0fa7fd8row17_col6\" class=\"data row17 col6\" >0.1010</td>\n",
       "                        <td id=\"T_234cb68c_1d6a_11eb_9d99_1cbfc0fa7fd8row17_col7\" class=\"data row17 col7\" >0.0709</td>\n",
       "            </tr>\n",
       "            <tr>\n",
       "                        <th id=\"T_234cb68c_1d6a_11eb_9d99_1cbfc0fa7fd8level0_row18\" class=\"row_heading level0 row18\" >18</th>\n",
       "                        <td id=\"T_234cb68c_1d6a_11eb_9d99_1cbfc0fa7fd8row18_col0\" class=\"data row18 col0\" >Passive Aggressive Regressor</td>\n",
       "                        <td id=\"T_234cb68c_1d6a_11eb_9d99_1cbfc0fa7fd8row18_col1\" class=\"data row18 col1\" >2691.6613</td>\n",
       "                        <td id=\"T_234cb68c_1d6a_11eb_9d99_1cbfc0fa7fd8row18_col2\" class=\"data row18 col2\" >11543713.8276</td>\n",
       "                        <td id=\"T_234cb68c_1d6a_11eb_9d99_1cbfc0fa7fd8row18_col3\" class=\"data row18 col3\" >3364.4618</td>\n",
       "                        <td id=\"T_234cb68c_1d6a_11eb_9d99_1cbfc0fa7fd8row18_col4\" class=\"data row18 col4\" >0.2992</td>\n",
       "                        <td id=\"T_234cb68c_1d6a_11eb_9d99_1cbfc0fa7fd8row18_col5\" class=\"data row18 col5\" >0.1323</td>\n",
       "                        <td id=\"T_234cb68c_1d6a_11eb_9d99_1cbfc0fa7fd8row18_col6\" class=\"data row18 col6\" >0.1060</td>\n",
       "                        <td id=\"T_234cb68c_1d6a_11eb_9d99_1cbfc0fa7fd8row18_col7\" class=\"data row18 col7\" >0.0027</td>\n",
       "            </tr>\n",
       "            <tr>\n",
       "                        <th id=\"T_234cb68c_1d6a_11eb_9d99_1cbfc0fa7fd8level0_row19\" class=\"row_heading level0 row19\" >19</th>\n",
       "                        <td id=\"T_234cb68c_1d6a_11eb_9d99_1cbfc0fa7fd8row19_col0\" class=\"data row19 col0\" >Orthogonal Matching Pursuit</td>\n",
       "                        <td id=\"T_234cb68c_1d6a_11eb_9d99_1cbfc0fa7fd8row19_col1\" class=\"data row19 col1\" >2853.2940</td>\n",
       "                        <td id=\"T_234cb68c_1d6a_11eb_9d99_1cbfc0fa7fd8row19_col2\" class=\"data row19 col2\" >12014089.4051</td>\n",
       "                        <td id=\"T_234cb68c_1d6a_11eb_9d99_1cbfc0fa7fd8row19_col3\" class=\"data row19 col3\" >3447.4020</td>\n",
       "                        <td id=\"T_234cb68c_1d6a_11eb_9d99_1cbfc0fa7fd8row19_col4\" class=\"data row19 col4\" >0.2982</td>\n",
       "                        <td id=\"T_234cb68c_1d6a_11eb_9d99_1cbfc0fa7fd8row19_col5\" class=\"data row19 col5\" >0.1354</td>\n",
       "                        <td id=\"T_234cb68c_1d6a_11eb_9d99_1cbfc0fa7fd8row19_col6\" class=\"data row19 col6\" >0.1141</td>\n",
       "                        <td id=\"T_234cb68c_1d6a_11eb_9d99_1cbfc0fa7fd8row19_col7\" class=\"data row19 col7\" >0.0019</td>\n",
       "            </tr>\n",
       "            <tr>\n",
       "                        <th id=\"T_234cb68c_1d6a_11eb_9d99_1cbfc0fa7fd8level0_row20\" class=\"row_heading level0 row20\" >20</th>\n",
       "                        <td id=\"T_234cb68c_1d6a_11eb_9d99_1cbfc0fa7fd8row20_col0\" class=\"data row20 col0\" >Decision Tree</td>\n",
       "                        <td id=\"T_234cb68c_1d6a_11eb_9d99_1cbfc0fa7fd8row20_col1\" class=\"data row20 col1\" >2821.3828</td>\n",
       "                        <td id=\"T_234cb68c_1d6a_11eb_9d99_1cbfc0fa7fd8row20_col2\" class=\"data row20 col2\" >11906703.5268</td>\n",
       "                        <td id=\"T_234cb68c_1d6a_11eb_9d99_1cbfc0fa7fd8row20_col3\" class=\"data row20 col3\" >3410.5487</td>\n",
       "                        <td id=\"T_234cb68c_1d6a_11eb_9d99_1cbfc0fa7fd8row20_col4\" class=\"data row20 col4\" >0.2901</td>\n",
       "                        <td id=\"T_234cb68c_1d6a_11eb_9d99_1cbfc0fa7fd8row20_col5\" class=\"data row20 col5\" >0.1336</td>\n",
       "                        <td id=\"T_234cb68c_1d6a_11eb_9d99_1cbfc0fa7fd8row20_col6\" class=\"data row20 col6\" >0.1123</td>\n",
       "                        <td id=\"T_234cb68c_1d6a_11eb_9d99_1cbfc0fa7fd8row20_col7\" class=\"data row20 col7\" >0.0021</td>\n",
       "            </tr>\n",
       "            <tr>\n",
       "                        <th id=\"T_234cb68c_1d6a_11eb_9d99_1cbfc0fa7fd8level0_row21\" class=\"row_heading level0 row21\" >21</th>\n",
       "                        <td id=\"T_234cb68c_1d6a_11eb_9d99_1cbfc0fa7fd8row21_col0\" class=\"data row21 col0\" >Support Vector Machine</td>\n",
       "                        <td id=\"T_234cb68c_1d6a_11eb_9d99_1cbfc0fa7fd8row21_col1\" class=\"data row21 col1\" >3552.9197</td>\n",
       "                        <td id=\"T_234cb68c_1d6a_11eb_9d99_1cbfc0fa7fd8row21_col2\" class=\"data row21 col2\" >19644461.8001</td>\n",
       "                        <td id=\"T_234cb68c_1d6a_11eb_9d99_1cbfc0fa7fd8row21_col3\" class=\"data row21 col3\" >4375.2774</td>\n",
       "                        <td id=\"T_234cb68c_1d6a_11eb_9d99_1cbfc0fa7fd8row21_col4\" class=\"data row21 col4\" >-0.0810</td>\n",
       "                        <td id=\"T_234cb68c_1d6a_11eb_9d99_1cbfc0fa7fd8row21_col5\" class=\"data row21 col5\" >0.1736</td>\n",
       "                        <td id=\"T_234cb68c_1d6a_11eb_9d99_1cbfc0fa7fd8row21_col6\" class=\"data row21 col6\" >0.1432</td>\n",
       "                        <td id=\"T_234cb68c_1d6a_11eb_9d99_1cbfc0fa7fd8row21_col7\" class=\"data row21 col7\" >0.0033</td>\n",
       "            </tr>\n",
       "    </tbody></table>"
      ],
      "text/plain": [
       "<pandas.io.formats.style.Styler at 0x1a904746ca0>"
      ]
     },
     "metadata": {},
     "output_type": "display_data"
    }
   ],
   "source": [
    "best_regressor = compare_models(sort='R2')"
   ]
  },
  {
   "cell_type": "code",
   "execution_count": 59,
   "metadata": {
    "ExecuteTime": {
     "end_time": "2020-11-03T00:18:47.140599Z",
     "start_time": "2020-11-03T00:18:47.116663Z"
    }
   },
   "outputs": [
    {
     "data": {
      "text/html": [
       "<div>\n",
       "<style scoped>\n",
       "    .dataframe tbody tr th:only-of-type {\n",
       "        vertical-align: middle;\n",
       "    }\n",
       "\n",
       "    .dataframe tbody tr th {\n",
       "        vertical-align: top;\n",
       "    }\n",
       "\n",
       "    .dataframe thead th {\n",
       "        text-align: right;\n",
       "    }\n",
       "</style>\n",
       "<table border=\"1\" class=\"dataframe\">\n",
       "  <thead>\n",
       "    <tr style=\"text-align: right;\">\n",
       "      <th></th>\n",
       "      <th>Name</th>\n",
       "      <th>Reference</th>\n",
       "      <th>Turbo</th>\n",
       "    </tr>\n",
       "    <tr>\n",
       "      <th>ID</th>\n",
       "      <th></th>\n",
       "      <th></th>\n",
       "      <th></th>\n",
       "    </tr>\n",
       "  </thead>\n",
       "  <tbody>\n",
       "    <tr>\n",
       "      <th>lr</th>\n",
       "      <td>Linear Regression</td>\n",
       "      <td>sklearn.linear_model.LinearRegression</td>\n",
       "      <td>True</td>\n",
       "    </tr>\n",
       "    <tr>\n",
       "      <th>lasso</th>\n",
       "      <td>Lasso Regression</td>\n",
       "      <td>sklearn.linear_model.Lasso</td>\n",
       "      <td>True</td>\n",
       "    </tr>\n",
       "    <tr>\n",
       "      <th>ridge</th>\n",
       "      <td>Ridge Regression</td>\n",
       "      <td>sklearn.linear_model.Ridge</td>\n",
       "      <td>True</td>\n",
       "    </tr>\n",
       "    <tr>\n",
       "      <th>en</th>\n",
       "      <td>Elastic Net</td>\n",
       "      <td>sklearn.linear_model.ElasticNet</td>\n",
       "      <td>True</td>\n",
       "    </tr>\n",
       "    <tr>\n",
       "      <th>lar</th>\n",
       "      <td>Least Angle Regression</td>\n",
       "      <td>sklearn.linear_model.Lars</td>\n",
       "      <td>True</td>\n",
       "    </tr>\n",
       "    <tr>\n",
       "      <th>llar</th>\n",
       "      <td>Lasso Least Angle Regression</td>\n",
       "      <td>sklearn.linear_model.LassoLars</td>\n",
       "      <td>True</td>\n",
       "    </tr>\n",
       "    <tr>\n",
       "      <th>omp</th>\n",
       "      <td>Orthogonal Matching Pursuit</td>\n",
       "      <td>sklearn.linear_model.OMP</td>\n",
       "      <td>True</td>\n",
       "    </tr>\n",
       "    <tr>\n",
       "      <th>br</th>\n",
       "      <td>Bayesian Ridge</td>\n",
       "      <td>sklearn.linear_model.BayesianRidge</td>\n",
       "      <td>True</td>\n",
       "    </tr>\n",
       "    <tr>\n",
       "      <th>ard</th>\n",
       "      <td>Automatic Relevance Determination</td>\n",
       "      <td>sklearn.linear_model.ARDRegression</td>\n",
       "      <td>False</td>\n",
       "    </tr>\n",
       "    <tr>\n",
       "      <th>par</th>\n",
       "      <td>Passive Aggressive Regressor</td>\n",
       "      <td>sklearn.linear_model.PAR</td>\n",
       "      <td>True</td>\n",
       "    </tr>\n",
       "    <tr>\n",
       "      <th>ransac</th>\n",
       "      <td>Random Sample Consensus</td>\n",
       "      <td>sklearn.linear_model.RANSACRegressor</td>\n",
       "      <td>True</td>\n",
       "    </tr>\n",
       "    <tr>\n",
       "      <th>tr</th>\n",
       "      <td>TheilSen Regressor</td>\n",
       "      <td>sklearn.linear_model.TheilSenRegressor</td>\n",
       "      <td>True</td>\n",
       "    </tr>\n",
       "    <tr>\n",
       "      <th>huber</th>\n",
       "      <td>Huber Regressor</td>\n",
       "      <td>sklearn.linear_model.HuberRegressor</td>\n",
       "      <td>True</td>\n",
       "    </tr>\n",
       "    <tr>\n",
       "      <th>kr</th>\n",
       "      <td>Kernel Ridge</td>\n",
       "      <td>sklearn.kernel_ridge.KernelRidge</td>\n",
       "      <td>False</td>\n",
       "    </tr>\n",
       "    <tr>\n",
       "      <th>svm</th>\n",
       "      <td>Support Vector Machine</td>\n",
       "      <td>sklearn.svm.SVR</td>\n",
       "      <td>True</td>\n",
       "    </tr>\n",
       "    <tr>\n",
       "      <th>knn</th>\n",
       "      <td>K Neighbors Regressor</td>\n",
       "      <td>sklearn.neighbors.KNeighborsRegressor</td>\n",
       "      <td>True</td>\n",
       "    </tr>\n",
       "    <tr>\n",
       "      <th>dt</th>\n",
       "      <td>Decision Tree</td>\n",
       "      <td>sklearn.tree.DecisionTreeRegressor</td>\n",
       "      <td>True</td>\n",
       "    </tr>\n",
       "    <tr>\n",
       "      <th>rf</th>\n",
       "      <td>Random Forest</td>\n",
       "      <td>sklearn.ensemble.RandomForestRegressor</td>\n",
       "      <td>True</td>\n",
       "    </tr>\n",
       "    <tr>\n",
       "      <th>et</th>\n",
       "      <td>Extra Trees Regressor</td>\n",
       "      <td>sklearn.ensemble.ExtraTreesRegressor</td>\n",
       "      <td>True</td>\n",
       "    </tr>\n",
       "    <tr>\n",
       "      <th>ada</th>\n",
       "      <td>AdaBoost Regressor</td>\n",
       "      <td>sklearn.ensemble.AdaBoostRegressor</td>\n",
       "      <td>True</td>\n",
       "    </tr>\n",
       "    <tr>\n",
       "      <th>gbr</th>\n",
       "      <td>Gradient Boosting Regressor</td>\n",
       "      <td>sklearn.ensemble.GradientBoostingRegressor</td>\n",
       "      <td>True</td>\n",
       "    </tr>\n",
       "    <tr>\n",
       "      <th>mlp</th>\n",
       "      <td>Multi Level Perceptron</td>\n",
       "      <td>sklearn.neural_network.MLPRegressor</td>\n",
       "      <td>False</td>\n",
       "    </tr>\n",
       "    <tr>\n",
       "      <th>xgboost</th>\n",
       "      <td>Extreme Gradient Boosting</td>\n",
       "      <td>xgboost.readthedocs.io</td>\n",
       "      <td>True</td>\n",
       "    </tr>\n",
       "    <tr>\n",
       "      <th>lightgbm</th>\n",
       "      <td>Light Gradient Boosting Machine</td>\n",
       "      <td>github.com/microsoft/LightGBM</td>\n",
       "      <td>True</td>\n",
       "    </tr>\n",
       "    <tr>\n",
       "      <th>catboost</th>\n",
       "      <td>CatBoost Regressor</td>\n",
       "      <td>https://catboost.ai</td>\n",
       "      <td>True</td>\n",
       "    </tr>\n",
       "  </tbody>\n",
       "</table>\n",
       "</div>"
      ],
      "text/plain": [
       "                                       Name  \\\n",
       "ID                                            \n",
       "lr                        Linear Regression   \n",
       "lasso                      Lasso Regression   \n",
       "ridge                      Ridge Regression   \n",
       "en                              Elastic Net   \n",
       "lar                  Least Angle Regression   \n",
       "llar           Lasso Least Angle Regression   \n",
       "omp             Orthogonal Matching Pursuit   \n",
       "br                           Bayesian Ridge   \n",
       "ard       Automatic Relevance Determination   \n",
       "par            Passive Aggressive Regressor   \n",
       "ransac              Random Sample Consensus   \n",
       "tr                       TheilSen Regressor   \n",
       "huber                       Huber Regressor   \n",
       "kr                             Kernel Ridge   \n",
       "svm                  Support Vector Machine   \n",
       "knn                   K Neighbors Regressor   \n",
       "dt                            Decision Tree   \n",
       "rf                            Random Forest   \n",
       "et                    Extra Trees Regressor   \n",
       "ada                      AdaBoost Regressor   \n",
       "gbr             Gradient Boosting Regressor   \n",
       "mlp                  Multi Level Perceptron   \n",
       "xgboost           Extreme Gradient Boosting   \n",
       "lightgbm    Light Gradient Boosting Machine   \n",
       "catboost                 CatBoost Regressor   \n",
       "\n",
       "                                           Reference  Turbo  \n",
       "ID                                                           \n",
       "lr             sklearn.linear_model.LinearRegression   True  \n",
       "lasso                     sklearn.linear_model.Lasso   True  \n",
       "ridge                     sklearn.linear_model.Ridge   True  \n",
       "en                   sklearn.linear_model.ElasticNet   True  \n",
       "lar                        sklearn.linear_model.Lars   True  \n",
       "llar                  sklearn.linear_model.LassoLars   True  \n",
       "omp                         sklearn.linear_model.OMP   True  \n",
       "br                sklearn.linear_model.BayesianRidge   True  \n",
       "ard               sklearn.linear_model.ARDRegression  False  \n",
       "par                         sklearn.linear_model.PAR   True  \n",
       "ransac          sklearn.linear_model.RANSACRegressor   True  \n",
       "tr            sklearn.linear_model.TheilSenRegressor   True  \n",
       "huber            sklearn.linear_model.HuberRegressor   True  \n",
       "kr                  sklearn.kernel_ridge.KernelRidge  False  \n",
       "svm                                  sklearn.svm.SVR   True  \n",
       "knn            sklearn.neighbors.KNeighborsRegressor   True  \n",
       "dt                sklearn.tree.DecisionTreeRegressor   True  \n",
       "rf            sklearn.ensemble.RandomForestRegressor   True  \n",
       "et              sklearn.ensemble.ExtraTreesRegressor   True  \n",
       "ada               sklearn.ensemble.AdaBoostRegressor   True  \n",
       "gbr       sklearn.ensemble.GradientBoostingRegressor   True  \n",
       "mlp              sklearn.neural_network.MLPRegressor  False  \n",
       "xgboost                       xgboost.readthedocs.io   True  \n",
       "lightgbm               github.com/microsoft/LightGBM   True  \n",
       "catboost                         https://catboost.ai   True  "
      ]
     },
     "execution_count": 59,
     "metadata": {},
     "output_type": "execute_result"
    }
   ],
   "source": [
    "models()"
   ]
  },
  {
   "cell_type": "code",
   "execution_count": 65,
   "metadata": {
    "ExecuteTime": {
     "end_time": "2020-11-03T00:27:44.092298Z",
     "start_time": "2020-11-03T00:27:43.810053Z"
    }
   },
   "outputs": [
    {
     "data": {
      "text/html": [
       "<style  type=\"text/css\" >\n",
       "    #T_63f6e617_1d6b_11eb_8c6d_1cbfc0fa7fd8row10_col0 {\n",
       "            background:  yellow;\n",
       "        }    #T_63f6e617_1d6b_11eb_8c6d_1cbfc0fa7fd8row10_col1 {\n",
       "            background:  yellow;\n",
       "        }    #T_63f6e617_1d6b_11eb_8c6d_1cbfc0fa7fd8row10_col2 {\n",
       "            background:  yellow;\n",
       "        }    #T_63f6e617_1d6b_11eb_8c6d_1cbfc0fa7fd8row10_col3 {\n",
       "            background:  yellow;\n",
       "        }    #T_63f6e617_1d6b_11eb_8c6d_1cbfc0fa7fd8row10_col4 {\n",
       "            background:  yellow;\n",
       "        }    #T_63f6e617_1d6b_11eb_8c6d_1cbfc0fa7fd8row10_col5 {\n",
       "            background:  yellow;\n",
       "        }</style><table id=\"T_63f6e617_1d6b_11eb_8c6d_1cbfc0fa7fd8\" ><thead>    <tr>        <th class=\"blank level0\" ></th>        <th class=\"col_heading level0 col0\" >MAE</th>        <th class=\"col_heading level0 col1\" >MSE</th>        <th class=\"col_heading level0 col2\" >RMSE</th>        <th class=\"col_heading level0 col3\" >R2</th>        <th class=\"col_heading level0 col4\" >RMSLE</th>        <th class=\"col_heading level0 col5\" >MAPE</th>    </tr></thead><tbody>\n",
       "                <tr>\n",
       "                        <th id=\"T_63f6e617_1d6b_11eb_8c6d_1cbfc0fa7fd8level0_row0\" class=\"row_heading level0 row0\" >0</th>\n",
       "                        <td id=\"T_63f6e617_1d6b_11eb_8c6d_1cbfc0fa7fd8row0_col0\" class=\"data row0 col0\" >2267.7804</td>\n",
       "                        <td id=\"T_63f6e617_1d6b_11eb_8c6d_1cbfc0fa7fd8row0_col1\" class=\"data row0 col1\" >6413240.4664</td>\n",
       "                        <td id=\"T_63f6e617_1d6b_11eb_8c6d_1cbfc0fa7fd8row0_col2\" class=\"data row0 col2\" >2532.4377</td>\n",
       "                        <td id=\"T_63f6e617_1d6b_11eb_8c6d_1cbfc0fa7fd8row0_col3\" class=\"data row0 col3\" >0.6805</td>\n",
       "                        <td id=\"T_63f6e617_1d6b_11eb_8c6d_1cbfc0fa7fd8row0_col4\" class=\"data row0 col4\" >0.1025</td>\n",
       "                        <td id=\"T_63f6e617_1d6b_11eb_8c6d_1cbfc0fa7fd8row0_col5\" class=\"data row0 col5\" >0.0934</td>\n",
       "            </tr>\n",
       "            <tr>\n",
       "                        <th id=\"T_63f6e617_1d6b_11eb_8c6d_1cbfc0fa7fd8level0_row1\" class=\"row_heading level0 row1\" >1</th>\n",
       "                        <td id=\"T_63f6e617_1d6b_11eb_8c6d_1cbfc0fa7fd8row1_col0\" class=\"data row1 col0\" >2164.1218</td>\n",
       "                        <td id=\"T_63f6e617_1d6b_11eb_8c6d_1cbfc0fa7fd8row1_col1\" class=\"data row1 col1\" >5366326.0663</td>\n",
       "                        <td id=\"T_63f6e617_1d6b_11eb_8c6d_1cbfc0fa7fd8row1_col2\" class=\"data row1 col2\" >2316.5332</td>\n",
       "                        <td id=\"T_63f6e617_1d6b_11eb_8c6d_1cbfc0fa7fd8row1_col3\" class=\"data row1 col3\" >0.6496</td>\n",
       "                        <td id=\"T_63f6e617_1d6b_11eb_8c6d_1cbfc0fa7fd8row1_col4\" class=\"data row1 col4\" >0.0905</td>\n",
       "                        <td id=\"T_63f6e617_1d6b_11eb_8c6d_1cbfc0fa7fd8row1_col5\" class=\"data row1 col5\" >0.0847</td>\n",
       "            </tr>\n",
       "            <tr>\n",
       "                        <th id=\"T_63f6e617_1d6b_11eb_8c6d_1cbfc0fa7fd8level0_row2\" class=\"row_heading level0 row2\" >2</th>\n",
       "                        <td id=\"T_63f6e617_1d6b_11eb_8c6d_1cbfc0fa7fd8row2_col0\" class=\"data row2 col0\" >2263.2092</td>\n",
       "                        <td id=\"T_63f6e617_1d6b_11eb_8c6d_1cbfc0fa7fd8row2_col1\" class=\"data row2 col1\" >7214992.9602</td>\n",
       "                        <td id=\"T_63f6e617_1d6b_11eb_8c6d_1cbfc0fa7fd8row2_col2\" class=\"data row2 col2\" >2686.0739</td>\n",
       "                        <td id=\"T_63f6e617_1d6b_11eb_8c6d_1cbfc0fa7fd8row2_col3\" class=\"data row2 col3\" >0.6289</td>\n",
       "                        <td id=\"T_63f6e617_1d6b_11eb_8c6d_1cbfc0fa7fd8row2_col4\" class=\"data row2 col4\" >0.0955</td>\n",
       "                        <td id=\"T_63f6e617_1d6b_11eb_8c6d_1cbfc0fa7fd8row2_col5\" class=\"data row2 col5\" >0.0803</td>\n",
       "            </tr>\n",
       "            <tr>\n",
       "                        <th id=\"T_63f6e617_1d6b_11eb_8c6d_1cbfc0fa7fd8level0_row3\" class=\"row_heading level0 row3\" >3</th>\n",
       "                        <td id=\"T_63f6e617_1d6b_11eb_8c6d_1cbfc0fa7fd8row3_col0\" class=\"data row3 col0\" >2396.8552</td>\n",
       "                        <td id=\"T_63f6e617_1d6b_11eb_8c6d_1cbfc0fa7fd8row3_col1\" class=\"data row3 col1\" >7362700.6463</td>\n",
       "                        <td id=\"T_63f6e617_1d6b_11eb_8c6d_1cbfc0fa7fd8row3_col2\" class=\"data row3 col2\" >2713.4297</td>\n",
       "                        <td id=\"T_63f6e617_1d6b_11eb_8c6d_1cbfc0fa7fd8row3_col3\" class=\"data row3 col3\" >0.7150</td>\n",
       "                        <td id=\"T_63f6e617_1d6b_11eb_8c6d_1cbfc0fa7fd8row3_col4\" class=\"data row3 col4\" >0.1061</td>\n",
       "                        <td id=\"T_63f6e617_1d6b_11eb_8c6d_1cbfc0fa7fd8row3_col5\" class=\"data row3 col5\" >0.0967</td>\n",
       "            </tr>\n",
       "            <tr>\n",
       "                        <th id=\"T_63f6e617_1d6b_11eb_8c6d_1cbfc0fa7fd8level0_row4\" class=\"row_heading level0 row4\" >4</th>\n",
       "                        <td id=\"T_63f6e617_1d6b_11eb_8c6d_1cbfc0fa7fd8row4_col0\" class=\"data row4 col0\" >2195.9201</td>\n",
       "                        <td id=\"T_63f6e617_1d6b_11eb_8c6d_1cbfc0fa7fd8row4_col1\" class=\"data row4 col1\" >6663751.8876</td>\n",
       "                        <td id=\"T_63f6e617_1d6b_11eb_8c6d_1cbfc0fa7fd8row4_col2\" class=\"data row4 col2\" >2581.4244</td>\n",
       "                        <td id=\"T_63f6e617_1d6b_11eb_8c6d_1cbfc0fa7fd8row4_col3\" class=\"data row4 col3\" >0.5401</td>\n",
       "                        <td id=\"T_63f6e617_1d6b_11eb_8c6d_1cbfc0fa7fd8row4_col4\" class=\"data row4 col4\" >0.0987</td>\n",
       "                        <td id=\"T_63f6e617_1d6b_11eb_8c6d_1cbfc0fa7fd8row4_col5\" class=\"data row4 col5\" >0.0863</td>\n",
       "            </tr>\n",
       "            <tr>\n",
       "                        <th id=\"T_63f6e617_1d6b_11eb_8c6d_1cbfc0fa7fd8level0_row5\" class=\"row_heading level0 row5\" >5</th>\n",
       "                        <td id=\"T_63f6e617_1d6b_11eb_8c6d_1cbfc0fa7fd8row5_col0\" class=\"data row5 col0\" >1739.2788</td>\n",
       "                        <td id=\"T_63f6e617_1d6b_11eb_8c6d_1cbfc0fa7fd8row5_col1\" class=\"data row5 col1\" >4426226.4720</td>\n",
       "                        <td id=\"T_63f6e617_1d6b_11eb_8c6d_1cbfc0fa7fd8row5_col2\" class=\"data row5 col2\" >2103.8599</td>\n",
       "                        <td id=\"T_63f6e617_1d6b_11eb_8c6d_1cbfc0fa7fd8row5_col3\" class=\"data row5 col3\" >0.4595</td>\n",
       "                        <td id=\"T_63f6e617_1d6b_11eb_8c6d_1cbfc0fa7fd8row5_col4\" class=\"data row5 col4\" >0.0831</td>\n",
       "                        <td id=\"T_63f6e617_1d6b_11eb_8c6d_1cbfc0fa7fd8row5_col5\" class=\"data row5 col5\" >0.0671</td>\n",
       "            </tr>\n",
       "            <tr>\n",
       "                        <th id=\"T_63f6e617_1d6b_11eb_8c6d_1cbfc0fa7fd8level0_row6\" class=\"row_heading level0 row6\" >6</th>\n",
       "                        <td id=\"T_63f6e617_1d6b_11eb_8c6d_1cbfc0fa7fd8row6_col0\" class=\"data row6 col0\" >2171.7200</td>\n",
       "                        <td id=\"T_63f6e617_1d6b_11eb_8c6d_1cbfc0fa7fd8row6_col1\" class=\"data row6 col1\" >6870340.8771</td>\n",
       "                        <td id=\"T_63f6e617_1d6b_11eb_8c6d_1cbfc0fa7fd8row6_col2\" class=\"data row6 col2\" >2621.1335</td>\n",
       "                        <td id=\"T_63f6e617_1d6b_11eb_8c6d_1cbfc0fa7fd8row6_col3\" class=\"data row6 col3\" >0.5876</td>\n",
       "                        <td id=\"T_63f6e617_1d6b_11eb_8c6d_1cbfc0fa7fd8row6_col4\" class=\"data row6 col4\" >0.1080</td>\n",
       "                        <td id=\"T_63f6e617_1d6b_11eb_8c6d_1cbfc0fa7fd8row6_col5\" class=\"data row6 col5\" >0.0956</td>\n",
       "            </tr>\n",
       "            <tr>\n",
       "                        <th id=\"T_63f6e617_1d6b_11eb_8c6d_1cbfc0fa7fd8level0_row7\" class=\"row_heading level0 row7\" >7</th>\n",
       "                        <td id=\"T_63f6e617_1d6b_11eb_8c6d_1cbfc0fa7fd8row7_col0\" class=\"data row7 col0\" >1755.3423</td>\n",
       "                        <td id=\"T_63f6e617_1d6b_11eb_8c6d_1cbfc0fa7fd8row7_col1\" class=\"data row7 col1\" >4594901.9203</td>\n",
       "                        <td id=\"T_63f6e617_1d6b_11eb_8c6d_1cbfc0fa7fd8row7_col2\" class=\"data row7 col2\" >2143.5722</td>\n",
       "                        <td id=\"T_63f6e617_1d6b_11eb_8c6d_1cbfc0fa7fd8row7_col3\" class=\"data row7 col3\" >0.6670</td>\n",
       "                        <td id=\"T_63f6e617_1d6b_11eb_8c6d_1cbfc0fa7fd8row7_col4\" class=\"data row7 col4\" >0.0850</td>\n",
       "                        <td id=\"T_63f6e617_1d6b_11eb_8c6d_1cbfc0fa7fd8row7_col5\" class=\"data row7 col5\" >0.0696</td>\n",
       "            </tr>\n",
       "            <tr>\n",
       "                        <th id=\"T_63f6e617_1d6b_11eb_8c6d_1cbfc0fa7fd8level0_row8\" class=\"row_heading level0 row8\" >8</th>\n",
       "                        <td id=\"T_63f6e617_1d6b_11eb_8c6d_1cbfc0fa7fd8row8_col0\" class=\"data row8 col0\" >2039.2373</td>\n",
       "                        <td id=\"T_63f6e617_1d6b_11eb_8c6d_1cbfc0fa7fd8row8_col1\" class=\"data row8 col1\" >5867588.0829</td>\n",
       "                        <td id=\"T_63f6e617_1d6b_11eb_8c6d_1cbfc0fa7fd8row8_col2\" class=\"data row8 col2\" >2422.3105</td>\n",
       "                        <td id=\"T_63f6e617_1d6b_11eb_8c6d_1cbfc0fa7fd8row8_col3\" class=\"data row8 col3\" >0.6932</td>\n",
       "                        <td id=\"T_63f6e617_1d6b_11eb_8c6d_1cbfc0fa7fd8row8_col4\" class=\"data row8 col4\" >0.0943</td>\n",
       "                        <td id=\"T_63f6e617_1d6b_11eb_8c6d_1cbfc0fa7fd8row8_col5\" class=\"data row8 col5\" >0.0788</td>\n",
       "            </tr>\n",
       "            <tr>\n",
       "                        <th id=\"T_63f6e617_1d6b_11eb_8c6d_1cbfc0fa7fd8level0_row9\" class=\"row_heading level0 row9\" >9</th>\n",
       "                        <td id=\"T_63f6e617_1d6b_11eb_8c6d_1cbfc0fa7fd8row9_col0\" class=\"data row9 col0\" >1964.5502</td>\n",
       "                        <td id=\"T_63f6e617_1d6b_11eb_8c6d_1cbfc0fa7fd8row9_col1\" class=\"data row9 col1\" >5473622.5454</td>\n",
       "                        <td id=\"T_63f6e617_1d6b_11eb_8c6d_1cbfc0fa7fd8row9_col2\" class=\"data row9 col2\" >2339.5774</td>\n",
       "                        <td id=\"T_63f6e617_1d6b_11eb_8c6d_1cbfc0fa7fd8row9_col3\" class=\"data row9 col3\" >0.8158</td>\n",
       "                        <td id=\"T_63f6e617_1d6b_11eb_8c6d_1cbfc0fa7fd8row9_col4\" class=\"data row9 col4\" >0.0916</td>\n",
       "                        <td id=\"T_63f6e617_1d6b_11eb_8c6d_1cbfc0fa7fd8row9_col5\" class=\"data row9 col5\" >0.0780</td>\n",
       "            </tr>\n",
       "            <tr>\n",
       "                        <th id=\"T_63f6e617_1d6b_11eb_8c6d_1cbfc0fa7fd8level0_row10\" class=\"row_heading level0 row10\" >Mean</th>\n",
       "                        <td id=\"T_63f6e617_1d6b_11eb_8c6d_1cbfc0fa7fd8row10_col0\" class=\"data row10 col0\" >2095.8015</td>\n",
       "                        <td id=\"T_63f6e617_1d6b_11eb_8c6d_1cbfc0fa7fd8row10_col1\" class=\"data row10 col1\" >6025369.1925</td>\n",
       "                        <td id=\"T_63f6e617_1d6b_11eb_8c6d_1cbfc0fa7fd8row10_col2\" class=\"data row10 col2\" >2446.0352</td>\n",
       "                        <td id=\"T_63f6e617_1d6b_11eb_8c6d_1cbfc0fa7fd8row10_col3\" class=\"data row10 col3\" >0.6437</td>\n",
       "                        <td id=\"T_63f6e617_1d6b_11eb_8c6d_1cbfc0fa7fd8row10_col4\" class=\"data row10 col4\" >0.0955</td>\n",
       "                        <td id=\"T_63f6e617_1d6b_11eb_8c6d_1cbfc0fa7fd8row10_col5\" class=\"data row10 col5\" >0.0831</td>\n",
       "            </tr>\n",
       "            <tr>\n",
       "                        <th id=\"T_63f6e617_1d6b_11eb_8c6d_1cbfc0fa7fd8level0_row11\" class=\"row_heading level0 row11\" >SD</th>\n",
       "                        <td id=\"T_63f6e617_1d6b_11eb_8c6d_1cbfc0fa7fd8row11_col0\" class=\"data row11 col0\" >207.8792</td>\n",
       "                        <td id=\"T_63f6e617_1d6b_11eb_8c6d_1cbfc0fa7fd8row11_col1\" class=\"data row11 col1\" >992107.1013</td>\n",
       "                        <td id=\"T_63f6e617_1d6b_11eb_8c6d_1cbfc0fa7fd8row11_col2\" class=\"data row11 col2\" >205.6230</td>\n",
       "                        <td id=\"T_63f6e617_1d6b_11eb_8c6d_1cbfc0fa7fd8row11_col3\" class=\"data row11 col3\" >0.0933</td>\n",
       "                        <td id=\"T_63f6e617_1d6b_11eb_8c6d_1cbfc0fa7fd8row11_col4\" class=\"data row11 col4\" >0.0080</td>\n",
       "                        <td id=\"T_63f6e617_1d6b_11eb_8c6d_1cbfc0fa7fd8row11_col5\" class=\"data row11 col5\" >0.0097</td>\n",
       "            </tr>\n",
       "    </tbody></table>"
      ],
      "text/plain": [
       "<pandas.io.formats.style.Styler at 0x1a900365190>"
      ]
     },
     "metadata": {},
     "output_type": "display_data"
    }
   ],
   "source": [
    "modelo = create_model('ridge')"
   ]
  },
  {
   "cell_type": "code",
   "execution_count": 66,
   "metadata": {
    "ExecuteTime": {
     "end_time": "2020-11-03T00:27:45.759078Z",
     "start_time": "2020-11-03T00:27:45.404028Z"
    }
   },
   "outputs": [
    {
     "data": {
      "text/html": [
       "<style  type=\"text/css\" >\n",
       "    #T_64f4ecc7_1d6b_11eb_a2b4_1cbfc0fa7fd8row10_col0 {\n",
       "            background:  yellow;\n",
       "        }    #T_64f4ecc7_1d6b_11eb_a2b4_1cbfc0fa7fd8row10_col1 {\n",
       "            background:  yellow;\n",
       "        }    #T_64f4ecc7_1d6b_11eb_a2b4_1cbfc0fa7fd8row10_col2 {\n",
       "            background:  yellow;\n",
       "        }    #T_64f4ecc7_1d6b_11eb_a2b4_1cbfc0fa7fd8row10_col3 {\n",
       "            background:  yellow;\n",
       "        }    #T_64f4ecc7_1d6b_11eb_a2b4_1cbfc0fa7fd8row10_col4 {\n",
       "            background:  yellow;\n",
       "        }    #T_64f4ecc7_1d6b_11eb_a2b4_1cbfc0fa7fd8row10_col5 {\n",
       "            background:  yellow;\n",
       "        }</style><table id=\"T_64f4ecc7_1d6b_11eb_a2b4_1cbfc0fa7fd8\" ><thead>    <tr>        <th class=\"blank level0\" ></th>        <th class=\"col_heading level0 col0\" >MAE</th>        <th class=\"col_heading level0 col1\" >MSE</th>        <th class=\"col_heading level0 col2\" >RMSE</th>        <th class=\"col_heading level0 col3\" >R2</th>        <th class=\"col_heading level0 col4\" >RMSLE</th>        <th class=\"col_heading level0 col5\" >MAPE</th>    </tr></thead><tbody>\n",
       "                <tr>\n",
       "                        <th id=\"T_64f4ecc7_1d6b_11eb_a2b4_1cbfc0fa7fd8level0_row0\" class=\"row_heading level0 row0\" >0</th>\n",
       "                        <td id=\"T_64f4ecc7_1d6b_11eb_a2b4_1cbfc0fa7fd8row0_col0\" class=\"data row0 col0\" >2268.7257</td>\n",
       "                        <td id=\"T_64f4ecc7_1d6b_11eb_a2b4_1cbfc0fa7fd8row0_col1\" class=\"data row0 col1\" >6424782.2190</td>\n",
       "                        <td id=\"T_64f4ecc7_1d6b_11eb_a2b4_1cbfc0fa7fd8row0_col2\" class=\"data row0 col2\" >2534.7154</td>\n",
       "                        <td id=\"T_64f4ecc7_1d6b_11eb_a2b4_1cbfc0fa7fd8row0_col3\" class=\"data row0 col3\" >0.6800</td>\n",
       "                        <td id=\"T_64f4ecc7_1d6b_11eb_a2b4_1cbfc0fa7fd8row0_col4\" class=\"data row0 col4\" >0.1025</td>\n",
       "                        <td id=\"T_64f4ecc7_1d6b_11eb_a2b4_1cbfc0fa7fd8row0_col5\" class=\"data row0 col5\" >0.0934</td>\n",
       "            </tr>\n",
       "            <tr>\n",
       "                        <th id=\"T_64f4ecc7_1d6b_11eb_a2b4_1cbfc0fa7fd8level0_row1\" class=\"row_heading level0 row1\" >1</th>\n",
       "                        <td id=\"T_64f4ecc7_1d6b_11eb_a2b4_1cbfc0fa7fd8row1_col0\" class=\"data row1 col0\" >2163.8249</td>\n",
       "                        <td id=\"T_64f4ecc7_1d6b_11eb_a2b4_1cbfc0fa7fd8row1_col1\" class=\"data row1 col1\" >5366509.9529</td>\n",
       "                        <td id=\"T_64f4ecc7_1d6b_11eb_a2b4_1cbfc0fa7fd8row1_col2\" class=\"data row1 col2\" >2316.5729</td>\n",
       "                        <td id=\"T_64f4ecc7_1d6b_11eb_a2b4_1cbfc0fa7fd8row1_col3\" class=\"data row1 col3\" >0.6496</td>\n",
       "                        <td id=\"T_64f4ecc7_1d6b_11eb_a2b4_1cbfc0fa7fd8row1_col4\" class=\"data row1 col4\" >0.0905</td>\n",
       "                        <td id=\"T_64f4ecc7_1d6b_11eb_a2b4_1cbfc0fa7fd8row1_col5\" class=\"data row1 col5\" >0.0847</td>\n",
       "            </tr>\n",
       "            <tr>\n",
       "                        <th id=\"T_64f4ecc7_1d6b_11eb_a2b4_1cbfc0fa7fd8level0_row2\" class=\"row_heading level0 row2\" >2</th>\n",
       "                        <td id=\"T_64f4ecc7_1d6b_11eb_a2b4_1cbfc0fa7fd8row2_col0\" class=\"data row2 col0\" >2266.9149</td>\n",
       "                        <td id=\"T_64f4ecc7_1d6b_11eb_a2b4_1cbfc0fa7fd8row2_col1\" class=\"data row2 col1\" >7225119.2036</td>\n",
       "                        <td id=\"T_64f4ecc7_1d6b_11eb_a2b4_1cbfc0fa7fd8row2_col2\" class=\"data row2 col2\" >2687.9582</td>\n",
       "                        <td id=\"T_64f4ecc7_1d6b_11eb_a2b4_1cbfc0fa7fd8row2_col3\" class=\"data row2 col3\" >0.6283</td>\n",
       "                        <td id=\"T_64f4ecc7_1d6b_11eb_a2b4_1cbfc0fa7fd8row2_col4\" class=\"data row2 col4\" >0.0955</td>\n",
       "                        <td id=\"T_64f4ecc7_1d6b_11eb_a2b4_1cbfc0fa7fd8row2_col5\" class=\"data row2 col5\" >0.0804</td>\n",
       "            </tr>\n",
       "            <tr>\n",
       "                        <th id=\"T_64f4ecc7_1d6b_11eb_a2b4_1cbfc0fa7fd8level0_row3\" class=\"row_heading level0 row3\" >3</th>\n",
       "                        <td id=\"T_64f4ecc7_1d6b_11eb_a2b4_1cbfc0fa7fd8row3_col0\" class=\"data row3 col0\" >2395.8892</td>\n",
       "                        <td id=\"T_64f4ecc7_1d6b_11eb_a2b4_1cbfc0fa7fd8row3_col1\" class=\"data row3 col1\" >7356256.6679</td>\n",
       "                        <td id=\"T_64f4ecc7_1d6b_11eb_a2b4_1cbfc0fa7fd8row3_col2\" class=\"data row3 col2\" >2712.2420</td>\n",
       "                        <td id=\"T_64f4ecc7_1d6b_11eb_a2b4_1cbfc0fa7fd8row3_col3\" class=\"data row3 col3\" >0.7153</td>\n",
       "                        <td id=\"T_64f4ecc7_1d6b_11eb_a2b4_1cbfc0fa7fd8row3_col4\" class=\"data row3 col4\" >0.1060</td>\n",
       "                        <td id=\"T_64f4ecc7_1d6b_11eb_a2b4_1cbfc0fa7fd8row3_col5\" class=\"data row3 col5\" >0.0967</td>\n",
       "            </tr>\n",
       "            <tr>\n",
       "                        <th id=\"T_64f4ecc7_1d6b_11eb_a2b4_1cbfc0fa7fd8level0_row4\" class=\"row_heading level0 row4\" >4</th>\n",
       "                        <td id=\"T_64f4ecc7_1d6b_11eb_a2b4_1cbfc0fa7fd8row4_col0\" class=\"data row4 col0\" >2193.7659</td>\n",
       "                        <td id=\"T_64f4ecc7_1d6b_11eb_a2b4_1cbfc0fa7fd8row4_col1\" class=\"data row4 col1\" >6656065.4622</td>\n",
       "                        <td id=\"T_64f4ecc7_1d6b_11eb_a2b4_1cbfc0fa7fd8row4_col2\" class=\"data row4 col2\" >2579.9352</td>\n",
       "                        <td id=\"T_64f4ecc7_1d6b_11eb_a2b4_1cbfc0fa7fd8row4_col3\" class=\"data row4 col3\" >0.5406</td>\n",
       "                        <td id=\"T_64f4ecc7_1d6b_11eb_a2b4_1cbfc0fa7fd8row4_col4\" class=\"data row4 col4\" >0.0986</td>\n",
       "                        <td id=\"T_64f4ecc7_1d6b_11eb_a2b4_1cbfc0fa7fd8row4_col5\" class=\"data row4 col5\" >0.0862</td>\n",
       "            </tr>\n",
       "            <tr>\n",
       "                        <th id=\"T_64f4ecc7_1d6b_11eb_a2b4_1cbfc0fa7fd8level0_row5\" class=\"row_heading level0 row5\" >5</th>\n",
       "                        <td id=\"T_64f4ecc7_1d6b_11eb_a2b4_1cbfc0fa7fd8row5_col0\" class=\"data row5 col0\" >1741.8290</td>\n",
       "                        <td id=\"T_64f4ecc7_1d6b_11eb_a2b4_1cbfc0fa7fd8row5_col1\" class=\"data row5 col1\" >4433649.8674</td>\n",
       "                        <td id=\"T_64f4ecc7_1d6b_11eb_a2b4_1cbfc0fa7fd8row5_col2\" class=\"data row5 col2\" >2105.6234</td>\n",
       "                        <td id=\"T_64f4ecc7_1d6b_11eb_a2b4_1cbfc0fa7fd8row5_col3\" class=\"data row5 col3\" >0.4586</td>\n",
       "                        <td id=\"T_64f4ecc7_1d6b_11eb_a2b4_1cbfc0fa7fd8row5_col4\" class=\"data row5 col4\" >0.0832</td>\n",
       "                        <td id=\"T_64f4ecc7_1d6b_11eb_a2b4_1cbfc0fa7fd8row5_col5\" class=\"data row5 col5\" >0.0672</td>\n",
       "            </tr>\n",
       "            <tr>\n",
       "                        <th id=\"T_64f4ecc7_1d6b_11eb_a2b4_1cbfc0fa7fd8level0_row6\" class=\"row_heading level0 row6\" >6</th>\n",
       "                        <td id=\"T_64f4ecc7_1d6b_11eb_a2b4_1cbfc0fa7fd8row6_col0\" class=\"data row6 col0\" >2170.6975</td>\n",
       "                        <td id=\"T_64f4ecc7_1d6b_11eb_a2b4_1cbfc0fa7fd8row6_col1\" class=\"data row6 col1\" >6863672.1986</td>\n",
       "                        <td id=\"T_64f4ecc7_1d6b_11eb_a2b4_1cbfc0fa7fd8row6_col2\" class=\"data row6 col2\" >2619.8611</td>\n",
       "                        <td id=\"T_64f4ecc7_1d6b_11eb_a2b4_1cbfc0fa7fd8row6_col3\" class=\"data row6 col3\" >0.5880</td>\n",
       "                        <td id=\"T_64f4ecc7_1d6b_11eb_a2b4_1cbfc0fa7fd8row6_col4\" class=\"data row6 col4\" >0.1079</td>\n",
       "                        <td id=\"T_64f4ecc7_1d6b_11eb_a2b4_1cbfc0fa7fd8row6_col5\" class=\"data row6 col5\" >0.0955</td>\n",
       "            </tr>\n",
       "            <tr>\n",
       "                        <th id=\"T_64f4ecc7_1d6b_11eb_a2b4_1cbfc0fa7fd8level0_row7\" class=\"row_heading level0 row7\" >7</th>\n",
       "                        <td id=\"T_64f4ecc7_1d6b_11eb_a2b4_1cbfc0fa7fd8row7_col0\" class=\"data row7 col0\" >1756.3223</td>\n",
       "                        <td id=\"T_64f4ecc7_1d6b_11eb_a2b4_1cbfc0fa7fd8row7_col1\" class=\"data row7 col1\" >4593472.3877</td>\n",
       "                        <td id=\"T_64f4ecc7_1d6b_11eb_a2b4_1cbfc0fa7fd8row7_col2\" class=\"data row7 col2\" >2143.2388</td>\n",
       "                        <td id=\"T_64f4ecc7_1d6b_11eb_a2b4_1cbfc0fa7fd8row7_col3\" class=\"data row7 col3\" >0.6671</td>\n",
       "                        <td id=\"T_64f4ecc7_1d6b_11eb_a2b4_1cbfc0fa7fd8row7_col4\" class=\"data row7 col4\" >0.0850</td>\n",
       "                        <td id=\"T_64f4ecc7_1d6b_11eb_a2b4_1cbfc0fa7fd8row7_col5\" class=\"data row7 col5\" >0.0696</td>\n",
       "            </tr>\n",
       "            <tr>\n",
       "                        <th id=\"T_64f4ecc7_1d6b_11eb_a2b4_1cbfc0fa7fd8level0_row8\" class=\"row_heading level0 row8\" >8</th>\n",
       "                        <td id=\"T_64f4ecc7_1d6b_11eb_a2b4_1cbfc0fa7fd8row8_col0\" class=\"data row8 col0\" >2040.4414</td>\n",
       "                        <td id=\"T_64f4ecc7_1d6b_11eb_a2b4_1cbfc0fa7fd8row8_col1\" class=\"data row8 col1\" >5870066.4685</td>\n",
       "                        <td id=\"T_64f4ecc7_1d6b_11eb_a2b4_1cbfc0fa7fd8row8_col2\" class=\"data row8 col2\" >2422.8220</td>\n",
       "                        <td id=\"T_64f4ecc7_1d6b_11eb_a2b4_1cbfc0fa7fd8row8_col3\" class=\"data row8 col3\" >0.6931</td>\n",
       "                        <td id=\"T_64f4ecc7_1d6b_11eb_a2b4_1cbfc0fa7fd8row8_col4\" class=\"data row8 col4\" >0.0944</td>\n",
       "                        <td id=\"T_64f4ecc7_1d6b_11eb_a2b4_1cbfc0fa7fd8row8_col5\" class=\"data row8 col5\" >0.0788</td>\n",
       "            </tr>\n",
       "            <tr>\n",
       "                        <th id=\"T_64f4ecc7_1d6b_11eb_a2b4_1cbfc0fa7fd8level0_row9\" class=\"row_heading level0 row9\" >9</th>\n",
       "                        <td id=\"T_64f4ecc7_1d6b_11eb_a2b4_1cbfc0fa7fd8row9_col0\" class=\"data row9 col0\" >1961.6686</td>\n",
       "                        <td id=\"T_64f4ecc7_1d6b_11eb_a2b4_1cbfc0fa7fd8row9_col1\" class=\"data row9 col1\" >5461980.8989</td>\n",
       "                        <td id=\"T_64f4ecc7_1d6b_11eb_a2b4_1cbfc0fa7fd8row9_col2\" class=\"data row9 col2\" >2337.0881</td>\n",
       "                        <td id=\"T_64f4ecc7_1d6b_11eb_a2b4_1cbfc0fa7fd8row9_col3\" class=\"data row9 col3\" >0.8162</td>\n",
       "                        <td id=\"T_64f4ecc7_1d6b_11eb_a2b4_1cbfc0fa7fd8row9_col4\" class=\"data row9 col4\" >0.0915</td>\n",
       "                        <td id=\"T_64f4ecc7_1d6b_11eb_a2b4_1cbfc0fa7fd8row9_col5\" class=\"data row9 col5\" >0.0779</td>\n",
       "            </tr>\n",
       "            <tr>\n",
       "                        <th id=\"T_64f4ecc7_1d6b_11eb_a2b4_1cbfc0fa7fd8level0_row10\" class=\"row_heading level0 row10\" >Mean</th>\n",
       "                        <td id=\"T_64f4ecc7_1d6b_11eb_a2b4_1cbfc0fa7fd8row10_col0\" class=\"data row10 col0\" >2096.0079</td>\n",
       "                        <td id=\"T_64f4ecc7_1d6b_11eb_a2b4_1cbfc0fa7fd8row10_col1\" class=\"data row10 col1\" >6025157.5327</td>\n",
       "                        <td id=\"T_64f4ecc7_1d6b_11eb_a2b4_1cbfc0fa7fd8row10_col2\" class=\"data row10 col2\" >2446.0057</td>\n",
       "                        <td id=\"T_64f4ecc7_1d6b_11eb_a2b4_1cbfc0fa7fd8row10_col3\" class=\"data row10 col3\" >0.6437</td>\n",
       "                        <td id=\"T_64f4ecc7_1d6b_11eb_a2b4_1cbfc0fa7fd8row10_col4\" class=\"data row10 col4\" >0.0955</td>\n",
       "                        <td id=\"T_64f4ecc7_1d6b_11eb_a2b4_1cbfc0fa7fd8row10_col5\" class=\"data row10 col5\" >0.0831</td>\n",
       "            </tr>\n",
       "            <tr>\n",
       "                        <th id=\"T_64f4ecc7_1d6b_11eb_a2b4_1cbfc0fa7fd8level0_row11\" class=\"row_heading level0 row11\" >SD</th>\n",
       "                        <td id=\"T_64f4ecc7_1d6b_11eb_a2b4_1cbfc0fa7fd8row11_col0\" class=\"data row11 col0\" >207.5253</td>\n",
       "                        <td id=\"T_64f4ecc7_1d6b_11eb_a2b4_1cbfc0fa7fd8row11_col1\" class=\"data row11 col1\" >991475.7317</td>\n",
       "                        <td id=\"T_64f4ecc7_1d6b_11eb_a2b4_1cbfc0fa7fd8row11_col2\" class=\"data row11 col2\" >205.4596</td>\n",
       "                        <td id=\"T_64f4ecc7_1d6b_11eb_a2b4_1cbfc0fa7fd8row11_col3\" class=\"data row11 col3\" >0.0935</td>\n",
       "                        <td id=\"T_64f4ecc7_1d6b_11eb_a2b4_1cbfc0fa7fd8row11_col4\" class=\"data row11 col4\" >0.0079</td>\n",
       "                        <td id=\"T_64f4ecc7_1d6b_11eb_a2b4_1cbfc0fa7fd8row11_col5\" class=\"data row11 col5\" >0.0097</td>\n",
       "            </tr>\n",
       "    </tbody></table>"
      ],
      "text/plain": [
       "<pandas.io.formats.style.Styler at 0x1a9003389a0>"
      ]
     },
     "metadata": {},
     "output_type": "display_data"
    }
   ],
   "source": [
    "tuned_model = tune_model(modelo, optimize='R2')"
   ]
  },
  {
   "cell_type": "code",
   "execution_count": 67,
   "metadata": {
    "ExecuteTime": {
     "end_time": "2020-11-03T00:27:49.161944Z",
     "start_time": "2020-11-03T00:27:49.125043Z"
    }
   },
   "outputs": [
    {
     "data": {
      "application/vnd.jupyter.widget-view+json": {
       "model_id": "1818ef6069c74f9291444851b7eed90a",
       "version_major": 2,
       "version_minor": 0
      },
      "text/plain": [
       "interactive(children=(ToggleButtons(description='Plot Type:', icons=('',), options=(('Hyperparameters', 'param…"
      ]
     },
     "metadata": {},
     "output_type": "display_data"
    }
   ],
   "source": [
    "evaluate_model(tuned_model)"
   ]
  },
  {
   "cell_type": "markdown",
   "metadata": {},
   "source": [
    "# <font color='red' style='font-size: 30px;'>Análises gráficas das previsões do melhor modelo</font>\n",
    "<hr style='border: 2px solid red;'>"
   ]
  },
  {
   "cell_type": "code",
   "execution_count": 68,
   "metadata": {
    "ExecuteTime": {
     "end_time": "2020-11-03T00:30:36.939827Z",
     "start_time": "2020-11-03T00:30:36.935838Z"
    }
   },
   "outputs": [],
   "source": [
    "y = dados['consumo']"
   ]
  },
  {
   "cell_type": "code",
   "execution_count": 69,
   "metadata": {
    "ExecuteTime": {
     "end_time": "2020-11-03T00:30:38.323550Z",
     "start_time": "2020-11-03T00:30:38.309560Z"
    }
   },
   "outputs": [],
   "source": [
    "x = dados[['temp_max', 'chuva', 'fds']]"
   ]
  },
  {
   "cell_type": "code",
   "execution_count": 70,
   "metadata": {
    "ExecuteTime": {
     "end_time": "2020-11-03T00:30:39.654843Z",
     "start_time": "2020-11-03T00:30:39.639838Z"
    }
   },
   "outputs": [],
   "source": [
    "x_train, x_test, y_train, y_test = train_test_split(x, y, test_size=0.3, random_state=10)"
   ]
  },
  {
   "cell_type": "code",
   "execution_count": 71,
   "metadata": {
    "ExecuteTime": {
     "end_time": "2020-11-03T00:30:40.982871Z",
     "start_time": "2020-11-03T00:30:40.968727Z"
    }
   },
   "outputs": [],
   "source": [
    "modelo = ElasticNet(alpha=0.05, l1_ratio=0.9)"
   ]
  },
  {
   "cell_type": "code",
   "execution_count": 72,
   "metadata": {
    "ExecuteTime": {
     "end_time": "2020-11-03T00:30:44.205885Z",
     "start_time": "2020-11-03T00:30:44.185938Z"
    }
   },
   "outputs": [],
   "source": [
    "modelo.fit(x_train, y_train)\n",
    "y_previsto = search.predict(x_test)"
   ]
  },
  {
   "cell_type": "code",
   "execution_count": 91,
   "metadata": {
    "ExecuteTime": {
     "end_time": "2020-11-03T00:39:25.164061Z",
     "start_time": "2020-11-03T00:39:24.953606Z"
    }
   },
   "outputs": [
    {
     "data": {
      "text/plain": [
       "<matplotlib.axes._subplots.AxesSubplot at 0x1a90d19e0d0>"
      ]
     },
     "execution_count": 91,
     "metadata": {},
     "output_type": "execute_result"
    },
    {
     "data": {
      "image/png": "[encoded data removed]",
      "text/plain": [
       "<Figure size 864x432 with 1 Axes>"
      ]
     },
     "metadata": {},
     "output_type": "display_data"
    }
   ],
   "source": [
    "y_previsto_train = modelo.predict(x_train)\n",
    "\n",
    "ax = sns.scatterplot(x=y_previsto_train, y=y_train)\n",
    "ax.figure.set_size_inches(12, 6)\n",
    "ax.set_title('Previsão X Real', fontsize=18)\n",
    "ax.set_xlabel('Consumo de Cerveja (litros) - Previsão', fontsize=14)\n",
    "ax.set_ylabel('Consumo de Cerveja (litros) - Real', fontsize=14)\n",
    "ax.plot([15000, 40000], [15000, 40000])\n",
    "ax"
   ]
  },
  {
   "cell_type": "code",
   "execution_count": 77,
   "metadata": {
    "ExecuteTime": {
     "end_time": "2020-11-03T00:32:52.998882Z",
     "start_time": "2020-11-03T00:32:52.779753Z"
    }
   },
   "outputs": [
    {
     "data": {
      "text/plain": [
       "<matplotlib.axes._subplots.AxesSubplot at 0x1a9045e5490>"
      ]
     },
     "execution_count": 77,
     "metadata": {},
     "output_type": "execute_result"
    },
    {
     "data": {
      "image/png": "[encoded data removed]",
      "text/plain": [
       "<Figure size 1440x576 with 1 Axes>"
      ]
     },
     "metadata": {},
     "output_type": "display_data"
    }
   ],
   "source": [
    "residuo = y_train - y_previsto_train\n",
    "\n",
    "ax = sns.scatterplot(x=y_previsto_train, y=residuo, s=150)\n",
    "ax.figure.set_size_inches(20, 8)\n",
    "ax.set_title('Resíduos X Real', fontsize=18)\n",
    "ax.set_xlabel('Consumo de Cerveja (litros) - Previsão', fontsize=14)\n",
    "ax.set_ylabel('Resíduos', fontsize=14)\n",
    "ax"
   ]
  },
  {
   "cell_type": "code",
   "execution_count": 75,
   "metadata": {
    "ExecuteTime": {
     "end_time": "2020-11-03T00:31:32.479215Z",
     "start_time": "2020-11-03T00:31:32.246836Z"
    }
   },
   "outputs": [
    {
     "data": {
      "text/plain": [
       "<matplotlib.axes._subplots.AxesSubplot at 0x1a904869f70>"
      ]
     },
     "execution_count": 75,
     "metadata": {},
     "output_type": "execute_result"
    },
    {
     "data": {
      "image/png": "[encoded data removed]",
      "text/plain": [
       "<Figure size 1440x576 with 1 Axes>"
      ]
     },
     "metadata": {},
     "output_type": "display_data"
    }
   ],
   "source": [
    "ax = sns.distplot(residuo)\n",
    "ax.figure.set_size_inches(20, 8)\n",
    "ax.set_title('Distribuição de Frequências dos Resíduos', fontsize=18)\n",
    "ax.set_xlabel('Litros', fontsize=14)\n",
    "ax"
   ]
  },
  {
   "cell_type": "code",
   "execution_count": 76,
   "metadata": {
    "ExecuteTime": {
     "end_time": "2020-11-03T00:31:34.046883Z",
     "start_time": "2020-11-03T00:31:33.828468Z"
    }
   },
   "outputs": [
    {
     "data": {
      "text/plain": [
       "<matplotlib.axes._subplots.AxesSubplot at 0x1a900579f40>"
      ]
     },
     "execution_count": 76,
     "metadata": {},
     "output_type": "execute_result"
    },
    {
     "data": {
      "image/png": "[encoded data removed]",
      "text/plain": [
       "<Figure size 1440x576 with 1 Axes>"
      ]
     },
     "metadata": {},
     "output_type": "display_data"
    }
   ],
   "source": [
    "ax = sns.scatterplot(x=y_previsto_train, y=residuo**2, s=150)\n",
    "ax.figure.set_size_inches(20, 8)\n",
    "ax.set_title('Resíduos X Real', fontsize=18)\n",
    "ax.set_xlabel('Consumo de Cerveja (litros) - Previsçao', fontsize=14)\n",
    "ax.set_ylabel('Resíduos²', fontsize=14)\n",
    "ax"
   ]
  }
 ],
 "metadata": {
  "kernelspec": {
   "display_name": "Python 3",
   "language": "python",
   "name": "python3"
  },
  "language_info": {
   "codemirror_mode": {
    "name": "ipython",
    "version": 3
   },
   "file_extension": ".py",
   "mimetype": "text/x-python",
   "name": "python",
   "nbconvert_exporter": "python",
   "pygments_lexer": "ipython3",
   "version": "3.8.3"
  },
  "varInspector": {
   "cols": {
    "lenName": 16,
    "lenType": 16,
    "lenVar": 40
   },
   "kernels_config": {
    "python": {
     "delete_cmd_postfix": "",
     "delete_cmd_prefix": "del ",
     "library": "var_list.py",
     "varRefreshCmd": "print(var_dic_list())"
    },
    "r": {
     "delete_cmd_postfix": ") ",
     "delete_cmd_prefix": "rm(",
     "library": "var_list.r",
     "varRefreshCmd": "cat(var_dic_list()) "
    }
   },
   "types_to_exclude": [
    "module",
    "function",
    "builtin_function_or_method",
    "instance",
    "_Feature"
   ],
   "window_display": false
  }
 },
 "nbformat": 4,
 "nbformat_minor": 2
}
